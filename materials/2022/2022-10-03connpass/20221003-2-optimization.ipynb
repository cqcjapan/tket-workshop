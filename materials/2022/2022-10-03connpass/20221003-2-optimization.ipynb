{
 "cells": [
  {
   "cell_type": "markdown",
   "id": "8125bad0-950f-4ce8-8363-8a5a77cfea18",
   "metadata": {},
   "source": [
    "# 量子回路最適化\n",
    "## (Quantinuum / Cambridge Quantum Computing)"
   ]
  },
  {
   "cell_type": "markdown",
   "id": "9fec5956-6558-4186-a6f3-d35bffbb06ef",
   "metadata": {},
   "source": [
    "## 5. 量子回路の最適化 Part2\n",
    "\n",
    "これまで、`PauliSimp`関数や`get_compiled_circuit`の紹介を行ったが、tketにはその他にも多くの量子回路を最適化するための機能が備わっている。\n",
    "\n",
    "ここでは\n",
    "### 5-1. 事前に定義されている量子回路の最適化\n",
    "a. 非量子デバイス依存の量子回路の最適化:\n",
    "    `FullPeepholeOptimise` \n",
    "    `PauliSquash` \n",
    "   \n",
    "b. 量子デバイス依存の量子回路の最適化:\n",
    "    `default_compilation_pass`\n",
    "\n",
    "### 5-2. いくつかの量子回路の最適化関数や変換\n",
    "a. `CliffordSimp`,\n",
    "\n",
    "b. `RemoveRedundancies`, \n",
    "\n",
    "c. `CommuteThroughMultis`, \n",
    "\n",
    "d. `EulerAngleReduction`,\n",
    "\n",
    "### 5-3. 量子回路の最適化のカスタマイズ (オプション)\n",
    "- `SequencePass`\n",
    "\n",
    "について紹介する。\n",
    "\n",
    "#### 参照\n",
    "- [pytket ドキュメント](https://cqcl.github.io/tket/pytket/api/index.html)\n",
    "- [pytket ユーザーマニュアル](https://cqcl.github.io/pytket/manual/index.html)\n"
   ]
  },
  {
   "cell_type": "code",
   "execution_count": null,
   "id": "a0224fbb-423d-41d0-89f6-5e884f4de73b",
   "metadata": {},
   "outputs": [],
   "source": [
    "import warnings\n",
    "warnings.filterwarnings('ignore')"
   ]
  },
  {
   "cell_type": "markdown",
   "id": "67a76d4c-227b-4c1d-9e64-8309a8141858",
   "metadata": {},
   "source": [
    "### 5-0. 量子回路の準備\n",
    "ランダムなゲートの選択によって量子回路を生成し、回路の深さとCXの深さを数える。"
   ]
  },
  {
   "cell_type": "code",
   "execution_count": null,
   "id": "50d57cfe-08eb-4c1c-ac8b-48462fc2d82d",
   "metadata": {},
   "outputs": [],
   "source": [
    "from pytket import Circuit\n",
    "from pytket.circuit.display import render_circuit_jupyter\n",
    "from pytket.circuit import OpType\n",
    "from pytket.pauli import Pauli\n",
    "from pytket.circuit import PauliExpBox, fresh_symbol, OpType\n",
    "from pytket.passes import DecomposeBoxes\n",
    "box = PauliExpBox([Pauli.I, Pauli.Z, Pauli.X, Pauli.Y], fresh_symbol('tm'))\n",
    "from pytket.utils import Graph\n",
    "import numpy as np"
   ]
  },
  {
   "cell_type": "code",
   "execution_count": null,
   "id": "a085a8d6-9567-4b69-b89d-545b2dbf61f0",
   "metadata": {},
   "outputs": [],
   "source": [
    "def random_circuit(\n",
    "    n_qubits, depth, max_ops=3, measure=False, seed=None\n",
    "):\n",
    "    if max_ops < 1 or max_ops > 3:\n",
    "        raise print(\"max_ops must be between 1 and 3\")\n",
    "    op1types = [OpType.X, OpType.Y, OpType.Z, OpType.H, OpType.S, OpType.Sdg, OpType.T, OpType.Tdg, OpType.V, OpType.Vdg]\n",
    "    op2types = [OpType.CX, OpType.CY, OpType.CZ, OpType.CV, OpType.CVdg, OpType.CH]\n",
    "    op3types = [OpType.CCX]\n",
    "    circ = Circuit(n_qubits)\n",
    "    if seed is None:\n",
    "        rng = np.random.default_rng()\n",
    "    else:\n",
    "        rng = np.random.default_rng(seed)\n",
    "    for _ in range(depth):\n",
    "        choose_qubits = list(range(n_qubits))\n",
    "        rng.shuffle(choose_qubits)\n",
    "        while choose_qubits:\n",
    "            max_possible = min(len(choose_qubits), max_ops)\n",
    "            n_ops = rng.choice(range(max_possible)) + 1\n",
    "            ops = [choose_qubits.pop() for _ in range(n_ops)]\n",
    "            if n_ops == 1:\n",
    "                ope = rng.choice(op1types)\n",
    "            elif n_ops == 2:\n",
    "                ope = rng.choice(op2types)\n",
    "            elif n_ops == 3:\n",
    "                ope = rng.choice(op3types)\n",
    "            circ.add_gate(ope, ops)\n",
    "    if measure:\n",
    "        circ.measure_all()\n",
    "    return circ\n",
    "\n",
    "def random_circuit_para(\n",
    "    n_qubits, depth, max_ops=3, measure=False, seed=None\n",
    "):\n",
    "    if max_ops < 1 or max_ops > 3:\n",
    "        raise print(\"max_ops must be between 1 and 3\")\n",
    "    op1types = [OpType.X, OpType.Y, OpType.Z, OpType.H, OpType.S, OpType.Sdg, OpType.T, OpType.Tdg, OpType.V, OpType.Vdg, OpType.Rx, OpType.Ry, OpType.Rz]\n",
    "    op2types = [OpType.XXPhase, OpType.YYPhase, OpType.ZZPhase, OpType.CX, OpType.CY, OpType.CZ, OpType.CV, OpType.CVdg, OpType.CH, OpType.CRx, OpType.CRy, OpType.CRz]\n",
    "    op3types = [OpType.CCX]\n",
    "    para1 = [OpType.Rx, OpType.Ry, OpType.Rz, OpType.CRx, OpType.CRy, OpType.CRz, OpType.XXPhase, OpType.YYPhase, OpType.ZZPhase]\n",
    "    circ = Circuit(n_qubits)\n",
    "    if seed is None:\n",
    "        rng = np.random.default_rng()\n",
    "    else:\n",
    "        rng = np.random.default_rng(seed)\n",
    "    for _ in range(depth):\n",
    "        choose_qubits = list(range(n_qubits))\n",
    "        rng.shuffle(choose_qubits)\n",
    "        while choose_qubits:\n",
    "            max_possible = min(len(choose_qubits), max_ops)\n",
    "            n_ops = rng.choice(range(max_possible)) + 1\n",
    "            ops = [choose_qubits.pop() for _ in range(n_ops)]\n",
    "            if n_ops == 1:\n",
    "                ope = rng.choice(op1types)\n",
    "            elif n_ops == 2:\n",
    "                ope = rng.choice(op2types)\n",
    "            elif n_ops == 3:\n",
    "                ope = rng.choice(op3types)\n",
    "            if ope in para1:\n",
    "                circ.add_gate(ope, rng.uniform(0, 2 * np.pi), ops)\n",
    "            else:\n",
    "                circ.add_gate(ope, ops)\n",
    "    if measure:\n",
    "        circ.measure_all()\n",
    "    return circ\n",
    "\n",
    "def get_random_pauli_gadgets(n_qubits, n_pauli_gadgets, max_entangle):\n",
    "    paulis = [Pauli.I, Pauli.X, Pauli.Y, Pauli.Z]\n",
    "    circ = Circuit(n_qubits)\n",
    "    for i in range(n_pauli_gadgets):\n",
    "        ls_paulis = [np.random.choice(paulis) for k in range(max_entangle)]\n",
    "        if ls_paulis.count(Pauli.Y) % 2 == 0:\n",
    "            continue\n",
    "        if len(ls_paulis) - ls_paulis.count(Pauli.I) <= 1:\n",
    "            continue\n",
    "        qubits = np.random.choice(\n",
    "            [i for i in range(n_qubits)], size=max_entangle, replace=False\n",
    "        )\n",
    "        box = PauliExpBox(ls_paulis, fresh_symbol('a'))\n",
    "        circ.add_pauliexpbox(box, sorted(qubits))\n",
    "    DecomposeBoxes().apply(circ)\n",
    "    return circ"
   ]
  },
  {
   "cell_type": "markdown",
   "id": "fa514525-2182-4a7a-8279-fd4784244172",
   "metadata": {
    "tags": []
   },
   "source": [
    "### 深さ100のランダムな量子回路を生成"
   ]
  },
  {
   "cell_type": "code",
   "execution_count": null,
   "id": "107fea66-1488-498a-8176-237be7aa637a",
   "metadata": {},
   "outputs": [],
   "source": [
    "circ1 = random_circuit(n_qubits=2, depth=100, max_ops=1)\n",
    "circ2 = random_circuit(n_qubits=4, depth=100, max_ops=2)\n",
    "circ3 = random_circuit(n_qubits=4, depth=100, max_ops=3)\n",
    "print('Circuit depth: ', circ1.depth())\n",
    "print('Control depth: ', circ1.depth_by_type({OpType.CX, OpType.CY, OpType.CZ, OpType.CV, OpType.CVdg, OpType.CH}))\n",
    "render_circuit_jupyter(circ1)\n",
    "print('Circuit depth: ', circ2.depth())\n",
    "print('Control depth: ', circ2.depth_by_type({OpType.CX, OpType.CY, OpType.CZ, OpType.CV, OpType.CVdg, OpType.CH}))\n",
    "render_circuit_jupyter(circ2)\n",
    "print('Circuit depth: ', circ3.depth())\n",
    "print('Control depth: ', circ3.depth_by_type({OpType.CX, OpType.CY, OpType.CZ, OpType.CV, OpType.CVdg, OpType.CH}))\n",
    "print('CCX depth: ', circ3.depth_by_type(OpType.CCX))\n",
    "render_circuit_jupyter(circ3)"
   ]
  },
  {
   "cell_type": "markdown",
   "id": "7fad8e3c-4efa-4d2c-be41-586e350323c9",
   "metadata": {},
   "source": [
    "### 5-1. 事前に定義されている量子回路の最適化"
   ]
  },
  {
   "cell_type": "markdown",
   "id": "c034aa40-a5c2-44d9-9168-d0e9a9c82d7e",
   "metadata": {},
   "source": [
    "### a. 事前に定義されている量子回路の最適化(非量子デバイス依存): `FullPeepholeOptimise`\n",
    "`FullPeepholeOptimise`は`CliffordSimp`, `RemoveRedundancies`, `CommuteThroughMultis`, `KAKDecomposition`, `EulerAngleReduction`から構成されている量子回路最適化です。\n",
    "こちらは、量子デバイスが用意しているゲートセットやアーキテクチャー等を考慮せずに最適化されます。"
   ]
  },
  {
   "cell_type": "markdown",
   "id": "52002d59-994c-4a90-9552-bc3ee415fd11",
   "metadata": {},
   "source": [
    "3.1で、`PauliSimp` 関数を利用した時と同様にして、`FullPeepholeOptimise`を利用することができます。"
   ]
  },
  {
   "cell_type": "code",
   "execution_count": null,
   "id": "fd0e53b9-2016-4daf-8d95-0d4f6cb7ede1",
   "metadata": {},
   "outputs": [],
   "source": [
    "from pytket.passes import FullPeepholeOptimise\n",
    "circ1x=circ1.copy()\n",
    "FullPeepholeOptimise().apply(circ1x)\n",
    "print('Circuit depth: ', circ1x.depth())\n",
    "print('CX depth: ', circ1x.depth_by_type(OpType.CX))\n",
    "render_circuit_jupyter(circ1x)\n",
    "circ2x=circ2.copy()\n",
    "FullPeepholeOptimise().apply(circ2x)\n",
    "print('Circuit depth: ', circ2x.depth())\n",
    "print('CX depth: ', circ2x.depth_by_type(OpType.CX))\n",
    "render_circuit_jupyter(circ2x)\n",
    "circ3x=circ3.copy()\n",
    "FullPeepholeOptimise().apply(circ3x)\n",
    "print('Circuit depth: ', circ3x.depth())\n",
    "print('CX depth: ', circ3x.depth_by_type(OpType.CX))\n",
    "print('CCX depth: ', circ3x.depth_by_type(OpType.CCX))\n",
    "render_circuit_jupyter(circ3x)"
   ]
  },
  {
   "cell_type": "markdown",
   "id": "a87dc5d0-64e7-43f8-b0ed-eba7f4519db3",
   "metadata": {},
   "source": [
    "ここで、$\\mathrm{TK1}(\\alpha,\\beta,\\gamma)$はオイラー角\n",
    "$$\n",
    "Rz(\\alpha)Rx(\\beta)Rz(\\gamma):=e^{-\\frac{1}{2}i\\pi\\alpha Z}e^{-\\frac{1}{2}i\\pi\\beta X}e^{-\\frac{1}{2}i\\pi\\gamma Z}\n",
    "$$\n",
    "を表す"
   ]
  },
  {
   "cell_type": "markdown",
   "id": "eb3c5f34-0c97-41f3-a935-2c6768778f53",
   "metadata": {},
   "source": [
    "### a. 事前に定義されている量子回路の最適化(非量子デバイス依存): `PauliSquash`\n",
    "`PauliSquash`=`PauliSimp`+`FullPeepholeOptimise`"
   ]
  },
  {
   "cell_type": "code",
   "execution_count": null,
   "id": "517ca71f-7fb3-49ed-b2e7-f5dbfd5c3fb2",
   "metadata": {},
   "outputs": [],
   "source": [
    "circg = get_random_pauli_gadgets(n_qubits=4, n_pauli_gadgets=100, max_entangle=3)\n",
    "print('Circuit depth: ', circg.depth())\n",
    "print('CX depth: ', circg.depth_by_type(OpType.CX))\n",
    "render_circuit_jupyter(circg)"
   ]
  },
  {
   "cell_type": "code",
   "execution_count": null,
   "id": "3174c62c-48f8-4f2b-862b-8fe146fdeacd",
   "metadata": {},
   "outputs": [],
   "source": [
    "from pytket.passes import PauliSimp, PauliSquash\n",
    "circgSi = circg.copy()\n",
    "circgSq = circg.copy()\n",
    "PauliSimp().apply(circgSi)\n",
    "print('Circuit depth: ', circgSi.depth())\n",
    "print('CX depth: ', circgSi.depth_by_type(OpType.CX))\n",
    "render_circuit_jupyter(circgSi)\n",
    "PauliSquash().apply(circgSq)\n",
    "print('Circuit depth: ', circgSq.depth())\n",
    "print('CX depth: ', circgSq.depth_by_type(OpType.CX))\n",
    "render_circuit_jupyter(circgSq)"
   ]
  },
  {
   "cell_type": "markdown",
   "id": "bc8f9b89-bf0a-4954-8645-0f1f8d085cb0",
   "metadata": {
    "tags": []
   },
   "source": [
    "### b. 事前に定義されている量子回路の最適化(量子デバイス依存): `get_compiled_circuit`\n",
    "tketでは非量子デバイス依存の量子回路の最適化だけでなく、量子デバイス毎に用意されている量子回路の最適化が用意されてます。\n",
    "こちらは、量子デバイスが用意しているゲートセットやアーキテクチャー等を考慮した量子回路の最適化です。\n",
    "\n",
    "Optimisationのレベルを0,1,2から選択でき、それぞれ以下のようになっています。\n",
    "\n",
    "レベル1がデフォルト。\n",
    "\n",
    "|  レベル |  概要  |\n",
    "| :---- | :---- |\n",
    "|  0  | Just solves the constraints as simply as possible. No optimisation. |\n",
    "|  1  | Adds basic optimisations (those covered by the SynthesiseX() passes) for efficient compilation. |\n",
    "|  2  | Extends to more intensive optimisations (those covered by the FullPeepholeOptimise() pass). |"
   ]
  },
  {
   "cell_type": "markdown",
   "id": "dc2581c3-d11f-427f-8dfd-9c3986405f1c",
   "metadata": {},
   "source": [
    "### IBMのシミュレータにジョブを実行するための最適化"
   ]
  },
  {
   "cell_type": "code",
   "execution_count": null,
   "id": "6837f103-077a-4af9-9e07-63150292e14f",
   "metadata": {},
   "outputs": [],
   "source": [
    "from pytket.extensions.qiskit import AerBackend\n",
    "backend = AerBackend()\n",
    "circ2x0 = circ2x.copy()\n",
    "circ2c0 = backend.get_compiled_circuit(circ2x0,optimisation_level=0)\n",
    "print('Level 0')\n",
    "print('Circuit depth: ', circ2x0.depth())\n",
    "print('CX depth: ', circ2x0.depth_by_type(OpType.CX))\n",
    "render_circuit_jupyter(circ2x0)\n",
    "circ2x1 = circ2x.copy()\n",
    "circ2x1 = backend.get_compiled_circuit(circ2x1,optimisation_level=1)\n",
    "print('Level 1')\n",
    "print('Circuit depth: ', circ2x1.depth())\n",
    "print('CX depth: ', circ2x1.depth_by_type(OpType.CX))\n",
    "render_circuit_jupyter(circ2x1)\n",
    "circ2x2 = circ2x.copy()\n",
    "circ2x2 = backend.get_compiled_circuit(circ2x2,optimisation_level=2)\n",
    "print('Level 2')\n",
    "print('Circuit depth: ', circ2x2.depth())\n",
    "print('CX depth: ', circ2x2.depth_by_type(OpType.CX))\n",
    "render_circuit_jupyter(circ2x2)"
   ]
  },
  {
   "cell_type": "code",
   "execution_count": null,
   "id": "ead226dc-ba9e-4307-971d-dd9c72414c54",
   "metadata": {},
   "outputs": [],
   "source": [
    "from qiskit.visualization import plot_histogram\n",
    "circ2x2.measure_all()\n",
    "handle = backend.process_circuit(circ2x2, n_shots =100)\n",
    "result_counts = backend.get_result(handle).get_counts()\n",
    "plot_histogram(result_counts)"
   ]
  },
  {
   "cell_type": "markdown",
   "id": "fcb835ea-3735-44df-813d-11449be86a00",
   "metadata": {
    "tags": []
   },
   "source": [
    "### IBMのクラウドシミュレータにジョブを実行ための最適化"
   ]
  },
  {
   "cell_type": "code",
   "execution_count": null,
   "id": "211d2504-41ed-4de2-899e-ec941ef0d66d",
   "metadata": {},
   "outputs": [],
   "source": [
    "path = 'key/ibm-token'\n",
    "f = open(path)\n",
    "ibm_token = f.read()\n",
    "f.close()\n",
    "from pytket.extensions.qiskit.backends.config import set_ibmq_config\n",
    "set_ibmq_config(ibmq_api_token=ibm_token)"
   ]
  },
  {
   "cell_type": "code",
   "execution_count": null,
   "id": "9b416984-d525-410d-b9f0-2dd7d820c056",
   "metadata": {},
   "outputs": [],
   "source": [
    "from pytket.extensions.qiskit import IBMQBackend, IBMQEmulatorBackend\n",
    "backend = IBMQBackend(\"ibmq_qasm_simulator\")\n",
    "circ2x0 = circ2x.copy()\n",
    "circ2c0 = backend.get_compiled_circuit(circ2x0,optimisation_level=0)\n",
    "print('Level 0')\n",
    "print('Circuit depth: ', circ2x0.depth())\n",
    "print('CX depth: ', circ2x0.depth_by_type(OpType.CX))\n",
    "render_circuit_jupyter(circ2x0)\n",
    "circ2x1 = circ2x.copy()\n",
    "circ2x1 = backend.get_compiled_circuit(circ2x1,optimisation_level=1)\n",
    "print('Level 1')\n",
    "print('Circuit depth: ', circ2x1.depth())\n",
    "print('CX depth: ', circ2x1.depth_by_type(OpType.CX))\n",
    "render_circuit_jupyter(circ2x1)\n",
    "circ2x2 = circ2x.copy()\n",
    "circ2x2 = backend.get_compiled_circuit(circ2x2,optimisation_level=2)\n",
    "print('Level 2')\n",
    "print('Circuit depth: ', circ2x2.depth())\n",
    "print('CX depth: ', circ2x2.depth_by_type(OpType.CX))\n",
    "render_circuit_jupyter(circ2x2)"
   ]
  },
  {
   "cell_type": "code",
   "execution_count": null,
   "id": "9974412b-ce13-4b56-a290-d1be31ad2e4b",
   "metadata": {},
   "outputs": [],
   "source": [
    "circ2x2.measure_all()\n",
    "handle = backend.process_circuit(circ2x2, n_shots =100)\n",
    "result_counts = backend.get_result(handle).get_counts()\n",
    "plot_histogram(result_counts)"
   ]
  },
  {
   "cell_type": "markdown",
   "id": "093584e7-69dd-4e30-9300-de88f557c6d9",
   "metadata": {},
   "source": [
    "circ2x0はシミュレータのゲートセットで記述されていないので、下記の実行ではエラーが生じる"
   ]
  },
  {
   "cell_type": "code",
   "execution_count": null,
   "id": "4013dad8-2fe0-400b-9c47-9128ff99558d",
   "metadata": {},
   "outputs": [],
   "source": [
    "circ2x0.measure_all()\n",
    "handle = backend.process_circuit(circ2x0, n_shots =100)\n",
    "result_counts = backend.get_result(handle).get_counts()\n",
    "plot_histogram(result_counts)"
   ]
  },
  {
   "cell_type": "markdown",
   "id": "bb628c46-9a18-4e55-b152-9e2225614084",
   "metadata": {},
   "source": [
    "### IBMのクラウドシミュレータ（ibmq_lima）にジョブを実行ための最適化\n",
    "<img src=\"fig/lima.png\" width=\"250\">"
   ]
  },
  {
   "cell_type": "markdown",
   "id": "1996f71f-2262-46ce-8bed-1bfbc46f7c44",
   "metadata": {},
   "source": [
    "ibmq_limaは(1,4),(2,3),(2,4)等の量子ビットが結合していないため、これらの２量子ビット間の量子ゲートは準備されていない。\n",
    "\n",
    "(2,3)の量子ビットにCXゲートを作用させたい場合には、(1,2),(1,3)のSWAPゲートを利用して、(2,3)のCXゲートを構成する必要がある。\n",
    "\n",
    "tketの最適化では、これを自動的に構成してくれる。\n",
    "\n"
   ]
  },
  {
   "cell_type": "code",
   "execution_count": null,
   "id": "6bc82dc1-ec95-4fc6-b444-9e2b8aa59137",
   "metadata": {},
   "outputs": [],
   "source": [
    "backend = IBMQEmulatorBackend(\"ibmq_lima\")\n",
    "circ2x0 = circ2x.copy()\n",
    "circ2c0 = backend.get_compiled_circuit(circ2x0,optimisation_level=0)\n",
    "print('Level 0')\n",
    "print('Circuit depth: ', circ2x0.depth())\n",
    "print('CX depth: ', circ2x0.depth_by_type(OpType.CX))\n",
    "render_circuit_jupyter(circ2x0)\n",
    "circ2x1 = circ2x.copy()\n",
    "circ2x1 = backend.get_compiled_circuit(circ2x1,optimisation_level=1)\n",
    "print('Level 1')\n",
    "print('Circuit depth: ', circ2x1.depth())\n",
    "print('CX depth: ', circ2x1.depth_by_type(OpType.CX))\n",
    "render_circuit_jupyter(circ2x1)\n",
    "circ2x2 = circ2x.copy()\n",
    "circ2x2 = backend.get_compiled_circuit(circ2x2,optimisation_level=2)\n",
    "print('Level 2')\n",
    "print('Circuit depth: ', circ2x2.depth())\n",
    "print('CX depth: ', circ2x2.depth_by_type(OpType.CX))\n",
    "render_circuit_jupyter(circ2x2)"
   ]
  },
  {
   "cell_type": "code",
   "execution_count": null,
   "id": "83fb1fd0-a7b7-434a-80d6-bc82213fc361",
   "metadata": {
    "tags": []
   },
   "outputs": [],
   "source": [
    "circ2x2.measure_all()\n",
    "handle = backend.process_circuit(circ2x2, n_shots =100)\n",
    "result_counts = backend.get_result(handle).get_counts()\n",
    "plot_histogram(result_counts)"
   ]
  },
  {
   "cell_type": "markdown",
   "id": "13f49f19-599b-4289-a692-0c0abd863830",
   "metadata": {
    "tags": []
   },
   "source": [
    "circ2x0はibmq_limaのゲートセットで記述されていないのでエラーが生じる"
   ]
  },
  {
   "cell_type": "code",
   "execution_count": null,
   "id": "7413b07b-3e82-4334-8f46-5875aa95aa7c",
   "metadata": {},
   "outputs": [],
   "source": [
    "circ2x0.measure_all()\n",
    "handle = backend.process_circuit(circ2x0, n_shots =100)\n",
    "result_counts = backend.get_result(handle).get_counts()\n",
    "plot_histogram(result_counts)"
   ]
  },
  {
   "cell_type": "markdown",
   "id": "5f0f1a7d-d704-4e89-a5fd-8630f458362d",
   "metadata": {},
   "source": [
    "### AWS Braket, Azure Quantumの量子デバイスやシミュレータにジョブを実行ための最適化も同様にして可能"
   ]
  },
  {
   "cell_type": "code",
   "execution_count": null,
   "id": "3ed6d769-45a6-4a0c-ac8e-b2ee86e92583",
   "metadata": {},
   "outputs": [],
   "source": [
    "from pytket.extensions.braket import BraketBackend\n",
    "backend = BraketBackend(local = True)\n",
    "circ2x0 = circ2x.copy()\n",
    "circ2c0 = backend.get_compiled_circuit(circ2x0,optimisation_level=0)\n",
    "print('Level 0')\n",
    "print('Circuit depth: ', circ2x0.depth())\n",
    "print('CX depth: ', circ2x0.depth_by_type(OpType.CX))\n",
    "render_circuit_jupyter(circ2x0)\n",
    "circ2x1 = circ2x.copy()\n",
    "circ2x1 = backend.get_compiled_circuit(circ2x1,optimisation_level=1)\n",
    "print('Level 1')\n",
    "print('Circuit depth: ', circ2x1.depth())\n",
    "print('CX depth: ', circ2x1.depth_by_type(OpType.CX))\n",
    "render_circuit_jupyter(circ2x1)\n",
    "circ2x2 = circ2x.copy()\n",
    "circ2x2 = backend.get_compiled_circuit(circ2x2,optimisation_level=2)\n",
    "print('Level 2')\n",
    "print('Circuit depth: ', circ2x2.depth())\n",
    "print('CX depth: ', circ2x2.depth_by_type(OpType.CX))\n",
    "render_circuit_jupyter(circ2x2)"
   ]
  },
  {
   "cell_type": "code",
   "execution_count": null,
   "id": "ef238452-2e25-4625-ab10-3bf5126c8dd7",
   "metadata": {},
   "outputs": [],
   "source": [
    "circ2x2.measure_all()\n",
    "handle = backend.process_circuit(circ2x2, n_shots =100)\n",
    "result_counts = backend.get_result(handle).get_counts()\n",
    "plot_histogram(result_counts)"
   ]
  },
  {
   "cell_type": "code",
   "execution_count": null,
   "id": "2872aad7-1747-4df4-a4f1-b408e3752d5a",
   "metadata": {},
   "outputs": [],
   "source": [
    "from pytket.extensions.qsharp import QsharpSimulatorBackend\n",
    "backend = QsharpSimulatorBackend()\n",
    "circ2x0 = circ2x.copy()\n",
    "circ2c0 = backend.get_compiled_circuit(circ2x0,optimisation_level=0)\n",
    "print('Level 0')\n",
    "print('Circuit depth: ', circ2x0.depth())\n",
    "print('CX depth: ', circ2x0.depth_by_type(OpType.CX))\n",
    "render_circuit_jupyter(circ2x0)\n",
    "circ2x1 = circ2x.copy()\n",
    "circ2x1 = backend.get_compiled_circuit(circ2x1,optimisation_level=1)\n",
    "print('Level 1')\n",
    "print('Circuit depth: ', circ2x1.depth())\n",
    "print('CX depth: ', circ2x1.depth_by_type(OpType.CX))\n",
    "render_circuit_jupyter(circ2x1)\n",
    "circ2x2 = circ2x.copy()\n",
    "circ2x2 = backend.get_compiled_circuit(circ2x2,optimisation_level=2)\n",
    "print('Level 2')\n",
    "print('Circuit depth: ', circ2x2.depth())\n",
    "print('CX depth: ', circ2x2.depth_by_type(OpType.CX))\n",
    "render_circuit_jupyter(circ2x2)"
   ]
  },
  {
   "cell_type": "code",
   "execution_count": null,
   "id": "39f77fc0-89bc-4d18-96db-b430a22e186a",
   "metadata": {},
   "outputs": [],
   "source": [
    "circ2x2.measure_all()\n",
    "handle = backend.process_circuit(circ2x2, n_shots =100)\n",
    "result_counts = backend.get_result(handle).get_counts()\n",
    "plot_histogram(result_counts)"
   ]
  },
  {
   "cell_type": "markdown",
   "id": "b0c1796a-6125-4c06-a800-c10c4fdf7cee",
   "metadata": {},
   "source": [
    "### 5-2. いくつかの量子回路の最適化関数や変換\n",
    "a. `CliffordSimp`,\n",
    "\n",
    "b. `RemoveRedundancies`, \n",
    "\n",
    "c. `CommuteThroughMultis`, \n",
    "\n",
    "e. `EulerAngleReduction`, \n",
    "\n",
    "d. `KAKDecomposition` (省略)"
   ]
  },
  {
   "cell_type": "markdown",
   "id": "564ec54e-b08c-4851-9b6b-4835ef8c5141",
   "metadata": {},
   "source": [
    "### a. `CliffordSimp`\n",
    "2量子ビットゲートの数を減らすことができるクリフォードゲートの特定のシーケンスを探す。"
   ]
  },
  {
   "cell_type": "code",
   "execution_count": null,
   "id": "cb742543-ecac-4328-9a46-d2b32e6822ab",
   "metadata": {},
   "outputs": [],
   "source": [
    "# Circuit optimization by using compiler passes.\n",
    "from pytket.passes import CliffordSimp\n",
    "# A basic inefficient pattern can be reduced by 1 CX\n",
    "simple = Circuit(2)\n",
    "simple.CX(0, 1).S(1).CX(1, 0)\n",
    "render_circuit_jupyter(simple)\n",
    "\n",
    "CliffordSimp().apply(simple)\n",
    "render_circuit_jupyter(simple)"
   ]
  },
  {
   "cell_type": "code",
   "execution_count": null,
   "id": "4bac59d2-17fa-494e-a29a-e3662eec0847",
   "metadata": {},
   "outputs": [],
   "source": [
    "from pytket import Circuit, OpType\n",
    "from pytket.passes import CliffordSimp\n",
    "\n",
    "# The same pattern, up to commutation and local Clifford algebra\n",
    "circ = Circuit(3)\n",
    "circ.Rz(0.2, 0)\n",
    "circ.Rx(0.35, 1)\n",
    "circ.V(0).H(1).CX(0, 1).CX(1, 2).Rz(-0.6, 2).CX(1, 2).CX(0, 1).Vdg(0).H(1)\n",
    "circ.H(1).H(2).CX(0, 1).CX(1, 2).Rz(0.8, 2).CX(1, 2).CX(0, 1).H(1).H(2)\n",
    "circ.Rx(0.1, 1)\n",
    "print('Circuit depth: ', circ.depth())\n",
    "print('CX depth: ', circ.depth_by_type(OpType.CX))\n",
    "render_circuit_jupyter(circ)\n",
    "CliffordSimp().apply(circ)\n",
    "print('Circuit depth: ', circ.depth())\n",
    "print('CX depth: ', circ.depth_by_type(OpType.CX))\n",
    "render_circuit_jupyter(circ)"
   ]
  },
  {
   "cell_type": "markdown",
   "id": "75c32ba7",
   "metadata": {},
   "source": [
    "### b. `RemoveRedundancies`\n",
    "ゼロパラメータの回転ゲート、ゲートと逆のペア、同じ基底で隣接する回転ゲートなどを削減します。"
   ]
  },
  {
   "cell_type": "code",
   "execution_count": null,
   "id": "e54c041d-87d0-4486-960c-35829e295ba6",
   "metadata": {},
   "outputs": [],
   "source": [
    "from pytket.passes import RemoveRedundancies\n",
    "circ = Circuit(3, 3)\n",
    "circ.Rx(0.92, 0).CX(1, 2).Rx(-0.18, 0)  # Adjacent Rx gates can be merged\n",
    "circ.CZ(0, 1).Ry(0.11, 2).CZ(0, 1)      # CZ is self-inverse\n",
    "circ.add_gate(OpType.XXPhase, 0.6, [0, 1])\n",
    "circ.add_gate(OpType.YYPhase, 0, [0, 1])    # 0-angle rotation does nothing\n",
    "circ.add_gate(OpType.ZZPhase, -0.84, [0, 1])\n",
    "circ.Rx(0.03, 0).Rz(-0.9, 1).measure_all()  # Effect of Rz is eliminated by measurement\n",
    "print('Circuit depth: ', circ.depth())\n",
    "print('CX depth: ', circ.depth_by_type(OpType.CX))\n",
    "render_circuit_jupyter(circ)\n",
    "\n",
    "RemoveRedundancies().apply(circ)\n",
    "print('Circuit depth: ', circ.depth())\n",
    "print('CX depth: ', circ.depth_by_type(OpType.CX))\n",
    "render_circuit_jupyter(circ)\n"
   ]
  },
  {
   "cell_type": "code",
   "execution_count": null,
   "id": "3d3fc412-ad58-4382-939d-000ee347910a",
   "metadata": {},
   "outputs": [],
   "source": []
  },
  {
   "cell_type": "markdown",
   "id": "06f3c8f7-b9f2-4eb1-a590-aaaf56bb5237",
   "metadata": {},
   "source": [
    "### c. `CommuteThroughMultis`\n",
    "\"1量子ビットゲートと可換な\"2量子ビットゲートが先に作用している場合、これらを交換する。"
   ]
  },
  {
   "cell_type": "code",
   "execution_count": null,
   "id": "5811ee47-0ea2-4ece-a2ba-b6798e586693",
   "metadata": {},
   "outputs": [],
   "source": [
    "from pytket.passes import CommuteThroughMultis\n",
    "circD = Circuit(3)\n",
    "circD.CX(0,2).X(2)\n",
    "render_circuit_jupyter(circD)\n",
    "CommuteThroughMultis().apply(circD)\n",
    "render_circuit_jupyter(circD)"
   ]
  },
  {
   "cell_type": "markdown",
   "id": "4e5c66d2-3db9-498b-b998-8adadb5325ef",
   "metadata": {
    "tags": []
   },
   "source": [
    "### d. `EulerAngleReduction`\n",
    "`EulerAngleReduction`では、ユニタリ行列のオイラー角分解を与える。"
   ]
  },
  {
   "cell_type": "code",
   "execution_count": null,
   "id": "35aed10c-d156-4aef-9e75-24c83c58404b",
   "metadata": {
    "tags": []
   },
   "outputs": [],
   "source": [
    "from pytket.circuit import Circuit, OpType\n",
    "from pytket.circuit.display import render_circuit_jupyter\n",
    "from pytket.passes import EulerAngleReduction, auto_rebase_pass\n",
    "rebase = auto_rebase_pass({OpType.CZ, OpType.Rx, OpType.Rz})\n",
    "circE = Circuit(1)\n",
    "circE.H(0).T(0)\n",
    "render_circuit_jupyter(circE)\n",
    "rebase.apply(circE)\n",
    "render_circuit_jupyter(circE)\n",
    "EulerAngleReduction(OpType.Rx, OpType.Rz).apply(circE)\n",
    "render_circuit_jupyter(circE)\n",
    "EulerAngleReduction(OpType.Rz, OpType.Rx).apply(circE)\n",
    "render_circuit_jupyter(circE)"
   ]
  },
  {
   "cell_type": "code",
   "execution_count": null,
   "id": "7a966634-c198-4dfb-bcdd-9ba0735038df",
   "metadata": {},
   "outputs": [],
   "source": [
    "from pytket.circuit import Circuit, OpType\n",
    "from pytket.circuit.display import render_circuit_jupyter\n",
    "from pytket.passes import EulerAngleReduction, auto_rebase_pass\n",
    "rebase = auto_rebase_pass({OpType.CZ, OpType.Rx, OpType.Ry})\n",
    "circE = Circuit(1)\n",
    "circE.H(0).T(0)\n",
    "render_circuit_jupyter(circE)\n",
    "rebase.apply(circE)\n",
    "render_circuit_jupyter(circE)\n",
    "#EulerAngleReduction(OpType.Rx, OpType.Ry).apply(circE)\n",
    "#render_circuit_jupyter(circE)\n",
    "EulerAngleReduction(OpType.Ry, OpType.Rx).apply(circE)\n",
    "render_circuit_jupyter(circE)"
   ]
  },
  {
   "cell_type": "markdown",
   "id": "5d0c8ef0-de4e-4ba1-beb0-7617806e74a0",
   "metadata": {},
   "source": [
    "### 5-3. 量子回路の最適化のカスタマイズ: \n",
    "- `SequencePass`"
   ]
  },
  {
   "cell_type": "markdown",
   "id": "ea961e71-955e-415c-92f1-a712c4a63b96",
   "metadata": {},
   "source": [
    "tketにはそのほかにも多くの量子回路最適化を用意している。\n",
    "これらを最適化のパスに組み込みたい場合や自分で実装した最適化関数をパスに組み込みたい場合には`SequencePass`を利用すれば、カスタマイズが可能である。"
   ]
  },
  {
   "cell_type": "code",
   "execution_count": null,
   "id": "4369576d-d115-4276-93cb-38700981ee89",
   "metadata": {},
   "outputs": [],
   "source": [
    "from pytket import Circuit, OpType\n",
    "from pytket.passes import auto_rebase_pass, EulerAngleReduction, SequencePass\n",
    "rebase = auto_rebase_pass({OpType.CZ, OpType.Rz, OpType.Rx})\n",
    "circ = Circuit(3)\n",
    "circ.CX(0, 1).Rx(0.3, 1).CX(2, 1).Rz(0.8, 1)\n",
    "render_circuit_jupyter(circ)\n",
    "\n",
    "circ1 = circ.copy()\n",
    "rebase.apply(circ1)\n",
    "EulerAngleReduction(OpType.Rz, OpType.Rx).apply(circ1)\n",
    "render_circuit_jupyter(circ1)\n",
    "\n",
    "circ2 = circ.copy()\n",
    "comp = SequencePass([rebase, EulerAngleReduction(OpType.Rz, OpType.Rx)])\n",
    "comp.apply(circ2)\n",
    "render_circuit_jupyter(circ2)"
   ]
  },
  {
   "cell_type": "markdown",
   "id": "f5531565-c200-410b-b964-e0695bf2416d",
   "metadata": {
    "jp-MarkdownHeadingCollapsed": true,
    "tags": []
   },
   "source": [
    "参考\n",
    "- pytket.passes https://cqcl.github.io/tket/pytket/api/passes.html\n",
    "\n",
    "弊社Quantinuumのご紹介\n",
    "- ウェブサイト（ 英語 ）： https://www.quantinuum.com/\n",
    "- 各種技術詳細（ 英語 ）： https://www.quantinuum.com/products\n",
    "- プレスリリース（ 日本語 ）： https://japan.zdnet.com/company/30001168/release/　\n",
    "- Twitter（ 日本語 ）： https://twitter.com/quantinuum_jp\n",
    "- 日本チーム主催の勉強会（ 日本語 ）： https://quantinuum.connpass.com/\n",
    "- 採用情報（ 英語 ）：https://www.quantinuum.com/careers\n",
    "\n",
    "Cambridge Quantumのご紹介\n",
    "- ウェブサイト（ 英語 ）： https://cambridgequantum.com/\n",
    "- 学術論文（ 英語 ）： https://cambridgequantum.com/our-publications/　"
   ]
  },
  {
   "cell_type": "markdown",
   "id": "13836525-05f5-4626-ab3c-12ca6f5cc400",
   "metadata": {
    "tags": []
   },
   "source": [
    "### アンケートのお願い\n",
    "https://forms.gle/Rnn3zrijaS46wYns8\n",
    "\n",
    "<img src=\"fig/アンケート.png\" width=\"500\">"
   ]
  },
  {
   "cell_type": "code",
   "execution_count": null,
   "id": "9949c353-68ac-4557-a3f6-accdb7b3de48",
   "metadata": {},
   "outputs": [],
   "source": []
  }
 ],
 "metadata": {
  "kernelspec": {
   "display_name": "Python 3 (ipykernel)",
   "language": "python",
   "name": "python3"
  },
  "language_info": {
   "codemirror_mode": {
    "name": "ipython",
    "version": 3
   },
   "file_extension": ".py",
   "mimetype": "text/x-python",
   "name": "python",
   "nbconvert_exporter": "python",
   "pygments_lexer": "ipython3",
   "version": "3.9.7"
  }
 },
 "nbformat": 4,
 "nbformat_minor": 5
}
