{
 "cells": [
  {
   "cell_type": "markdown",
   "id": "6499dc29",
   "metadata": {
    "tags": []
   },
   "source": [
    "# Pytket Extensions\n",
    "\n"
   ]
  },
  {
   "cell_type": "markdown",
   "id": "f35a73f2",
   "metadata": {},
   "source": [
    "Pytket Extensionは様々な企業が開発している量子回路プログラミング言語、量子デバイス、量子シミュレーターと連携することを可能にする拡張機能です。\n",
    "Azure QuantumとAmazon Braketといった、クラウド経由で追加の量子デバイスやシミュレータにアクセスすることも可能です。\n",
    "\n",
    "pytketのBackendは、量子回路を処理するためのQPU（Quantum Processing Unit）または量子シミュレータへの接続を表します。\n",
    "pytketで利用可能なBackendの種類は、以下の通りです。\n",
    "- QPUs: ショットベースの結果を返す量子コンピュータです。例：QuantinuumBackend.\n",
    "\n",
    "- クラウドバックエンド: pytketがクラウドプラットフォームと連携し、追加のQPUやシミュレータにアクセスできるようにするバックエンドです。例：BraketBackend.\n",
    "\n",
    "- エミュレータ: これらは古典コンピュータで量子回路をシミュレートし、ショットベースの結果を生成します。エミュレータはノイズ・モデルを使用し、実際のQPUをエミュレートするための接続性制約を持つ場合もあります。例：IBMQEmulatorBackend.\n",
    "\n",
    "- ステートベクターシミュレータ: 回路によって準備された純粋な量子状態を計算し、ベクトル/ndarrayを返します。例：ForestStateBackend, AerStateBackend.\n",
    "\n",
    "- ユニタリーシミュレータ: ユニタリーシミュレータは、回路によって適用されるユニタリーオペレータを計算します。ユニタリー行列/ndarrayが返されます。例：AerUnitaryBackend.\n",
    "\n",
    "- 密度行列シミュレータ: これらのシミュレータは、回路によって準備される密度行列を計算します。例：CirqDensityMatrixSampleBackend 。\n",
    "\n",
    "- その他の特殊なシミュレータ: 特定のタイプの回路をシミュレートするための拡張機能があります。例：SimplexBackendはClifford回路をシミュレートするために設計されています。\n"
   ]
  },
  {
   "cell_type": "markdown",
   "id": "67f103ce",
   "metadata": {},
   "source": [
    "ここでは\n",
    "- 量子回路の変換\n",
    "- 量子回路を量子デバイスや量子シミュレータで実行"
   ]
  },
  {
   "cell_type": "markdown",
   "id": "b1bb45be",
   "metadata": {
    "tags": []
   },
   "source": [
    "### TKETとは (再掲)\n",
    "- Quantum Software Development Kit\n",
    "- C++で実装\n",
    "- pythonモジュール　`pytket`で利用可能\n",
    "- 最適化コンパイラ：　ユーザーフレンドリーな回路→量子デバイスで実行可能な回路に変換可能\n",
    "    - Language-agnostic (多くの量子プログラミングフレームワーク(qiskit, Cirq, etc)をサポート)\n",
    "    - Retagetable (多くの量子デバイス(IBM Quantum, Quantinuum, AWS Braket, etc)をサポート)\n",
    "    - Circuit Optimisation (量子計算時に生じるデバイスエラーの影響を最小化。デバイス依存＆デバイス非依存のものが実装)\n",
    "    \n",
    "<img src=\"fig/tket1.png\" width=\"750\">"
   ]
  },
  {
   "cell_type": "markdown",
   "id": "4c9871d9",
   "metadata": {},
   "source": [
    "#### 参照\n",
    "- [pytket ドキュメント](https://cqcl.github.io/tket/pytket/api/index.html)\n",
    "- [pytket ユーザーマニュアル](https://cqcl.github.io/pytket/manual/index.html)\n",
    "- [t|ket⟩ : A Retargetable Compiler for NISQ Devices](https://arxiv.org/abs/2003.10611)"
   ]
  },
  {
   "cell_type": "markdown",
   "id": "74d77a44",
   "metadata": {
    "tags": []
   },
   "source": [
    "#### 今回必要となる python パッケージ\n",
    "Python 3.9.7で動作確認をしています。\n",
    "\n",
    "|  パッケージ （version） |  概要  |\n",
    "| :---- | :---- |\n",
    "|  pytket  |  tketを利用するためのpython モジュール  ( available for python3.9 or higher )|\n",
    "|  pytket-qiskit  |  qiskitを利用するためのpytket-extension  |\n",
    "|  pytket-braket  |  Amazon Braketを利用するためのpytket-extension  |\n",
    "\n",
    "<img src=\"./fig/tket2.png\" width=\"750\">"
   ]
  },
  {
   "cell_type": "markdown",
   "id": "bfb80d2d",
   "metadata": {},
   "source": [
    "参考：以下のextensionがpytketに用意されている\n",
    "\n",
    "|  パッケージ （version） |  概要  |\n",
    "| :---- | :---- |\n",
    "|  pytket-qsharp  |  Azure Quantumを利用するためのpytket-extension  |\n",
    "|  pytket-quantinuum  |  Quantinuumを利用するためのpytket-extension  |"
   ]
  },
  {
   "cell_type": "markdown",
   "id": "19e9a200",
   "metadata": {},
   "source": [
    "環境にインストールされていない場合は、以下のセルの＃を取り除き、インストールしてください。"
   ]
  },
  {
   "cell_type": "code",
   "execution_count": null,
   "id": "f5c9e3fc",
   "metadata": {},
   "outputs": [],
   "source": [
    "#!pip install pytket\n",
    "#!pip install pytket-qiskit\n",
    "#!pip install pytket-braket\n",
    "#!pip install pytket-qsharp #こちらのパッケージは.net等のインストールが必要です。詳しくは こちら を参照ください。\n",
    "#!pip install pytket-quantinuum\n",
    "#!pip install pylatexenc #可視化のためのパッケージ"
   ]
  },
  {
   "cell_type": "markdown",
   "id": "ad94429c",
   "metadata": {
    "tags": []
   },
   "source": [
    "## 1. 量子回路の変換\n",
    "pytketでは\n",
    "- qiskitで記述した量子回路(`qiskit.QuantumCircuit`)からtketの量子回路のクラスに変換が可能\n",
    "- tketで記述した量子回路からqiskitの量子回路(`qiskit.QuantumCircuit`)のクラスに変換が可能\n",
    "- tketで記述した量子回路と他の量子プログラミング言語での量子回路の交換が可能\n",
    "\n",
    "参照：[pytket-extensions](https://cqcl.github.io/pytket-extensions/api/index.html) "
   ]
  },
  {
   "cell_type": "markdown",
   "id": "d252a949",
   "metadata": {},
   "source": [
    "### 1-1. `qiskit`の量子回路から`tket`の量子回路に変換"
   ]
  },
  {
   "cell_type": "code",
   "execution_count": null,
   "id": "ffc959ca",
   "metadata": {},
   "outputs": [],
   "source": [
    "from qiskit import QuantumCircuit\n",
    "\n",
    "qs_bell = QuantumCircuit(2)\n",
    "qs_bell.h(0)\n",
    "qs_bell.cx(0,1)\n",
    "qs_bell.measure_all()\n",
    "\n",
    "qs_bell.draw(output='mpl')"
   ]
  },
  {
   "cell_type": "code",
   "execution_count": null,
   "id": "27da6a25",
   "metadata": {},
   "outputs": [],
   "source": [
    "from pytket.extensions.qiskit import qiskit_to_tk"
   ]
  },
  {
   "cell_type": "code",
   "execution_count": null,
   "id": "760d1be3",
   "metadata": {},
   "outputs": [],
   "source": [
    "bell2 = qiskit_to_tk(qs_bell)\n",
    "bell2"
   ]
  },
  {
   "cell_type": "code",
   "execution_count": null,
   "id": "a0ce1579",
   "metadata": {},
   "outputs": [],
   "source": [
    "from pytket.circuit.display import render_circuit_jupyter\n",
    "render_circuit_jupyter(bell2)"
   ]
  },
  {
   "cell_type": "markdown",
   "id": "9e29900b",
   "metadata": {},
   "source": [
    "### 1-2. `tket`の量子回路から`qiskit`の量子回路に変換"
   ]
  },
  {
   "cell_type": "code",
   "execution_count": null,
   "id": "aa84f1bd",
   "metadata": {},
   "outputs": [],
   "source": [
    "from pytket import Circuit\n",
    "from pytket.circuit.display import render_circuit_jupyter\n",
    "\n",
    "bell = Circuit(2)\n",
    "bell.H(0).CX(0,1)\n",
    "bell.measure_all()\n",
    "\n",
    "render_circuit_jupyter(bell)"
   ]
  },
  {
   "cell_type": "code",
   "execution_count": null,
   "id": "0f82be99",
   "metadata": {},
   "outputs": [],
   "source": [
    "from pytket.extensions.qiskit import tk_to_qiskit"
   ]
  },
  {
   "cell_type": "code",
   "execution_count": null,
   "id": "8a8665f1",
   "metadata": {},
   "outputs": [],
   "source": [
    "qs_bell2 = tk_to_qiskit(bell)\n",
    "qs_bell2"
   ]
  },
  {
   "cell_type": "code",
   "execution_count": null,
   "id": "9e0eac37",
   "metadata": {},
   "outputs": [],
   "source": [
    "qs_bell2.draw('mpl')"
   ]
  },
  {
   "cell_type": "markdown",
   "id": "40c170db",
   "metadata": {},
   "source": [
    "### 1-3. `braket`の量子回路から`tket`の量子回路に変換"
   ]
  },
  {
   "cell_type": "code",
   "execution_count": null,
   "id": "82ecd68f",
   "metadata": {},
   "outputs": [],
   "source": [
    "from pytket.extensions.braket import tk_to_braket\n",
    "aws_bell2 = tk_to_braket(bell)\n",
    "print(aws_bell2[0])"
   ]
  },
  {
   "cell_type": "markdown",
   "id": "37fbb7db",
   "metadata": {},
   "source": [
    "### 1-4. `tket`の量子回路から`braket`の量子回路に変換"
   ]
  },
  {
   "cell_type": "code",
   "execution_count": null,
   "id": "f6593139",
   "metadata": {},
   "outputs": [],
   "source": [
    "from braket.devices import LocalSimulator\n",
    "from braket.circuits import Circuit\n",
    "\n",
    "# create the circuit\n",
    "aws_bell = Circuit().h(0).cnot(0, 1)\n",
    "print(aws_bell)"
   ]
  },
  {
   "cell_type": "code",
   "execution_count": null,
   "id": "02205cdb",
   "metadata": {},
   "outputs": [],
   "source": [
    "from pytket.extensions.braket import braket_to_tk\n",
    "bell3 = braket_to_tk(aws_bell)\n",
    "render_circuit_jupyter(bell3)"
   ]
  },
  {
   "cell_type": "markdown",
   "id": "f64c3756",
   "metadata": {},
   "source": [
    "## 2. 量子回路を量子デバイスや量子シミュレータで実行"
   ]
  },
  {
   "cell_type": "markdown",
   "id": "3e76d436",
   "metadata": {
    "tags": []
   },
   "source": [
    "### 下記のスクリプトはAmazon Braketで<span style=\"color: red; \">有料の操作</span>となることがありますので、ご注意ください。"
   ]
  },
  {
   "cell_type": "markdown",
   "id": "083ba56d",
   "metadata": {
    "tags": []
   },
   "source": [
    "### 2-1. pytket-qiskitを利用して、IBM Quantumのシミュレータや実機にジョブを実行"
   ]
  },
  {
   "cell_type": "markdown",
   "id": "dd921f15",
   "metadata": {},
   "source": [
    "#### a. IBM Quantum へのアクセス設定"
   ]
  },
  {
   "cell_type": "code",
   "execution_count": null,
   "id": "98839102",
   "metadata": {},
   "outputs": [],
   "source": [
    "path = 'key/ibm-token'\n",
    "f = open(path)\n",
    "ibm_token = f.read()\n",
    "f.close()\n",
    "from pytket.extensions.qiskit.backends.config import set_ibmq_config\n",
    "set_ibmq_config(ibmq_api_token=ibm_token)"
   ]
  },
  {
   "cell_type": "code",
   "execution_count": null,
   "id": "cf160d1a",
   "metadata": {},
   "outputs": [],
   "source": [
    "#from qiskit import IBMQ\n",
    "#IBMQ.save_account(ibm_token, overwrite=True)\n",
    "#from pytket.extensions.qiskit.backends.config import set_ibmq_config\n",
    "#set_ibmq_config(ibmq_api_token=ibm_token,hub=\"ibm-q\",group=\"open\",project=\"main\")"
   ]
  },
  {
   "cell_type": "code",
   "execution_count": null,
   "id": "38422aaa",
   "metadata": {},
   "outputs": [],
   "source": [
    "from pytket.extensions.qiskit import IBMQBackend, IBMQEmulatorBackend, AerBackend\n",
    "from pytket import Circuit\n",
    "from pytket.circuit.display import render_circuit_jupyter"
   ]
  },
  {
   "cell_type": "code",
   "execution_count": null,
   "id": "2a3b8dcf",
   "metadata": {},
   "outputs": [],
   "source": [
    "list_backend=IBMQBackend.available_devices()\n",
    "for i in range(len(list_backend)):\n",
    "    print(list_backend[i].device_name)"
   ]
  },
  {
   "cell_type": "markdown",
   "id": "450e56b5",
   "metadata": {},
   "source": [
    "#### b. backendの選択"
   ]
  },
  {
   "cell_type": "code",
   "execution_count": null,
   "id": "da5b4adb",
   "metadata": {},
   "outputs": [],
   "source": [
    "ibm_backend = AerBackend() #a.を省略すること可能\n",
    "# ibm_backend = IBMQBackend(\"ibmq_lima\")\n",
    "# ibm_backend = IBMQBackend(\"ibmq_qasm_simulator\")\n",
    "# AerBackend to emulate the behaviour of IBMQBackend. Requires a valid IBMQ account.\n",
    "#ibm_backend = IBMQEmulatorBackend(\"ibmq_lima\")"
   ]
  },
  {
   "cell_type": "markdown",
   "id": "21c2e66a",
   "metadata": {},
   "source": [
    "#### c. backendのゲートセットに書き換える\n",
    "`Backend.get_compiled_circuit(Circuit)`"
   ]
  },
  {
   "cell_type": "code",
   "execution_count": null,
   "id": "799cd198",
   "metadata": {},
   "outputs": [],
   "source": [
    "bell = Circuit(2)\n",
    "bell.H(0).CX(0,1)\n",
    "bell.measure_all()\n",
    "render_circuit_jupyter(bell)\n",
    "\n",
    "ibm_bell = ibm_backend.get_compiled_circuit(bell)\n",
    "render_circuit_jupyter(ibm_bell)"
   ]
  },
  {
   "cell_type": "markdown",
   "id": "22596bfe",
   "metadata": {},
   "source": [
    "#### d. 選択したbackendに量子回路を送信して実行させる"
   ]
  },
  {
   "cell_type": "code",
   "execution_count": null,
   "id": "0af6d685",
   "metadata": {},
   "outputs": [],
   "source": [
    "ibm_handle = ibm_backend.process_circuit(ibm_bell, n_shots =1000)"
   ]
  },
  {
   "cell_type": "code",
   "execution_count": null,
   "id": "c77d9899",
   "metadata": {
    "tags": []
   },
   "outputs": [],
   "source": [
    "ibm_result = ibm_backend.get_result(ibm_handle)"
   ]
  },
  {
   "cell_type": "code",
   "execution_count": null,
   "id": "f1b81988",
   "metadata": {},
   "outputs": [],
   "source": [
    "#ibm_backend.cancel(ibm_handle)"
   ]
  },
  {
   "cell_type": "markdown",
   "id": "23e1a8b2",
   "metadata": {},
   "source": [
    "#### e. 結果の表示"
   ]
  },
  {
   "cell_type": "code",
   "execution_count": null,
   "id": "939993d8",
   "metadata": {},
   "outputs": [],
   "source": [
    "from qiskit.visualization import plot_histogram\n",
    "plot_histogram(ibm_result.get_counts())"
   ]
  },
  {
   "cell_type": "code",
   "execution_count": null,
   "id": "7f87577f",
   "metadata": {},
   "outputs": [],
   "source": [
    "#print(str(ibm_handle))"
   ]
  },
  {
   "cell_type": "code",
   "execution_count": null,
   "id": "f662b639",
   "metadata": {},
   "outputs": [],
   "source": [
    "#from pytket.backends import ResultHandle\n",
    "#from pytket.extensions.qiskit import IBMQBackend\n",
    "#ibm_backend = IBMQBackend(\"ibmq_quito\")\n",
    "#ibm_backend = IBMQBackend(\"ibmq_qasm_simulator\")"
   ]
  },
  {
   "cell_type": "code",
   "execution_count": null,
   "id": "5e9b4aa3",
   "metadata": {},
   "outputs": [],
   "source": [
    "#result = ibm_backend.get_result(handle)\n",
    "#counts = result.get_counts()\n",
    "#print(counts)\n",
    "#from qiskit.visualization import plot_histogram\n",
    "#plot_histogram(counts)"
   ]
  }
 ],
 "metadata": {
  "instance_type": "ml.t3.medium",
  "kernelspec": {
   "display_name": "Python 3 (ipykernel)",
   "language": "python",
   "name": "python3"
  },
  "language_info": {
   "codemirror_mode": {
    "name": "ipython",
    "version": 3
   },
   "file_extension": ".py",
   "mimetype": "text/x-python",
   "name": "python",
   "nbconvert_exporter": "python",
   "pygments_lexer": "ipython3",
   "version": "3.9.7"
  }
 },
 "nbformat": 4,
 "nbformat_minor": 5
}
