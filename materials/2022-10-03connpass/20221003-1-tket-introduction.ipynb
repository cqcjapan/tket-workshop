{
 "cells": [
  {
   "cell_type": "markdown",
   "id": "b8cb093b",
   "metadata": {
    "tags": []
   },
   "source": [
    "# 量子SDK TKET\n",
    "## (Quantinuum / Cambridge Quantum Computing)"
   ]
  },
  {
   "cell_type": "markdown",
   "id": "5eca4c43-95c1-4688-9594-3d4d1bae0427",
   "metadata": {},
   "source": [
    "## 0. 今日の量子コンピュータの問題\n",
    "\n",
    "- Noisy Intermediate-Scale Quantum (NISQ) デバイス\n",
    "    - 量子回路が深くなる（ゲート数が多くなる）ほど、誤差が大きくなる\n",
    "    - 十分な量子ビット数ではない\n",
    "- 量子デバイスは特別なゲート演算のみが用意されている\n",
    "- 特定のqubits間の量子ビット演算(multi qubit operation)しか用意されていない\n",
    "- それぞれの量子デバイスに対して、量子ソフトウェアツールキットが用意されてる\n"
   ]
  },
  {
   "cell_type": "markdown",
   "id": "6e1950ee",
   "metadata": {
    "tags": []
   },
   "source": [
    "### 0-1. TKETとは\n",
    "- Quantum Software Development Kit\n",
    "- C++で実装\n",
    "- pythonモジュール　`pytket`で利用可能\n",
    "- 最適化コンパイラ：　ユーザーフレンドリーな回路→量子デバイスで実行可能な回路に変換可能\n",
    "    - Language-agnostic (多くの量子プログラミングフレームワーク(qiskit, Cirq, etc)をサポート)\n",
    "    - Retagetable (多くの量子デバイス(IBM Quantum, Quantinuum, AWS Braket, etc)をサポート)\n",
    "    - Circuit Optimisation (量子計算時に生じるデバイスエラーの影響を最小化。デバイス依存＆デバイス非依存のものが実装)\n",
    "    \n",
    "<img src=\"fig/tket1.png\" width=\"750\">\n",
    "\n"
   ]
  },
  {
   "cell_type": "markdown",
   "id": "75c32ba7",
   "metadata": {},
   "source": [
    "#### 参照\n",
    "- [pytket ドキュメント](https://cqcl.github.io/tket/pytket/api/index.html)\n",
    "- [pytket ユーザーマニュアル](https://cqcl.github.io/pytket/manual/index.html)\n",
    "- [t|ket⟩ : A Retargetable Compiler for NISQ Devices](https://arxiv.org/abs/2003.10611)"
   ]
  },
  {
   "cell_type": "markdown",
   "id": "90fcd536",
   "metadata": {
    "tags": []
   },
   "source": [
    "### 0-2. 今回必要となる python パッケージ\n",
    "Python 3.9.7で動作確認をしています。\n",
    "\n",
    "|  パッケージ （version） |  概要  |\n",
    "| :---- | :---- |\n",
    "|  pytket  |  tketを利用するためのpython モジュール  ( available for python3.8 or higher )|\n",
    "|  pytket-qiskit  |  qiskitを利用するためのpytket-extension  |\n",
    "|  pytket-braket  |  Amazon Braketを利用するためのpytket-extension  |\n",
    "|  pytket-qsharp  |  Azure Quantumを利用するためのpytket-extension  |\n",
    "\n",
    "<img src=\"fig/tket2.png\" width=\"750\">"
   ]
  },
  {
   "cell_type": "markdown",
   "id": "aa16497a",
   "metadata": {},
   "source": [
    "環境にインストールされていない場合は、以下のセルの＃を取り除き、インストールしてください。"
   ]
  },
  {
   "cell_type": "code",
   "execution_count": null,
   "id": "f53935a7",
   "metadata": {},
   "outputs": [],
   "source": [
    "#!pip install pytket\n",
    "#!pip install pytket-qiskit\n",
    "#!pip install pytket-braket\n",
    "#!pip install pytket-qsharp #こちらのパッケージは.net等のインストールが必要です。詳しくは こちら を参照ください。\n",
    "#!pip install pytket-qulacs\n",
    "#!pip install pylatexenc #可視化のためのパッケージ"
   ]
  },
  {
   "cell_type": "code",
   "execution_count": null,
   "id": "95196034-1add-4d37-bfa1-4c0195b1710c",
   "metadata": {},
   "outputs": [],
   "source": [
    "#!pip freeze |grep pytket"
   ]
  },
  {
   "cell_type": "markdown",
   "id": "2e43c4f2",
   "metadata": {
    "tags": []
   },
   "source": [
    "## 1. 量子回路を作成する\n",
    "ここでは IBMの量子デバイスやシュミレーションを利用できる`qiskit`と`tket`でベル状態を作成する。"
   ]
  },
  {
   "cell_type": "markdown",
   "id": "4b5f8f4b",
   "metadata": {},
   "source": [
    "### 1-1. `qiskit`でベル状態を作成\n",
    "$$ |\\Psi\\rangle = \\frac{1}{\\sqrt{2}}(|00\\rangle+|11\\rangle)$$"
   ]
  },
  {
   "cell_type": "code",
   "execution_count": null,
   "id": "3d9e4a20",
   "metadata": {},
   "outputs": [],
   "source": [
    "from qiskit import QuantumCircuit\n",
    "\n",
    "qs_bell = QuantumCircuit(2)\n",
    "qs_bell.h(0)\n",
    "qs_bell.cx(0,1)\n",
    "qs_bell.measure_all()\n",
    "\n",
    "qs_bell.draw(output='mpl')"
   ]
  },
  {
   "cell_type": "code",
   "execution_count": null,
   "id": "ceeee451",
   "metadata": {},
   "outputs": [],
   "source": [
    "#from qiskit.tools.visualization import circuit_drawer\n",
    "#circuit_drawer(qs_bell, output='mpl')"
   ]
  },
  {
   "cell_type": "markdown",
   "id": "4c0d22db",
   "metadata": {
    "slideshow": {
     "slide_type": "slide"
    }
   },
   "source": [
    "### 1-2. IBMが提供しているローカルシミュレータで計算"
   ]
  },
  {
   "cell_type": "code",
   "execution_count": null,
   "id": "56449c7b",
   "metadata": {},
   "outputs": [],
   "source": [
    "from qiskit import assemble, Aer\n",
    "from qiskit.visualization import plot_histogram"
   ]
  },
  {
   "cell_type": "code",
   "execution_count": null,
   "id": "6081ad71",
   "metadata": {},
   "outputs": [],
   "source": [
    "#Aer.backends()"
   ]
  },
  {
   "cell_type": "code",
   "execution_count": null,
   "id": "4d250a09",
   "metadata": {},
   "outputs": [],
   "source": [
    "ibm_sim = Aer.get_backend('aer_simulator')"
   ]
  },
  {
   "cell_type": "code",
   "execution_count": null,
   "id": "3899b615",
   "metadata": {},
   "outputs": [],
   "source": [
    "handle = ibm_sim.run(qs_bell, shots=1000)\n",
    "counts = handle.result().get_counts()\n",
    "plot_histogram(counts)"
   ]
  },
  {
   "cell_type": "markdown",
   "id": "82da5f25",
   "metadata": {},
   "source": [
    "### 1-3. `tket`でベル状態を作成"
   ]
  },
  {
   "cell_type": "code",
   "execution_count": null,
   "id": "76615941",
   "metadata": {},
   "outputs": [],
   "source": [
    "from pytket import Circuit\n",
    "from pytket.circuit.display import render_circuit_jupyter\n",
    "\n",
    "bell = Circuit(2)\n",
    "bell.H(0).CX(0,1)\n",
    "bell.measure_all()\n",
    "\n",
    "render_circuit_jupyter(bell)"
   ]
  },
  {
   "cell_type": "markdown",
   "id": "a1e02a9b",
   "metadata": {},
   "source": [
    "### 1-4. `pytket-qiskit`でIBMが提供しているローカルシミュレータで計算"
   ]
  },
  {
   "cell_type": "code",
   "execution_count": null,
   "id": "6c4bfc9e",
   "metadata": {},
   "outputs": [],
   "source": [
    "from pytket.extensions.qiskit import AerBackend\n",
    "backend = AerBackend()\n",
    "\n",
    "handle = backend.process_circuit(bell, n_shots =1000)\n",
    "result_counts = backend.get_result(handle).get_counts()\n",
    "plot_histogram(result_counts)"
   ]
  },
  {
   "cell_type": "markdown",
   "id": "3f570571",
   "metadata": {
    "tags": []
   },
   "source": [
    "## 2. 量子回路の変換\n",
    "pytketでは\n",
    "- qiskitで記述した量子回路(`qiskit.QuantumCircuit`)からtketの量子回路のクラスに変換が可能\n",
    "- tketで記述した量子回路からqiskitの量子回路(`qiskit.QuantumCircuit`)のクラスに変換が可能\n",
    "- tketで記述した量子回路と他の量子プログラミング言語での量子回路の交換が可能\n",
    "\n",
    "参照：[pytket-extensions](https://cqcl.github.io/pytket-extensions/api/index.html) "
   ]
  },
  {
   "cell_type": "markdown",
   "id": "cc06b5db",
   "metadata": {},
   "source": [
    "### 2-1. `qiskit`の量子回路から`tket`の量子回路に変換"
   ]
  },
  {
   "cell_type": "code",
   "execution_count": null,
   "id": "67884d14",
   "metadata": {},
   "outputs": [],
   "source": [
    "from pytket.extensions.qiskit import qiskit_to_tk"
   ]
  },
  {
   "cell_type": "code",
   "execution_count": null,
   "id": "13f9045c",
   "metadata": {},
   "outputs": [],
   "source": [
    "bell2 = qiskit_to_tk(qs_bell)\n",
    "bell2"
   ]
  },
  {
   "cell_type": "code",
   "execution_count": null,
   "id": "131f2a7c",
   "metadata": {},
   "outputs": [],
   "source": [
    "render_circuit_jupyter(bell2)"
   ]
  },
  {
   "cell_type": "markdown",
   "id": "1d354e75",
   "metadata": {},
   "source": [
    "### 2-2. `tket`の量子回路から`qiskit`の量子回路に変換"
   ]
  },
  {
   "cell_type": "code",
   "execution_count": null,
   "id": "bfe450cc",
   "metadata": {},
   "outputs": [],
   "source": [
    "from pytket.extensions.qiskit import tk_to_qiskit"
   ]
  },
  {
   "cell_type": "code",
   "execution_count": null,
   "id": "d91a19a2",
   "metadata": {},
   "outputs": [],
   "source": [
    "qs_bell2 = tk_to_qiskit(bell)\n",
    "qs_bell2"
   ]
  },
  {
   "cell_type": "code",
   "execution_count": null,
   "id": "06031b7d",
   "metadata": {},
   "outputs": [],
   "source": [
    "qs_bell2.draw('mpl')"
   ]
  },
  {
   "cell_type": "code",
   "execution_count": null,
   "id": "a6b3724f",
   "metadata": {},
   "outputs": [],
   "source": [
    "from pytket.extensions.braket import tk_to_braket\n",
    "tk_to_braket(bell)[0]"
   ]
  },
  {
   "cell_type": "code",
   "execution_count": null,
   "id": "e93bdffa-f0c1-49f1-9f25-f24f81d7bf70",
   "metadata": {},
   "outputs": [],
   "source": [
    "from pytket.extensions.qsharp import tk_to_qsharp\n",
    "tk_to_qsharp(bell)"
   ]
  },
  {
   "cell_type": "markdown",
   "id": "abe62932",
   "metadata": {
    "tags": []
   },
   "source": [
    "## 3. 量子回路の最適化 Part1\n",
    "例えば、Hゲートを同じビットに連続して作用させるとゲート操作をしていないのと恒等な量子状態が得られます。\n",
    "<img src=\"fig/circ.png\" width=\"500\">\n",
    "\n",
    "量子回路が深くなる（ゲート数が多くなる）ほど、誤差が大きくなるNISQ デバイスでは左辺のような状況は除去したい。\n",
    "\n",
    "その他にも下記のような恒等な関係があります。\n",
    "<img src=\"fig/relation.png\" width=\"700\">"
   ]
  },
  {
   "cell_type": "markdown",
   "id": "bae1e99c",
   "metadata": {},
   "source": [
    "### 3-1. `PauliSimp` 関数を利用した、量子回路の最適化\n",
    "tketには量子回路を最適化する様々な機能が用意されている。\n",
    "ここでは、`PauliSimp` 関数を利用した回路の最適化を行う。\n",
    "\n",
    "（`PauliSimp` 関数：Pauli ゲートとCliffordゲートで表現された量子回路を出力）\n"
   ]
  },
  {
   "cell_type": "markdown",
   "id": "b04a4a49-108a-4437-a45c-d274128906d5",
   "metadata": {},
   "source": [
    "ランダムな量子回路を作成する関数を用意する。"
   ]
  },
  {
   "cell_type": "code",
   "execution_count": null,
   "id": "a96b3e7a",
   "metadata": {},
   "outputs": [],
   "source": [
    "from pytket.pauli import Pauli\n",
    "from pytket.circuit import PauliExpBox, fresh_symbol, OpType\n",
    "from pytket.passes import DecomposeBoxes\n",
    "box = PauliExpBox([Pauli.I, Pauli.Z, Pauli.X, Pauli.Y], fresh_symbol('tm'))\n",
    "from pytket.utils import Graph\n",
    "import numpy as np\n",
    "\n",
    "def get_random_pauli_gadgets(n_qubits, n_pauli_gadgets, max_entangle):\n",
    "    \"\"\" \"\"\"\n",
    "    paulis = [Pauli.I, Pauli.X, Pauli.Y, Pauli.Z]\n",
    "    circ = Circuit(n_qubits)\n",
    "    for i in range(n_pauli_gadgets):\n",
    "        ls_paulis = [np.random.choice(paulis) for k in range(max_entangle)]\n",
    "        if ls_paulis.count(Pauli.Y) % 2 == 0:\n",
    "            continue\n",
    "        if len(ls_paulis) - ls_paulis.count(Pauli.I) <= 1:\n",
    "            continue\n",
    "        qubits = np.random.choice(\n",
    "            [i for i in range(n_qubits)], size=max_entangle, replace=False\n",
    "        )\n",
    "        box = PauliExpBox(ls_paulis, fresh_symbol('a'))\n",
    "        circ.add_pauliexpbox(box, sorted(qubits))\n",
    "    DecomposeBoxes().apply(circ)\n",
    "    return circ"
   ]
  },
  {
   "cell_type": "markdown",
   "id": "3ad85f51-812d-4da3-80b1-a34710a9df80",
   "metadata": {},
   "source": [
    "ランダムな量子回路を生成し、回路の深さとCXの深さを数える。"
   ]
  },
  {
   "cell_type": "code",
   "execution_count": null,
   "id": "30fdaf9b-46ec-4b96-86bd-ce6a394ba82f",
   "metadata": {},
   "outputs": [],
   "source": [
    "circ = get_random_pauli_gadgets(\n",
    "    n_qubits=8, n_pauli_gadgets=300, max_entangle=5\n",
    ")\n",
    "print('Circuit depth: ', circ.depth())\n",
    "print('CX depth: ', circ.depth_by_type(OpType.CX))\n",
    "render_circuit_jupyter(circ)"
   ]
  },
  {
   "cell_type": "markdown",
   "id": "dfe39210",
   "metadata": {},
   "source": [
    "`PauliSimp` 関数を使って、量子回路の最適化"
   ]
  },
  {
   "cell_type": "code",
   "execution_count": null,
   "id": "d48f9aac",
   "metadata": {},
   "outputs": [],
   "source": [
    "# Circuit optimization by using compiler passes.\n",
    "from pytket.passes import PauliSimp\n",
    "circx = circ.copy()\n",
    "PauliSimp().apply(circx)\n",
    "#FullPeepholeOptimise().apply(circx)\n",
    "print('Circuit depth: ', circx.depth())\n",
    "print('CX depth: ', circx.depth_by_type(OpType.CX))\n",
    "#render_circuit_jupyter(circx)"
   ]
  },
  {
   "cell_type": "markdown",
   "id": "14c10de5",
   "metadata": {
    "tags": []
   },
   "source": [
    "## 4. pytket-extensionで、IBM Quantum、Amazon Braket、Azure Quantumを利用する\n",
    "### 下記のスクリプトは<span style=\"color: red; \">有料の操作</span>となることがありますので、ご注意ください"
   ]
  },
  {
   "cell_type": "markdown",
   "id": "a2fe901a",
   "metadata": {
    "tags": []
   },
   "source": [
    "### 4-1. pytket-qiskitを利用して、IBM Quantumのシミュレータや実機にアクセス"
   ]
  },
  {
   "cell_type": "code",
   "execution_count": null,
   "id": "440004ec",
   "metadata": {},
   "outputs": [],
   "source": [
    "path = 'key/ibm-token'\n",
    "f = open(path)\n",
    "ibm_token = f.read()\n",
    "f.close()\n",
    "from pytket.extensions.qiskit.backends.config import set_ibmq_config\n",
    "set_ibmq_config(ibmq_api_token=ibm_token)"
   ]
  },
  {
   "cell_type": "code",
   "execution_count": null,
   "id": "006c29bc-efd9-418b-8b99-ae50602bc946",
   "metadata": {},
   "outputs": [],
   "source": [
    "#from qiskit import IBMQ\n",
    "#IBMQ.save_account(ibm_token, overwrite=True)\n",
    "#from pytket.extensions.qiskit.backends.config import set_ibmq_config\n",
    "#set_ibmq_config(ibmq_api_token=ibm_token,hub=\"ibm-q\",group=\"open\",project=\"main\")"
   ]
  },
  {
   "cell_type": "code",
   "execution_count": null,
   "id": "a003af36",
   "metadata": {},
   "outputs": [],
   "source": [
    "from pytket.extensions.qiskit import IBMQBackend, IBMQEmulatorBackend, AerBackend\n",
    "from pytket import Circuit\n",
    "from pytket.circuit.display import render_circuit_jupyter"
   ]
  },
  {
   "cell_type": "code",
   "execution_count": null,
   "id": "6cf17d33-24cc-42fe-a105-a6190554c60e",
   "metadata": {},
   "outputs": [],
   "source": [
    "list_backend=IBMQBackend.available_devices()\n",
    "for i in range(len(list_backend)):\n",
    "    print(list_backend[i].device_name)"
   ]
  },
  {
   "cell_type": "code",
   "execution_count": null,
   "id": "1469076b",
   "metadata": {},
   "outputs": [],
   "source": [
    "# ibm_backend = AerBackend()\n",
    "# ibm_backend = IBMQBackend(\"ibmq_quito\")\n",
    "ibm_backend = IBMQBackend(\"ibmq_qasm_simulator\")\n",
    "# AerBackend to emulate the behaviour of IBMQBackend. Requires a valid IBMQ account.\n",
    "#ibm_backend = IBMQEmulatorBackend(\"ibmq_quito\")"
   ]
  },
  {
   "cell_type": "code",
   "execution_count": null,
   "id": "4d0fa46b-9f5e-4670-9c21-210b8f456056",
   "metadata": {},
   "outputs": [],
   "source": [
    "bell = Circuit(2)\n",
    "bell.H(0).CX(0,1)\n",
    "bell.measure_all()\n",
    "render_circuit_jupyter(bell)\n",
    "\n",
    "ibm_bell = ibm_backend.get_compiled_circuit(bell)\n",
    "render_circuit_jupyter(ibm_bell)"
   ]
  },
  {
   "cell_type": "code",
   "execution_count": null,
   "id": "c51c02cb",
   "metadata": {},
   "outputs": [],
   "source": [
    "ibm_handle = ibm_backend.process_circuit(ibm_bell, n_shots =1000)"
   ]
  },
  {
   "cell_type": "code",
   "execution_count": null,
   "id": "0ff2d781",
   "metadata": {
    "tags": []
   },
   "outputs": [],
   "source": [
    "ibm_result = ibm_backend.get_result(ibm_handle)"
   ]
  },
  {
   "cell_type": "code",
   "execution_count": null,
   "id": "8596dc83",
   "metadata": {},
   "outputs": [],
   "source": [
    "#ibm_backend.cancel(ibm_handle)"
   ]
  },
  {
   "cell_type": "code",
   "execution_count": null,
   "id": "da392a0a",
   "metadata": {},
   "outputs": [],
   "source": [
    "from qiskit.visualization import plot_histogram\n",
    "plot_histogram(ibm_result.get_counts())"
   ]
  },
  {
   "cell_type": "code",
   "execution_count": null,
   "id": "7d097e48-3967-417a-ba06-fe9a163a0be1",
   "metadata": {},
   "outputs": [],
   "source": [
    "#print(str(ibm_handle))"
   ]
  },
  {
   "cell_type": "code",
   "execution_count": null,
   "id": "c72f9afb",
   "metadata": {},
   "outputs": [],
   "source": [
    "#from pytket.backends import ResultHandle\n",
    "#from pytket.extensions.qiskit import IBMQBackend\n",
    "#ibm_backend = IBMQBackend(\"ibmq_quito\")\n",
    "#ibm_backend = IBMQBackend(\"ibmq_qasm_simulator\")"
   ]
  },
  {
   "cell_type": "code",
   "execution_count": null,
   "id": "23f2bfb7-0cb3-4d27-8112-d6bce5d6c861",
   "metadata": {},
   "outputs": [],
   "source": [
    "#from pytket.backends import ResultHandle\n",
    "#handle = ResultHandle.from_str(\"handle_id\")"
   ]
  },
  {
   "cell_type": "code",
   "execution_count": null,
   "id": "bbdf457c-3067-47a2-af3a-300ec8299547",
   "metadata": {},
   "outputs": [],
   "source": [
    "#result = ibm_backend.get_result(handle)\n",
    "#counts = result.get_counts()\n",
    "#print(counts)\n",
    "#from qiskit.visualization import plot_histogram\n",
    "#plot_histogram(counts)"
   ]
  },
  {
   "cell_type": "markdown",
   "id": "57b922c0",
   "metadata": {
    "tags": []
   },
   "source": [
    "### 4-2. pytket-braketを利用して、Amazon Braketのシミュレータや実機にアクセス"
   ]
  },
  {
   "cell_type": "code",
   "execution_count": null,
   "id": "419859cb",
   "metadata": {},
   "outputs": [],
   "source": [
    "#ローカルからアクセスする場合、keyフォルダーにアクセスキー等の情報ファイルaws-keyを作成し、読み込む\n",
    "#path = 'key/aws-key'\n",
    "#f = open(path)\n",
    "#aws_access_key_id, aws_secret_access_key, s3_name, bucket_key= [s.strip() for s in f.readlines()]\n",
    "#f.close()"
   ]
  },
  {
   "cell_type": "code",
   "execution_count": null,
   "id": "02aec0db",
   "metadata": {},
   "outputs": [],
   "source": [
    "# Braket clientを作成し、Sessionを開始\n",
    "#import boto3\n",
    "#from braket.aws import AwsSession\n",
    "#boto_session = boto3.Session(\n",
    "#    aws_access_key_id= aws_access_key_id,\n",
    "#    aws_secret_access_key= aws_secret_access_key,\n",
    "#    region_name= 'us-east-1'\n",
    "#    region_name= 'us-west-1'\n",
    "#    region_name= 'eu-west-2'\n",
    "#)\n",
    "# us-east-1: IonQ, Simulators (haven't support Xanadu yet)\n",
    "# us-west-1: Rigetti, Simulators\n",
    "# eu-west-2: Lucy, Simulators\n",
    "#\n",
    "#aws_session = AwsSession(boto_session=boto_session)"
   ]
  },
  {
   "cell_type": "code",
   "execution_count": null,
   "id": "c41cb10b-eee0-4ffb-81a7-ab1b10741560",
   "metadata": {},
   "outputs": [],
   "source": [
    "#aws_session.search_devices()"
   ]
  },
  {
   "cell_type": "code",
   "execution_count": null,
   "id": "fa36070a",
   "metadata": {},
   "outputs": [],
   "source": [
    "# backend の選択\n",
    "from pytket.extensions.braket import BraketBackend\n",
    "\n",
    "# ionQ   arn:aws:braket:::device/qpu/ionq/ionQdevice, region: us-east-1\n",
    "# aws_backend = BraketBackend(device='ionQdevice', s3_bucket=s3_name , s3_folder = bucket_key, device_type = 'qpu', provider = 'ionq', aws_session=aws_session)\n",
    "# Aspen-M-1   arn:aws:braket:us-west-1::device/qpu/rigetti/Aspen-M-1 #Aspen-M-1, region: us-west-1\n",
    "# aws_backend = BraketBackend(device='Aspen-M-1',region = 'us-west-1', s3_bucket=s3_name , s3_folder = bucket_key, device_type = 'qpu', provider = 'rigetti', aws_session=aws_session)\n",
    "# Aspen-11   arn:aws:braket:::device/qpu/rigetti/Aspen-11 #Aspen-11, region: us-west-1\n",
    "# aws_backend = BraketBackend(device='Aspen-11', s3_bucket=s3_name , s3_folder = bucket_key, device_type = 'qpu', provider = 'rigetti', aws_session=aws_session)\n",
    "# Oxford Lucy   arn:aws:braket:eu-west-2::device/qpu/oqc/Lucy #Lucy, region: eu-west-2\n",
    "# aws_backend = BraketBackend(device='Lucy',region = 'eu-west-2', s3_bucket=s3_name , s3_folder = bucket_key, device_type = 'qpu', provider = 'oqc', aws_session=aws_session)\n",
    "# SV1    sim_arn = 'arn:aws:braket:::device/quantum-simulator/amazon/sv1'     #SV1, region:\n",
    "# aws_backend = BraketBackend(device='sv1', s3_bucket=s3_name , s3_folder = bucket_key, aws_session=aws_session)\n",
    "# TN1   sim_arn = 'arn:aws:braket:::device/quantum-simulator/amazon/tn1'    #TN1, region: us-west-2, us-east-1\n",
    "# aws_backend = BraketBackend(device='tn1', s3_bucket=s3_name , s3_folder = bucket_key, device_type = 'quantum-simulator', provider = 'amazon', aws_session=aws_session)\n",
    "# DM1   sim_arn = 'arn:aws:braket:::device/quantum-simulator/amazon/dm1'    #DM1, region: \n",
    "# aws_backend = BraketBackend(device='dm1', s3_bucket=s3_name , s3_folder = bucket_key, device_type = 'quantum-simulator', provider = 'amazon', aws_session=aws_session)\n",
    "# Local sv1 simulator\n",
    "aws_backend = BraketBackend(local = True)"
   ]
  },
  {
   "cell_type": "code",
   "execution_count": null,
   "id": "4c2938a1-0389-4926-96a7-662903e8f247",
   "metadata": {
    "tags": []
   },
   "outputs": [],
   "source": [
    "#aws_backend.backend_info"
   ]
  },
  {
   "cell_type": "code",
   "execution_count": null,
   "id": "abfed170",
   "metadata": {
    "tags": []
   },
   "outputs": [],
   "source": [
    "from pytket import Circuit\n",
    "from pytket.circuit.display import render_circuit_jupyter\n",
    "# bell状態の作成\n",
    "bell = Circuit(2)\n",
    "bell.H(0).CX(0,1)\n",
    "bell.measure_all()\n",
    "render_circuit_jupyter(bell)\n",
    "\n",
    "# backend に用意されているゲートで量子回路を表現\n",
    "aws_bell = aws_backend.get_compiled_circuit(bell)\n",
    "render_circuit_jupyter(aws_bell)"
   ]
  },
  {
   "cell_type": "code",
   "execution_count": null,
   "id": "52c5e7be",
   "metadata": {},
   "outputs": [],
   "source": [
    "aws_handle = aws_backend.process_circuit(aws_bell, n_shots =100)"
   ]
  },
  {
   "cell_type": "code",
   "execution_count": null,
   "id": "6af51a75-76a0-4a81-813a-1e9e1e5ed03c",
   "metadata": {},
   "outputs": [],
   "source": [
    "aws_result = aws_backend.get_result(aws_handle)"
   ]
  },
  {
   "cell_type": "code",
   "execution_count": null,
   "id": "93c85f45-f8b5-49ce-9c62-9e0ddb48335e",
   "metadata": {},
   "outputs": [],
   "source": [
    "aws_counts = aws_result.get_counts()\n",
    "print(aws_counts)\n",
    "from qiskit.visualization import plot_histogram\n",
    "plot_histogram(aws_result.get_counts())"
   ]
  },
  {
   "cell_type": "code",
   "execution_count": null,
   "id": "6ac033cf-7ce7-41db-a93a-28e2d4d5e313",
   "metadata": {},
   "outputs": [],
   "source": [
    "#print(str(aws_handle))"
   ]
  },
  {
   "cell_type": "code",
   "execution_count": null,
   "id": "4c32ced8-616f-4b8e-9e93-3493b1151206",
   "metadata": {},
   "outputs": [],
   "source": [
    "#from pytket.backends import ResultHandle\n",
    "#handle = ResultHandle.from_str(\"handle_id\")"
   ]
  },
  {
   "cell_type": "code",
   "execution_count": null,
   "id": "d73c163a",
   "metadata": {},
   "outputs": [],
   "source": [
    "#result = aws_backend.get_result(handle)\n",
    "#print(result.get_counts())\n",
    "#from qiskit.visualization import plot_histogram\n",
    "#plot_histogram(aws_result.get_counts())"
   ]
  },
  {
   "cell_type": "code",
   "execution_count": null,
   "id": "f1c97a12-2da9-472b-8e2c-749c37e6d862",
   "metadata": {},
   "outputs": [],
   "source": []
  },
  {
   "cell_type": "markdown",
   "id": "b17a816e-654b-4870-87a7-a17b9bf3f54d",
   "metadata": {
    "tags": []
   },
   "source": [
    "### 4-3. pytket-qsharpを利用して、Azure Quantumのシミュレータや実機にアクセス"
   ]
  },
  {
   "cell_type": "code",
   "execution_count": null,
   "id": "85269b71-2331-4d8d-98a9-ec983cb4fd8a",
   "metadata": {},
   "outputs": [],
   "source": [
    "#path = 'azure-key'\n",
    "#f = open(path)\n",
    "#resource_id = [s.strip() for s in f.readlines()]\n",
    "#f.close()"
   ]
  },
  {
   "cell_type": "code",
   "execution_count": null,
   "id": "b028bd95-d2d3-4a84-9425-152f47a2073b",
   "metadata": {},
   "outputs": [],
   "source": [
    "#from pytket.extensions.qsharp import set_azure_config\n",
    "#set_azure_config(resourceId=resource_id, location=\"eastus\")"
   ]
  },
  {
   "cell_type": "code",
   "execution_count": null,
   "id": "cf22b234-14c9-4a37-875d-539bfb8eec3b",
   "metadata": {},
   "outputs": [],
   "source": [
    "#from pytket.extensions.qsharp import AzureBackend"
   ]
  },
  {
   "cell_type": "code",
   "execution_count": null,
   "id": "b3188513-63f0-4db0-85b0-ca41614298b6",
   "metadata": {},
   "outputs": [],
   "source": [
    "# Azure Qauntum上の実機IonQを利用する\n",
    "# from pytket.extensions.qsharp import AzureBackend\n",
    "# azure_backend = AzureBackend(target_name='ionq.simulator')"
   ]
  },
  {
   "cell_type": "code",
   "execution_count": null,
   "id": "e99c5af7-cdff-4fca-91bb-e5fdf0bc999b",
   "metadata": {},
   "outputs": [],
   "source": [
    "# Azure Qauntumが提供しているローカルシミュレータを利用する\n",
    "from pytket.extensions.qsharp import QsharpSimulatorBackend\n",
    "from qiskit.visualization import plot_histogram"
   ]
  },
  {
   "cell_type": "code",
   "execution_count": null,
   "id": "1ee33c93-42ff-4c08-9270-f7a57d5f4fb1",
   "metadata": {},
   "outputs": [],
   "source": [
    "azure_backend = QsharpSimulatorBackend()"
   ]
  },
  {
   "cell_type": "code",
   "execution_count": null,
   "id": "c9e3f437-dabd-45d8-8d79-8d8fd7eb7722",
   "metadata": {},
   "outputs": [],
   "source": [
    "from pytket import Circuit\n",
    "from pytket.circuit.display import render_circuit_jupyter\n",
    "bell = Circuit(2)\n",
    "bell.H(0).CX(0,1)\n",
    "bell.measure_all()\n",
    "render_circuit_jupyter(bell)\n",
    "\n",
    "# backendのgate setで量子回路を表現する\n",
    "azure_bell = azure_backend.get_compiled_circuit(bell)\n",
    "render_circuit_jupyter(azure_bell)"
   ]
  },
  {
   "cell_type": "code",
   "execution_count": null,
   "id": "4c691163-d293-49cf-af79-90561c33cf5b",
   "metadata": {},
   "outputs": [],
   "source": [
    "result = azure_backend.process_circuit(azure_bell, n_shots=100)\n",
    "azure_result = azure_backend.get_result(result)\n",
    "azure_counts = azure_result.get_counts()\n",
    "plot_histogram(azure_counts)"
   ]
  },
  {
   "cell_type": "code",
   "execution_count": null,
   "id": "567bc71c-e1db-4eb3-8b07-a77b25c40183",
   "metadata": {},
   "outputs": [],
   "source": []
  },
  {
   "cell_type": "code",
   "execution_count": null,
   "id": "7d69a3cd-2442-45b9-a197-45807203ee85",
   "metadata": {},
   "outputs": [],
   "source": []
  },
  {
   "cell_type": "markdown",
   "id": "f5531565-c200-410b-b964-e0695bf2416d",
   "metadata": {
    "jp-MarkdownHeadingCollapsed": true,
    "tags": []
   },
   "source": [
    "弊社Quantinuumのご紹介\n",
    "- ウェブサイト（ 英語 ）： https://www.quantinuum.com/\n",
    "- 各種技術詳細（ 英語 ）： https://www.quantinuum.com/products\n",
    "- プレスリリース（ 日本語 ）： https://japan.zdnet.com/company/30001168/release/　\n",
    "- Twitter（ 日本語 ）： https://twitter.com/quantinuum_jp\n",
    "- 日本チーム主催の勉強会（ 日本語 ）： https://cambridgequantum.connpass.com/\n",
    "- 採用情報（ 英語 ）：https://www.quantinuum.com/careers\n",
    "\n",
    "Cambridge Quantumのご紹介\n",
    "- ウェブサイト（ 英語 ）： https://cambridgequantum.com/\n",
    "- 学術論文（ 英語 ）： https://cambridgequantum.com/our-publications/　"
   ]
  },
  {
   "cell_type": "code",
   "execution_count": null,
   "id": "41dc5af2-36de-4f36-a498-6523de5c7296",
   "metadata": {},
   "outputs": [],
   "source": []
  }
 ],
 "metadata": {
  "kernelspec": {
   "display_name": "Python 3 (ipykernel)",
   "language": "python",
   "name": "python3"
  },
  "language_info": {
   "codemirror_mode": {
    "name": "ipython",
    "version": 3
   },
   "file_extension": ".py",
   "mimetype": "text/x-python",
   "name": "python",
   "nbconvert_exporter": "python",
   "pygments_lexer": "ipython3",
   "version": "3.9.7"
  }
 },
 "nbformat": 4,
 "nbformat_minor": 5
}
