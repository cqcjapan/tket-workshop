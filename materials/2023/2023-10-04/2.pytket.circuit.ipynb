{
 "cells": [
  {
   "cell_type": "markdown",
   "id": "c078cf10-1fc4-44ca-976e-6da15b8cf5a2",
   "metadata": {},
   "source": [
    "# A. tketを使った量子回路の作成　基礎編"
   ]
  },
  {
   "cell_type": "markdown",
   "id": "fbdd0cef-bc69-457d-90cf-4fedb5646681",
   "metadata": {},
   "source": [
    "## 1. 量子ビットの準備する"
   ]
  },
  {
   "cell_type": "markdown",
   "id": "d9e8cc7c-2bd8-48b6-8374-e4a6b69f4c10",
   "metadata": {},
   "source": [
    "### 1-1. Circuitで量子ビット数、ビット数を指定する。$|0\\rangle^{\\otimes n}$が初期値\n",
    "量子ビットを準備\n",
    "- `Circuit('number of qubits')` \n",
    "\n",
    "量子ビット、ビットを準備\n",
    "- `Circuit('number of qubits','number of bits')` \n",
    "\n",
    "量子回路を出力\n",
    "- `render_circuit_jupyter(Circuit)`"
   ]
  },
  {
   "cell_type": "code",
   "execution_count": null,
   "id": "63b55205-f369-4961-a7b8-702f56b6926b",
   "metadata": {
    "collapsed": false,
    "jupyter": {
     "outputs_hidden": false,
     "source_hidden": false
    },
    "nteract": {
     "transient": {
      "deleting": false
     }
    }
   },
   "outputs": [],
   "source": [
    "#!pip install -U pytket\n",
    "#!pip install -U pytket-qiskit\n",
    "#!pip install -U pytket-qsharp"
   ]
  },
  {
   "cell_type": "code",
   "execution_count": null,
   "id": "ec44b2a8-c2d3-41ba-a035-f9f10b40189f",
   "metadata": {},
   "outputs": [],
   "source": [
    "from pytket import Circuit\n",
    "from pytket.circuit.display import render_circuit_jupyter #量子回路モデルの表示\n",
    "trivial_circ = Circuit()        # no qubits or bits\n",
    "quantum_circ = Circuit(2)       # 4 qubits and no bits\n",
    "mixed_circ   = Circuit(2, 1)    # 4 qubits and 2 bits\n",
    "render_circuit_jupyter(trivial_circ)\n",
    "render_circuit_jupyter(quantum_circ)\n",
    "render_circuit_jupyter(mixed_circ)"
   ]
  },
  {
   "cell_type": "markdown",
   "id": "e801f074-8783-4948-aba2-94becce01726",
   "metadata": {},
   "source": [
    "### 1-2. add_q_registerで量子ビット、add_c_registerでビットを挿入する\n",
    "量子ビットを加える\n",
    "- `Circuit.add_q_register('name','number of qubits')`\n",
    "\n",
    "ビットを加える\n",
    "- `Circuit.add_c_register('name','number of bits')`\n",
    "\n",
    "量子ビットのリストを出力\n",
    "- `Circuit.qubits`\n",
    "\n",
    "ビットのリストを出力\n",
    "- `Circuit.bits`"
   ]
  },
  {
   "cell_type": "code",
   "execution_count": null,
   "id": "2ca6b7df-9766-4f7c-9ba5-3df6be17fc93",
   "metadata": {},
   "outputs": [],
   "source": [
    "circ = Circuit()        # no qubits or bits\n",
    "circ.add_q_register('qb1',2)       # add 2 qubits\n",
    "circ.add_q_register('qb2',1)       # add 1 qubit\n",
    "circ.add_c_register('cb',2)        # add 2 bits\n",
    "print(circ.qubits)                 #qubit registerの確認\n",
    "print(circ.bits)                   #bit registerの確認\n",
    "render_circuit_jupyter(circ)"
   ]
  },
  {
   "cell_type": "markdown",
   "id": "76c03194-f0ee-42bf-a5cb-5bc821902a80",
   "metadata": {},
   "source": [
    "## 2. 準備した量子ビットに量子ゲートを作用させる"
   ]
  },
  {
   "cell_type": "markdown",
   "id": "10396af8-4ee7-4a5b-b4be-aedb90c35df4",
   "metadata": {},
   "source": [
    "### 2-1. 基本的な量子ゲートの作用\n",
    "準備した量子ビットに量子ゲートを作用させる\n",
    "\n",
    "(制御、回転角の指定)=(無,無) \n",
    "- `Circuit.'gate_name'('terget qubit(s)')`\n",
    "\n",
    "(制御、回転角の指定)=(有,無) \n",
    "- `Circuit.'gate_name'('control_qubit(s)','terget qubit(s)')`\n",
    "\n",
    "(制御、回転角の指定)=(無,有) \n",
    "- `Circuit.'gate_name'('angle','terget qubit(s)')`\n",
    "\n",
    "(制御、回転角の指定)=(有,有) \n",
    "- `Circuit.'gate_name'('angle','control_qubit(s)','terget qubit(s)')`"
   ]
  },
  {
   "cell_type": "code",
   "execution_count": null,
   "id": "969b9a14-ca2b-40c3-ace9-77aedf91e506",
   "metadata": {},
   "outputs": [],
   "source": [
    "from pytket import Circuit\n",
    "circ = Circuit(3)\n",
    "circ.X(1)\n",
    "circ.SWAP(1,2)\n",
    "circ.CH(0,2)\n",
    "circ.Rx(0.5,1)\n",
    "circ.CCX(0,2,1)\n",
    "circ.CRy(0.25,0,2)\n",
    "render_circuit_jupyter(circ)"
   ]
  },
  {
   "cell_type": "markdown",
   "id": "c6e89a28-311f-4989-bd6c-6f2abaa7f7b3",
   "metadata": {},
   "source": [
    "### 2-2. TKETでの基本的な量子ゲート\n",
    "参照：https://cqcl.github.io/tket/pytket/api/circuit_class.html#\n",
    "\n",
    "|  量子ゲート  | 概要   |  量子ゲート | 概要 |  量子ゲート | 概要   |\n",
    "| :----: | :----: | :----: | :----: | :----: | :----: |\n",
    "|  **X(qubit)** |  $\\begin{pmatrix} 0 & 1 \\\\ 1 & 0 \\end{pmatrix}$  |  **Y(qubit)** |  $\\begin{pmatrix} 0 & -i\\\\ i & 0 \\end{pmatrix}$  |  **Z(qubit)** |  $\\begin{pmatrix} 1 & 0 \\\\ 0 & -1 \\end{pmatrix}$  |\n",
    "|  **CX(c_qubit,t_qubit)** |  Controlled X  |  **CY(c_qubit,t_qubit)** |  Controlled Y  |  **CZ(c_qubit,t_qubit)** |  Controlled Z  |\n",
    "|  **Rx(angle,qubit)**  | $e^{-\\frac{1}{2}i\\pi\\alpha X}=\\begin{pmatrix} \\cos \\frac{\\alpha\\pi}{2} & -i \\sin \\frac{\\alpha\\pi}{2} \\\\ -i \\sin \\frac{\\alpha\\pi}{2} & \\cos \\frac{\\alpha\\pi}{2} \\end{pmatrix}$  |  **Ry(angle,qubit)**  | $e^{-\\frac{1}{2}i\\pi\\alpha Y}=\\begin{pmatrix} \\cos \\frac{\\alpha\\pi}{2} & -\\sin \\frac{\\alpha\\pi}{2} \\\\ \\sin \\frac{\\alpha\\pi}{2} & \\cos \\frac{\\alpha\\pi}{2} \\end{pmatrix}$  |  **Rz(angle,qubit)** <br><span style=\"color: red; \">(H-series native)</span> | $e^{-\\frac{1}{2}i\\pi\\alpha Z}=\\begin{pmatrix} e^{-\\frac{i\\alpha\\pi}{2}} & 0 \\\\ 0 & e^{\\frac{i\\alpha\\pi}{2}} \\end{pmatrix}$  |\n",
    "|  **CRx(angle,c_qubit,t_qubit)**  | Controlled Rx  |  **CRy(angle,c_qubit,t_qubit)**  | Controlled Ry  |  **CRz(angle,c_qubit,t_qubit)**  | Controlled Rz  |\n",
    "|  **XXPhase(angle,qubit0,qubit1)**  | $\\begin{pmatrix} \\cos \\frac{\\alpha\\pi}{2} &0&0& -i \\sin \\frac{\\alpha\\pi}{2} \\\\ 0 & \\cos \\frac{\\alpha\\pi}{2}&-i \\sin \\frac{\\alpha\\pi}{2}&0\\\\ 0 & -i \\sin \\frac{\\alpha\\pi}{2}&\\cos \\frac{\\alpha\\pi}{2}&0\\\\ -i \\sin \\frac{\\alpha\\pi}{2}&0&0&\\cos \\frac{\\alpha\\pi}{2}\\end{pmatrix}$  |  **YYPhase(angle,qubit0,qubit1)**  | $\\begin{pmatrix} \\cos \\frac{\\alpha\\pi}{2} &0&0& i \\sin \\frac{\\alpha\\pi}{2} \\\\ 0 & \\cos \\frac{\\alpha\\pi}{2}&-i \\sin \\frac{\\alpha\\pi}{2}&0\\\\ 0 & -i \\sin \\frac{\\alpha\\pi}{2}&\\cos \\frac{\\alpha\\pi}{2}&0\\\\ i \\sin \\frac{\\alpha\\pi}{2}&0&0&\\cos \\frac{\\alpha\\pi}{2}\\end{pmatrix}$   |  **ZZPhase(angle,qubit0,qubit1)** <br><span style=\"color: red; \">(H-series native)</span> | $\\begin{pmatrix} e^{-\\frac{i\\alpha\\pi}{2}} & 0 & 0 & 0 \\\\ 0 & e^{\\frac{i\\alpha\\pi}{2}} & 0 & 0 \\\\ 0 & 0 & e^{\\frac{i\\alpha\\pi}{2}} & 0 \\\\ 0 & 0 & 0 & e^{-\\frac{i\\alpha\\pi}{2}} \\end{pmatrix}$   |\n",
    "| **PhasedX** <br><span style=\"color: red; \">(H-series native)</span>| $(\\alpha,\\beta)$ | **Rz(**$\\beta$**)Rx(**$\\alpha$**)Rz(**$-\\beta$**)**|\n"
   ]
  },
  {
   "cell_type": "markdown",
   "id": "57e43f22-1e5a-4505-b3f0-ffe571b0e62c",
   "metadata": {},
   "source": [
    "\n",
    "|  量子ゲート |  階数  |  量子ゲート | 概要 | \n",
    "| :----: | :----: | :----: | :----: | \n",
    "|  **H(qubit)**  | $\\frac{1}{\\sqrt{2}}\\begin{pmatrix} 1 & 1 \\\\ 1 & -1 \\end{pmatrix}$ | **SWAP(qubit0,qubit1)** |  SWAP ゲート  |\n",
    "|  **CH(c_qubit,t_qubit)**   |  Controlled H  | **CSWAP(c_qubit,t_qubit0,t_qubit1)**  | Controlled SWAP|\n",
    "| **CCX(c_qubit0,c_qubit1,t_qubit)**  | トフォリ ゲート   | | | |"
   ]
  },
  {
   "cell_type": "markdown",
   "id": "963cbf91-db0f-4fae-8b8d-07c65e8c3394",
   "metadata": {},
   "source": [
    "|  量子ゲート |  概要 |  量子ゲート |  概要 | \n",
    "| :----: | :----: | :----: | :----: |\n",
    "|  **S(qubit)**  |  $\\begin{pmatrix} 1 & 0 \\\\ 0 & i \\end{pmatrix}$  |  **T(qubit)**  |  $\\begin{pmatrix} 1 & 0 \\\\ 0 & e^{\\frac{i\\pi}{4}} \\end{pmatrix}$  |\n",
    "|  **Sdg(qubit)**  |  $\\begin{pmatrix} 1 & 0 \\\\ 0 & -i \\end{pmatrix}$  |  **Tdg(qubit)**  |  $\\begin{pmatrix} 1 & 0 \\\\ 0 & e^{-\\frac{i\\pi}{4}} \\end{pmatrix}$  |\n",
    "|  **SX(qubit)**  |  $\\frac{1}{2}\\begin{pmatrix} 1+i & 1-i \\\\ 1-i & 1+i \\end{pmatrix} $ |  **V(qubit)**  |   $\\frac{1}{\\sqrt{2}}\\begin{pmatrix} 1 & -i \\\\ -i & 1 \\end{pmatrix} $ |\n",
    "|  **SXdg(qubit)**  |   $\\frac{1}{2}\\begin{pmatrix} 1-i & 1+i \\\\ 1+i & 1-i \\end{pmatrix}$   |  **Vdg(qubit)**  |  $\\frac{1}{\\sqrt{2}}\\begin{pmatrix} 1 & i \\\\ i & 1 \\end{pmatrix} $ |\n",
    "|  **CSX(c_qubit,t_qubit)**  |  Controlled SX  |  **CV(c_qubit,t_qubit)**  |  Controlled V  |\n",
    "|  **CSXdg(c_qubit,t_qubit)**  |  Controlled SXdg  |  **CVdg(c_qubit,t_qubit)**  |  Controlled Vdg  |"
   ]
  },
  {
   "cell_type": "markdown",
   "id": "70aa6e05-56ba-4b2b-ad5f-d5feccbcbf84",
   "metadata": {},
   "source": [
    "### 2-3. add_gateを使った量子ゲートの作用\n",
    "2-2.で挙げたゲート以外にも様々な量子ゲートが用意されている\n",
    "- `Circuit.add_gate(OpType.'gate_name',['angle(s)'],['qubit(s)'])` \n",
    "\n",
    "として利用\n",
    "\n",
    "|  量子ゲート |  パラメータ  | 概要 |  量子ゲート |  パラメータ  | 概要 | \n",
    "| :----: | :----: | :----: | :----: | :----: | :----: |\n",
    "|  **U1**  |$\\lambda$ | $e^{\\frac{i\\pi\\lambda}{2}}Rz(\\lambda)$ | **U2** | $(\\phi,\\lambda)$ | $e^{\\frac{i\\pi(\\lambda+\\phi)}{2}}$ $Rz(\\phi)Ry(\\frac{1}{2})$ $Rz(\\lambda)$  |\n",
    "|  **U3** |$(\\theta,\\phi,\\lambda)$ | $e^{\\frac{i\\pi(\\lambda+\\phi)}{2}}$ $Rz(\\phi)$ $Ry(\\theta)$ $Rz(\\lambda)$ |  |  |  |  |\n",
    "|  **CU1**  |$\\lambda$ | controlled U1 $(\\lambda)$ |  **CU3** | $(\\theta,\\phi,\\lambda)$ | controlled U3 $(\\theta,\\phi,\\lambda)$ |\n",
    "|  **CnX**  || n-controlled X | **CnRy** | $\\alpha$ | n-controlled $Ry(\\alpha)$ |  |  |  |  |\n",
    "|  **TK1**  |$(\\alpha,\\beta,\\gamma)$ | $Rz(\\alpha)$ $Rx(\\beta)$ $Rz(\\gamma)$ | **TK2** | $(\\alpha,\\beta,\\gamma)$ | XXPhase( $\\alpha$ )YYPhase( $\\beta$ )ZZphase( $\\gamma$ ) |\n",
    "|  **Unitary1qBox**  |$2\\times 2$ | $2\\times 2$ユニタリー行列 | **Unitary2qBox** | $4\\times 4$ | $4\\times 4$ユニタリー行列 |\n",
    "| **Unitary3qBox** |$8\\times 8$ | $8\\times 8$ユニタリー行列 |\n",
    "\n",
    "参照：https://cqcl.github.io/tket/pytket/api/optype.html\n"
   ]
  },
  {
   "cell_type": "code",
   "execution_count": null,
   "id": "5463e944-b714-457e-a681-d2e1382729fd",
   "metadata": {},
   "outputs": [],
   "source": [
    "from pytket import Circuit, OpType\n",
    "# add_gate(OpType.'gate_name',['angle(s)'],['qubit(s)'])\n",
    "circ = Circuit(3)\n",
    "circ.add_gate(OpType.X,[0]) \n",
    "circ.add_gate(OpType.SWAP,[1,2])\n",
    "circ.add_gate(OpType.CH,[0,2])\n",
    "circ.add_gate(OpType.Rx,[0.5],[1])\n",
    "circ.add_gate(OpType.CCX,[0,2,1])\n",
    "circ.add_gate(OpType.CRy,[0.25],[0,2])\n",
    "render_circuit_jupyter(circ)"
   ]
  },
  {
   "cell_type": "code",
   "execution_count": null,
   "id": "bdf98d72-0db6-488d-b22e-710ceb28fa45",
   "metadata": {},
   "outputs": [],
   "source": [
    "from pytket import Circuit, OpType\n",
    "# add_gate(OpType.'gate_name',['angle(s)'],['qubit(s)'])\n",
    "circ = Circuit(4)\n",
    "circ.add_gate(OpType.U1,[0.75],[0]) \n",
    "circ.add_gate(OpType.U2,[0.75,0.25],[1])\n",
    "circ.add_gate(OpType.U3,[0.5,0.5,0.5],[2])\n",
    "circ.add_gate(OpType.CU1,[0.5],[0,2])\n",
    "circ.add_gate(OpType.CU3,[0.5,0.75,0.25],[1,2])\n",
    "circ.add_gate(OpType.CnRy,[0.5],[0])\n",
    "circ.add_gate(OpType.CnRy,[0.5],[1,0])\n",
    "circ.add_gate(OpType.CnRy,[0.5],[1,2,0])\n",
    "circ.add_gate(OpType.CnRy,[0.5],[1,2,3,0])\n",
    "circ.add_gate(OpType.CnX,[3])\n",
    "circ.add_gate(OpType.CnX,[2,3])\n",
    "circ.add_gate(OpType.CnX,[1,2,3])\n",
    "circ.add_gate(OpType.CnX,[0,1,2,3])\n",
    "render_circuit_jupyter(circ)"
   ]
  },
  {
   "cell_type": "code",
   "execution_count": null,
   "id": "f084ea8b-52a5-4c28-942c-c96935486c34",
   "metadata": {},
   "outputs": [],
   "source": []
  },
  {
   "cell_type": "markdown",
   "id": "7fdb69a7-19de-4005-89ce-1c3856309cb8",
   "metadata": {},
   "source": [
    "## 3. 測定\n",
    "### tketでは、すべての測定はZ基底$\\{|0\\rangle,|1\\rangle\\}$で行われる。"
   ]
  },
  {
   "cell_type": "markdown",
   "id": "47ae4f31-68ff-4748-86ab-324712e1afbd",
   "metadata": {
    "tags": []
   },
   "source": [
    "- `Circuit.Measure('qubit','bit')`\n",
    "\n",
    "として利用\n",
    "\n",
    "- Z基底以外での測定をしたい場合には、測定の直前でZ基底を基底変換する"
   ]
  },
  {
   "cell_type": "code",
   "execution_count": null,
   "id": "aebf3a2f-0088-4dd3-a4f6-251bcbf74139",
   "metadata": {},
   "outputs": [],
   "source": [
    "from pytket import Circuit\n",
    "from pytket.circuit.display import render_circuit_jupyter\n",
    "circ = Circuit(2, 2)\n",
    "circ.Measure(0, 0)  #  measurement on qubit 0, saving result in bit 0\n",
    "circ.add_barrier([0,1])\n",
    "circ.H(1) # change of basis\n",
    "circ.Measure(1, 1)  # X-basis measurement on qubit 1, saving result in bit 1\n",
    "render_circuit_jupyter(circ)"
   ]
  },
  {
   "cell_type": "markdown",
   "id": "af1c7f5d-f963-460d-8c6b-1baf0c9d7e57",
   "metadata": {},
   "source": [
    "測定結果を上書きすることが可能"
   ]
  },
  {
   "cell_type": "code",
   "execution_count": null,
   "id": "2c765292-11c7-4c8b-837c-1cebc117dc65",
   "metadata": {},
   "outputs": [],
   "source": [
    "from pytket import Circuit\n",
    "circ = Circuit(2, 1)\n",
    "circ.Measure(0, 0)  # measurement on qubit 0\n",
    "circ.Measure(1, 0)  # overwrites the first result with the measurement on qubit 1\n",
    "render_circuit_jupyter(circ)"
   ]
  },
  {
   "cell_type": "markdown",
   "id": "f5474ce6-1427-417a-8858-94c65ccb2aec",
   "metadata": {},
   "source": [
    "すべての量子ビットを測定する\n",
    "- `Circuit.measure_all()`\n",
    "\n",
    "量子ビット数に対してビット数が少ない場合にはビットを補完する"
   ]
  },
  {
   "cell_type": "code",
   "execution_count": null,
   "id": "3b864a77-63bd-49ce-8542-c5e6584a92ba",
   "metadata": {},
   "outputs": [],
   "source": [
    "from pytket import Circuit\n",
    "# measure qubit 0 in Z basis and 1 in X basis\n",
    "circ = Circuit(2, 2)\n",
    "circ.measure_all()\n",
    "render_circuit_jupyter(circ)\n",
    "\n",
    "circ = Circuit(2, 1)\n",
    "circ.measure_all()\n",
    "render_circuit_jupyter(circ)\n",
    "\n",
    "# measure_all() adds bits if they are not already defined, so equivalently\n",
    "circ = Circuit(2)\n",
    "circ.measure_all()\n",
    "render_circuit_jupyter(circ)"
   ]
  },
  {
   "cell_type": "markdown",
   "id": "d3d491d1-f475-467a-af10-07f511d7beac",
   "metadata": {},
   "source": [
    "レジスターを指定して量子ビットを測定する\n",
    "- `Circuit.measure_register('QubitRegister','name of BitRegister to be created')`\n",
    "\n",
    "QubitRegisterのリストは以下で取得可能\n",
    "- `Circuit.q_registers`"
   ]
  },
  {
   "cell_type": "code",
   "execution_count": null,
   "id": "307fa07b-5549-4981-9847-4c3602265728",
   "metadata": {},
   "outputs": [],
   "source": [
    "circ = Circuit()        # no qubits or bits\n",
    "circ.add_q_register('qb1',2)       # add 2 qubits\n",
    "circ.add_q_register('qb2',1)       # add 1 qubit\n",
    "render_circuit_jupyter(circ)"
   ]
  },
  {
   "cell_type": "code",
   "execution_count": null,
   "id": "ef6d580b-61b2-4e0b-8350-55fbf8d22ff8",
   "metadata": {},
   "outputs": [],
   "source": [
    "circ.q_registers"
   ]
  },
  {
   "cell_type": "markdown",
   "id": "5c5a38b3-dc74-4310-b11a-bb133c34407b",
   "metadata": {},
   "source": [
    "QubitRegister(\"qb1\", 2)を測定する"
   ]
  },
  {
   "cell_type": "code",
   "execution_count": null,
   "id": "c58eaedf-9555-4c21-aa9f-14bb7399811a",
   "metadata": {},
   "outputs": [],
   "source": [
    "circ = Circuit()        # no qubits or bits\n",
    "circ.add_q_register('qb1',2)       # add 2 qubits\n",
    "circ.add_q_register('qb2',1)       # add 1 qubit\n",
    "circ.measure_register(circ.q_registers[0],'cb')\n",
    "render_circuit_jupyter(circ)"
   ]
  },
  {
   "cell_type": "markdown",
   "id": "d215c0e2-cf9c-4ed6-8dcb-98e8f2b53adb",
   "metadata": {},
   "source": [
    "## ※ここまでの知識を使って量子回路を作成し、IBMのシミュレータにJobを投げてみる"
   ]
  },
  {
   "cell_type": "markdown",
   "id": "c839f4a1-51ba-4381-b898-e8186aa6ce89",
   "metadata": {},
   "source": [
    "### 重ね合わせ状態を作成\n",
    "$$ |\\Psi\\rangle = \\frac{1}{\\sqrt{2}}(|0\\rangle+|1\\rangle)$$"
   ]
  },
  {
   "cell_type": "code",
   "execution_count": null,
   "id": "8e49c1d8-2156-4388-8531-830d1f325aee",
   "metadata": {},
   "outputs": [],
   "source": [
    "from pytket import Circuit, OpType\n",
    "circ = Circuit(1, 1)\n",
    "circ.H(0)\n",
    "circ.Measure(0, 0)\n",
    "render_circuit_jupyter(circ)"
   ]
  },
  {
   "cell_type": "code",
   "execution_count": null,
   "id": "2d830e16-cd37-4220-bba3-3e075f7c5e18",
   "metadata": {},
   "outputs": [],
   "source": [
    "from pytket.extensions.qiskit import AerBackend\n",
    "from qiskit.visualization import plot_histogram\n",
    "backend = AerBackend()\n",
    "handle = backend.process_circuit(circ, n_shots =1000)\n",
    "result_counts = backend.get_result(handle).get_counts()\n",
    "plot_histogram(result_counts)"
   ]
  },
  {
   "cell_type": "code",
   "execution_count": null,
   "id": "25ec302e-0b82-4241-9837-6decd5747028",
   "metadata": {},
   "outputs": [],
   "source": [
    "from pytket import Circuit, OpType\n",
    "circ = Circuit(2, 1)\n",
    "circ.H(0)\n",
    "circ.Measure(0, 0)\n",
    "# Actively reset state to |0>\n",
    "circ.add_gate(OpType.Reset, [0])\n",
    "# Conditionally flip state to |1> to reflect measurement result\n",
    "circ.X(0, condition_bits=[0], condition_value=1)\n",
    "# Use the qubit as if the measurement was non-destructive\n",
    "circ.CX(0, 1)\n",
    "circ.Measure(1,0)\n",
    "render_circuit_jupyter(circ)"
   ]
  },
  {
   "cell_type": "markdown",
   "id": "2377fd88-fc7c-4c44-926a-7989cfeebe8a",
   "metadata": {
    "nteract": {
     "transient": {
      "deleting": false
     }
    }
   },
   "source": [
    "#### 上記はMid-circuit measurement, feedforwardと呼ばれている機能で、量子誤り訂正や量子テレポーテション等に必要不可欠な機能です。  \n",
    "#### 現在、この機能が実装されている量子コンピュータはQuantinuumとIBMのものです。"
   ]
  },
  {
   "cell_type": "code",
   "execution_count": null,
   "id": "90a964b2-db3e-48d9-b19f-80300f949841",
   "metadata": {},
   "outputs": [],
   "source": [
    "from pytket.extensions.qiskit import AerBackend\n",
    "from qiskit.visualization import plot_histogram\n",
    "backend = AerBackend()\n",
    "handle = backend.process_circuit(circ, n_shots =10000)\n",
    "result_counts = backend.get_result(handle).get_counts()\n",
    "plot_histogram(result_counts)"
   ]
  },
  {
   "cell_type": "markdown",
   "id": "a9e03898-738b-442b-ba15-cae750691bea",
   "metadata": {
    "tags": []
   },
   "source": [
    "## 5. バリア (オプション)\n",
    "バリアは命令として存在しますが、能動的な操作は行いません。その代わり、その機能は2つあります。\n",
    "- 実行時には、バリアより前の操作がバリアより後の操作の開始前に終了していることを保証する。\n",
    "- コンパイル時に、コンパイラがバリアの周囲で操作を並べ替えるのを防ぐ。"
   ]
  },
  {
   "cell_type": "markdown",
   "id": "45389b1e-fc7d-4d01-85e4-9368dea2d4d2",
   "metadata": {},
   "source": [
    "バリアの挿入\n",
    "- `Circuit.add_barrier(['qubit(s)'],['bit(s)'])`\n",
    "\n",
    "※バリアの除去は`pytket.passes`に組み込まれている\n",
    "- `RemoveBarriers().apply(Circuit)`"
   ]
  },
  {
   "cell_type": "code",
   "execution_count": null,
   "id": "13a75cd5-ac26-4653-9be5-dc67dfd7728e",
   "metadata": {},
   "outputs": [],
   "source": [
    "from pytket import Circuit\n",
    "circ = Circuit(3, 2)\n",
    "circ.CX(1, 2)\n",
    "circ.Measure(0, 0)\n",
    "circ.Measure(2, 1)\n",
    "render_circuit_jupyter(circ)"
   ]
  },
  {
   "cell_type": "code",
   "execution_count": null,
   "id": "7f0206d6-42d0-4522-a5c4-0bbcc678c62d",
   "metadata": {},
   "outputs": [],
   "source": [
    "from pytket import Circuit\n",
    "circ = Circuit(3, 2)\n",
    "circ.CX(1, 2)\n",
    "circ.add_barrier([0, 1, 2], [0, 1]) # add a barrier on all qubits and bits\n",
    "circ.Measure(0, 0)\n",
    "circ.Measure(2, 1)\n",
    "render_circuit_jupyter(circ)"
   ]
  },
  {
   "cell_type": "code",
   "execution_count": null,
   "id": "1a688701-d397-415d-8447-07030cdff4e9",
   "metadata": {},
   "outputs": [],
   "source": [
    "from pytket.passes import RemoveBarriers\n",
    "RemoveBarriers().apply(circ)\n",
    "render_circuit_jupyter(circ)"
   ]
  },
  {
   "cell_type": "markdown",
   "id": "b8663403-b1a8-4d36-ac51-f30d75bddf5a",
   "metadata": {},
   "source": [
    "# B. tketを使った量子回路の作成　応用編"
   ]
  },
  {
   "cell_type": "markdown",
   "id": "500b089b-8788-4301-b79c-1a7088e24c7c",
   "metadata": {},
   "source": [
    "## 5. 量子回路のボックス化\n",
    "任意の回路を実装するためには、個々の基本ゲートで作業すれば十分ですが、それが最も便利な方法であるとは限りません。\n",
    "一般に、より高度な構造を使って構築した方がはるかに簡単です。\n",
    "pytketでは、複雑な構造を抽象化するために、「ボックス」という概念を用いています。\n",
    "\n",
    "CircBoxでは、Circuitを1つのsubcircuitとして定義し、あたかも1つのゲートであるかのように見せることができます。\n",
    "\n",
    "- `CircBox(Circuit)`\n",
    "\n",
    "としてボックス化することが可能\n",
    "\n",
    "- `Circuit.add_circbox('box name',['qubit(s)'])`\n",
    "\n",
    "としてボックスを作用させる"
   ]
  },
  {
   "cell_type": "code",
   "execution_count": null,
   "id": "ddd0ed7d-1714-4183-be18-db90c815413f",
   "metadata": {},
   "outputs": [],
   "source": [
    "from pytket.circuit import Circuit, CircBox\n",
    "sub = Circuit(2)\n",
    "sub.CX(0, 1).Rz(0.2, 1).CX(0, 1)\n",
    "render_circuit_jupyter(sub)\n",
    "sub_box = CircBox(sub)\n",
    "\n",
    "circ = Circuit(3)\n",
    "circ.add_circbox(sub_box, [0, 1])\n",
    "circ.X(1)\n",
    "circ.add_circbox(sub_box, [2, 1])\n",
    "circ.add_circbox(sub_box, [0, 2])\n",
    "render_circuit_jupyter(circ)"
   ]
  },
  {
   "cell_type": "markdown",
   "id": "c766e367-6643-4c6c-a85d-91ef7dc319a6",
   "metadata": {},
   "source": [
    "## 6. 制御量子ゲートのカスタマイズ\n",
    "制御量子ビットの状態によって、量子ゲートやサブサーキットをターゲットとなる量子ビットに適用する/しない機能をもった制御量子ゲートをカスタマイズすることができる。\n",
    "- `QControlBox('gate or CircBox','number of c_qubits')`\n",
    "\n",
    "量子ゲートは次の操作でカプセル化をする必要がある\n",
    "\n",
    "回転角の指定: 無 \n",
    "- Op.create(OpType.'gate_name')\n",
    "\n",
    "回転角の指定: 有\n",
    "- Op.create(OpType.'gate_name','angle')"
   ]
  },
  {
   "cell_type": "code",
   "execution_count": null,
   "id": "104d6674-54e3-4b11-9c0a-90a8bbaf2841",
   "metadata": {},
   "outputs": [],
   "source": [
    "from pytket.circuit import Op, OpType, QControlBox\n",
    "ops = Op.create(OpType.S)\n",
    "opRx = Op.create(OpType.Rx,0.25)\n",
    "\n",
    "ccs = QControlBox(ops, 2)\n",
    "ccRx = QControlBox(opRx, 3)\n",
    "cbox = QControlBox(sub_box, 1)\n",
    "\n",
    "circ = Circuit(4)\n",
    "circ.add_qcontrolbox(ccs, [0,2,1])\n",
    "circ.add_qcontrolbox(ccRx, [0,2,3,1])\n",
    "circ.add_qcontrolbox(cbox, [0,2,3])\n",
    "render_circuit_jupyter(circ)"
   ]
  },
  {
   "cell_type": "markdown",
   "id": "17670cd5-6abf-4d1c-93e1-a2fd680cee0b",
   "metadata": {},
   "source": [
    "## 7. 状態の確認とユニタリー行列の確認\n",
    "作成した量子回路が与える量子状態を確認することができます。\n",
    "量子回路の構成が正しいかどうかをチェックするのに役立ちます。\n",
    "\n",
    "量子回路が適用された後のシステムの状態ベクトルを生成。すべての量子ビットが初期化された状態であると仮定しています。\n",
    "- `Circuit.get_statevector()`\n",
    "\n",
    "量子回路で適用されるユニタリー行列を数値的に計算\n",
    "- `Circuit.get_unitary()`"
   ]
  },
  {
   "cell_type": "code",
   "execution_count": null,
   "id": "f76c849f-2b63-4a00-a0a7-fb423d8a9626",
   "metadata": {},
   "outputs": [],
   "source": [
    "from pytket import Circuit\n",
    "circ=Circuit(2)\n",
    "circ.H(0).CX(0,1)\n",
    "circ.get_statevector()"
   ]
  },
  {
   "cell_type": "code",
   "execution_count": null,
   "id": "9438d3f1-561c-4707-a920-62d187067233",
   "metadata": {},
   "outputs": [],
   "source": [
    "from pytket import Circuit\n",
    "circ=Circuit(2)\n",
    "circ.H(0).CZ(0,1).H(1)\n",
    "circ.get_unitary()"
   ]
  },
  {
   "cell_type": "markdown",
   "id": "9993db7b-6c8c-4d8e-b87a-66a706cad599",
   "metadata": {},
   "source": [
    "## 8. 量子回路の解析\n",
    "\n",
    "量子回路の複雑さを測る定量的なものとしてゲート数、深さがある。\n",
    "\n",
    "ゲート数：量子回路に含まれるゲート数\n",
    "\n",
    "深さ：並列に実行可能なゲートを1グループとしたときのグループ数\n",
    "\n",
    "量子回路のゲート数、深さは次で出力できる\n",
    "- `Circuit.n_gates`\n",
    "- `Circuit.depth()`\n",
    "\n",
    "特定の量子ゲート(複数可)に着目して、ゲート数、深さを算出することも可能\n",
    "- `Circuit.n_gates_of_type(OpType.'gate_name')`\n",
    "- `Circuit.depth_by_type(OpType.'gate_name')`\n"
   ]
  },
  {
   "cell_type": "code",
   "execution_count": null,
   "id": "42421d42-739f-4450-94f2-cac9ec963583",
   "metadata": {},
   "outputs": [],
   "source": [
    "from pytket import Circuit\n",
    "circ = Circuit(3)\n",
    "circ.CX(0, 1).CZ(1, 2).X(1).Rx(0.3, 0)\n",
    "\n",
    "print('Gete number: ', circ.n_gates)\n",
    "print('Circuit depth: ', circ.depth())\n",
    "render_circuit_jupyter(circ)"
   ]
  },
  {
   "cell_type": "code",
   "execution_count": null,
   "id": "14329624-5728-4a9d-83b4-48279ca4ab81",
   "metadata": {},
   "outputs": [],
   "source": [
    "from pytket import Circuit, OpType\n",
    "circ = Circuit(4)\n",
    "circ.T(0)\n",
    "circ.CX(0, 1)\n",
    "circ.CX(2, 3)\n",
    "circ.T(3)\n",
    "circ.CZ(0, 2)\n",
    "circ.CZ(1, 3)\n",
    "circ.T(1)\n",
    "\n",
    "print('T number: ', circ.n_gates_of_type(OpType.T))\n",
    "print('CX number: ', circ.n_gates_of_type(OpType.CX))\n",
    "print('CZ number: ', circ.n_gates_of_type(OpType.CZ))\n",
    "print('CX number + CZ number: ', circ.n_gates_of_type(OpType.CX) + circ.n_gates_of_type(OpType.CZ))\n",
    "print('T depth: ', circ.depth_by_type(OpType.T))\n",
    "print('CX & CZ depth: ', circ.depth_by_type({OpType.CX, OpType.CZ}))\n",
    "render_circuit_jupyter(circ)"
   ]
  },
  {
   "cell_type": "markdown",
   "id": "6d5249b1-c8bc-4a63-9808-db2ed8c76956",
   "metadata": {},
   "source": [
    "## 9. パラメータ付き量子ゲート\n",
    "似たような構造を持ちながらゲートパラメータを変化させた回路を多数使用する実験が非常に一般的である。\n",
    "VQEやQAOAのような変分アルゴリズムでは、回路パラメータを代数記号として扱い、エネルギーランドスケープを探索しています。\n",
    "\n",
    "- `sympy`の`Symbol`, `symbols`を利用して、量子ゲートのパラメータを代数記号として扱うことができます\n",
    "- `Circuit.symbol_substitution('set of parameter values')`として値の代入可能"
   ]
  },
  {
   "cell_type": "code",
   "execution_count": null,
   "id": "21eba740-5ede-460a-b86a-16fd57e7465c",
   "metadata": {},
   "outputs": [],
   "source": [
    "from pytket import Circuit, OpType\n",
    "from sympy import symbols, Symbol\n",
    "a = Symbol(\"a\")\n",
    "b, c = symbols(\"b c\")\n",
    "circ = Circuit(2)\n",
    "circ.Rx(a, 0)\n",
    "circ.Rx(c, 1)\n",
    "circ.CX(0, 1)\n",
    "circ.add_gate(OpType.YYPhase, b, [0, 1])\n",
    "render_circuit_jupyter(circ)"
   ]
  },
  {
   "cell_type": "markdown",
   "id": "82a72d5a-59b0-4134-9d03-e00d27b76c2b",
   "metadata": {},
   "source": [
    "代入操作\n",
    "- `symbol_substitution`\n",
    "\n",
    "を利用"
   ]
  },
  {
   "cell_type": "code",
   "execution_count": null,
   "id": "d9bbfe9c-a95d-4269-8120-fe64a9458bbe",
   "metadata": {},
   "outputs": [],
   "source": [
    "s_map = {a: 0.3, b:1.25}\n",
    "circ.symbol_substitution(s_map)\n",
    "render_circuit_jupyter(circ)"
   ]
  },
  {
   "cell_type": "markdown",
   "id": "415769cd-86f9-4d41-b418-4b400e2b8bdf",
   "metadata": {},
   "source": [
    "変数に変数を代入することも可能"
   ]
  },
  {
   "cell_type": "code",
   "execution_count": null,
   "id": "6a64c61d-d9ba-45f8-bd4f-8eee57e13fc3",
   "metadata": {},
   "outputs": [],
   "source": [
    "from pytket import Circuit\n",
    "from sympy import symbols\n",
    "a, b, c = symbols(\"a b c\")\n",
    "circ = Circuit(2)\n",
    "circ.Rx(a, 0).Rx(c, 1).CX(0, 1).add_gate(OpType.YYPhase, b, [0, 1])\n",
    "render_circuit_jupyter(circ)\n",
    "\n",
    "s_map = {a: 2*a, c: a}  # replacement happens simultaneously, and not recursively\n",
    "circ.symbol_substitution(s_map)\n",
    "print(circ.get_commands())\n",
    "render_circuit_jupyter(circ)"
   ]
  },
  {
   "cell_type": "markdown",
   "id": "d22e4b5e-b6fc-4e1b-9797-e3ce8cfe6c40",
   "metadata": {},
   "source": [
    "## 10. 量子回路レベルのオペレーション\n",
    "随伴の作用\n",
    "- `Circuit.dagger()`\n",
    "\n",
    "circuitのクラスターをcircuitに作用\n",
    "- `Circuit1.append(Circuit2)`\n"
   ]
  },
  {
   "cell_type": "code",
   "execution_count": null,
   "id": "8672261f-bfc0-47e5-8bab-9726ed0ed93c",
   "metadata": {},
   "outputs": [],
   "source": [
    "from pytket import Circuit\n",
    "# we want a circuit for E = exp(-i pi (0.3 XX + 0.1 YY))\n",
    "circ = Circuit(2)\n",
    "\n",
    "# find C such that C; Rx(a, 0); C^dagger performs exp(-i a pi XX/2)\n",
    "# and C; Rz(b, 1); C^dagger performs exp(-i b pi YY/2)\n",
    "conj = Circuit(2)\n",
    "conj.V(0).V(1).CV(0, 1)\n",
    "render_circuit_jupyter(conj)\n",
    "conj_dag = conj.dagger()\n",
    "render_circuit_jupyter(conj_dag)\n",
    "\n",
    "circ.append(conj)\n",
    "circ.Rx(0.6, 0).Rz(0.2, 1)\n",
    "circ.append(conj_dag)\n",
    "render_circuit_jupyter(circ)\n"
   ]
  },
  {
   "cell_type": "code",
   "execution_count": null,
   "id": "a201d937-0bc1-44d9-8546-56cfc0ab3738",
   "metadata": {
    "collapsed": false,
    "jupyter": {
     "outputs_hidden": false,
     "source_hidden": false
    },
    "nteract": {
     "transient": {
      "deleting": false
     }
    }
   },
   "outputs": [],
   "source": []
  }
 ],
 "metadata": {
  "instance_type": "ml.t3.medium",
  "kernel_info": {
   "name": "python3"
  },
  "kernelspec": {
   "display_name": "Python 3 (ipykernel)",
   "language": "python",
   "name": "python3"
  },
  "language_info": {
   "codemirror_mode": {
    "name": "ipython",
    "version": 3
   },
   "file_extension": ".py",
   "mimetype": "text/x-python",
   "name": "python",
   "nbconvert_exporter": "python",
   "pygments_lexer": "ipython3",
   "version": "3.10.11"
  },
  "nteract": {
   "version": "nteract-front-end@1.0.0"
  }
 },
 "nbformat": 4,
 "nbformat_minor": 5
}
