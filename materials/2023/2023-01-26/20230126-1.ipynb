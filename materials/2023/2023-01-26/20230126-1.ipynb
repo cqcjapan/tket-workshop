{
 "cells": [
  {
   "cell_type": "markdown",
   "id": "b8cb093b",
   "metadata": {
    "tags": []
   },
   "source": [
    "# 量子SDK TKET"
   ]
  },
  {
   "cell_type": "markdown",
   "id": "5eca4c43-95c1-4688-9594-3d4d1bae0427",
   "metadata": {},
   "source": [
    "## 0. 今日の量子コンピュータの問題\n",
    "\n",
    "- Noisy Intermediate-Scale Quantum (NISQ) デバイス\n",
    "    - 量子回路が深くなる（ゲート数が多くなる）ほど、誤差が大きくなる\n",
    "    - 十分な量子ビット数ではない\n",
    "- 量子デバイスは特別なゲート演算のみが用意されている\n",
    "- 特定のqubits間の量子ビット演算(multi qubit operation)しか用意されていない\n",
    "- それぞれの量子デバイスに対して、量子ソフトウェアツールキットが用意されてる\n"
   ]
  },
  {
   "cell_type": "markdown",
   "id": "6e1950ee",
   "metadata": {
    "tags": []
   },
   "source": [
    "### 0-1. TKETとは\n",
    "- Quantum Software Development Kit\n",
    "- C++で実装\n",
    "- pythonモジュール　`pytket`で利用可能\n",
    "- 最適化コンパイラ：　ユーザーフレンドリーな回路→量子デバイスで実行可能な回路に変換可能\n",
    "    - Language-agnostic (多くの量子プログラミングフレームワーク(qiskit, Cirq, etc)をサポート)\n",
    "    - Retagetable (多くの量子デバイス(IBM Quantum, Quantinuum, AWS Braket, etc)をサポート)\n",
    "    - Circuit Optimisation (量子計算時に生じるデバイスエラーの影響を最小化。デバイス依存＆デバイス非依存のものが実装)\n",
    "    \n",
    "<img src=\"fig/tket1.png\" width=\"750\">\n",
    "\n"
   ]
  },
  {
   "cell_type": "markdown",
   "id": "75c32ba7",
   "metadata": {},
   "source": [
    "#### 参照\n",
    "- [pytket ドキュメント](https://cqcl.github.io/tket/pytket/api/index.html)\n",
    "- [pytket ユーザーマニュアル](https://cqcl.github.io/pytket/manual/index.html)\n",
    "- [t|ket⟩ : A Retargetable Compiler for NISQ Devices](https://arxiv.org/abs/2003.10611)"
   ]
  },
  {
   "cell_type": "markdown",
   "id": "90fcd536",
   "metadata": {
    "tags": []
   },
   "source": [
    "### 0-2. 今回必要となる python パッケージ\n",
    "Python 3.9.7で動作確認をしています。\n",
    "\n",
    "|  パッケージ （version） |  概要  |\n",
    "| :---- | :---- |\n",
    "|  pytket  |  tketを利用するためのpython モジュール  ( available for python3.9 or higher )|\n",
    "|  pytket-qiskit  |  qiskitを利用するためのpytket-extension  |\n",
    "|  pytket-braket  |  braketを利用するためのpytket-extension  |\n",
    "|  pytket-qsharp  |  qsharpを利用するためのpytket-extension  |\n",
    "\n",
    "\n",
    "<img src=\"fig/tket2.png\" width=\"750\">"
   ]
  },
  {
   "cell_type": "markdown",
   "id": "aa16497a",
   "metadata": {},
   "source": [
    "環境にインストールされていない場合は、以下のセルの＃を取り除き、インストールしてください。"
   ]
  },
  {
   "cell_type": "code",
   "execution_count": null,
   "id": "f53935a7",
   "metadata": {},
   "outputs": [],
   "source": [
    "#!pip install -U pytket\n",
    "#!pip install -U pytket-qiskit\n",
    "#!pip install -U pytket-braket\n",
    "#!pip install -U pytket-qsharp\n",
    "#!pip install pylatexenc #可視化のためのパッケージ\n",
    "#!pip install matplotlib"
   ]
  },
  {
   "cell_type": "code",
   "execution_count": null,
   "id": "c3b693d4-bcfc-40e6-a82d-4e7c50a06909",
   "metadata": {},
   "outputs": [],
   "source": [
    "import warnings\n",
    "warnings.filterwarnings('ignore')"
   ]
  },
  {
   "cell_type": "markdown",
   "id": "2e43c4f2",
   "metadata": {
    "tags": []
   },
   "source": [
    "## 1. 量子回路を作成する\n",
    "ここでは IBMの量子デバイスやシュミレーションを利用できる`qiskit`と`tket`でベル状態を作成する。"
   ]
  },
  {
   "cell_type": "markdown",
   "id": "4b5f8f4b",
   "metadata": {},
   "source": [
    "### 1-1. `qiskit`でベル状態を作成\n",
    "$$ |\\Psi\\rangle = \\frac{1}{\\sqrt{2}}(|00\\rangle+|11\\rangle)$$"
   ]
  },
  {
   "cell_type": "code",
   "execution_count": null,
   "id": "3d9e4a20",
   "metadata": {},
   "outputs": [],
   "source": [
    "from qiskit import QuantumCircuit\n",
    "\n",
    "qs_bell = QuantumCircuit(2)\n",
    "qs_bell.h(0)\n",
    "qs_bell.cx(0,1)\n",
    "qs_bell.measure_all()\n",
    "\n",
    "qs_bell.draw('mpl')"
   ]
  },
  {
   "cell_type": "code",
   "execution_count": null,
   "id": "ceeee451",
   "metadata": {},
   "outputs": [],
   "source": [
    "#from qiskit.tools.visualization import circuit_drawer\n",
    "#circuit_drawer(qs_bell, output='mpl')"
   ]
  },
  {
   "cell_type": "markdown",
   "id": "4c0d22db",
   "metadata": {
    "slideshow": {
     "slide_type": "slide"
    }
   },
   "source": [
    "### 1-2. IBMが提供しているローカルシミュレータで計算"
   ]
  },
  {
   "cell_type": "code",
   "execution_count": null,
   "id": "56449c7b",
   "metadata": {},
   "outputs": [],
   "source": [
    "from qiskit import assemble, Aer\n",
    "from qiskit.visualization import plot_histogram"
   ]
  },
  {
   "cell_type": "code",
   "execution_count": null,
   "id": "6081ad71",
   "metadata": {},
   "outputs": [],
   "source": [
    "#Aer.backends()"
   ]
  },
  {
   "cell_type": "code",
   "execution_count": null,
   "id": "4d250a09",
   "metadata": {},
   "outputs": [],
   "source": [
    "ibm_sim = Aer.get_backend('aer_simulator')"
   ]
  },
  {
   "cell_type": "code",
   "execution_count": null,
   "id": "3899b615",
   "metadata": {
    "tags": []
   },
   "outputs": [],
   "source": [
    "handle = ibm_sim.run(qs_bell, shots=1000)\n",
    "counts = handle.result().get_counts()\n",
    "plot_histogram(counts)"
   ]
  },
  {
   "cell_type": "markdown",
   "id": "82da5f25",
   "metadata": {},
   "source": [
    "### 1-3. `tket`でベル状態を作成"
   ]
  },
  {
   "cell_type": "code",
   "execution_count": null,
   "id": "76615941",
   "metadata": {},
   "outputs": [],
   "source": [
    "from pytket import Circuit\n",
    "from pytket.circuit.display import render_circuit_jupyter\n",
    "\n",
    "bell = Circuit(2)\n",
    "bell.H(0).CX(0,1)\n",
    "bell.measure_all()\n",
    "\n",
    "render_circuit_jupyter(bell)"
   ]
  },
  {
   "cell_type": "markdown",
   "id": "a1e02a9b",
   "metadata": {},
   "source": [
    "### 1-4. `pytket-qiskit`でIBMが提供しているローカルシミュレータで計算"
   ]
  },
  {
   "cell_type": "code",
   "execution_count": null,
   "id": "6c4bfc9e",
   "metadata": {},
   "outputs": [],
   "source": [
    "from pytket.extensions.qiskit import AerBackend\n",
    "backend = AerBackend()\n",
    "\n",
    "handle = backend.process_circuit(bell, n_shots =1000)\n",
    "result_counts = backend.get_result(handle).get_counts()\n",
    "plot_histogram(result_counts)"
   ]
  },
  {
   "cell_type": "markdown",
   "id": "3f570571",
   "metadata": {
    "tags": []
   },
   "source": [
    "## 2. 量子回路の変換\n",
    "pytketでは\n",
    "- qiskitで記述した量子回路(`qiskit.QuantumCircuit`)からtketの量子回路のクラスに変換が可能\n",
    "- tketで記述した量子回路からqiskitの量子回路(`qiskit.QuantumCircuit`)のクラスに変換が可能\n",
    "- tketで記述した量子回路と他の量子プログラミング言語での量子回路の交換が可能\n",
    "\n",
    "参照：[pytket-extensions](https://cqcl.github.io/pytket-extensions/api/index.html) "
   ]
  },
  {
   "cell_type": "markdown",
   "id": "cc06b5db",
   "metadata": {},
   "source": [
    "### 2-1. `qiskit`の量子回路から`tket`の量子回路に変換"
   ]
  },
  {
   "cell_type": "code",
   "execution_count": null,
   "id": "67884d14",
   "metadata": {},
   "outputs": [],
   "source": [
    "from pytket.extensions.qiskit import qiskit_to_tk"
   ]
  },
  {
   "cell_type": "code",
   "execution_count": null,
   "id": "13f9045c",
   "metadata": {},
   "outputs": [],
   "source": [
    "bell2 = qiskit_to_tk(qs_bell)\n",
    "bell2"
   ]
  },
  {
   "cell_type": "code",
   "execution_count": null,
   "id": "131f2a7c",
   "metadata": {},
   "outputs": [],
   "source": [
    "render_circuit_jupyter(bell2)"
   ]
  },
  {
   "cell_type": "markdown",
   "id": "1d354e75",
   "metadata": {},
   "source": [
    "### 2-2. `tket`の量子回路から`qiskit`の量子回路に変換"
   ]
  },
  {
   "cell_type": "code",
   "execution_count": null,
   "id": "bfe450cc",
   "metadata": {},
   "outputs": [],
   "source": [
    "from pytket.extensions.qiskit import tk_to_qiskit"
   ]
  },
  {
   "cell_type": "code",
   "execution_count": null,
   "id": "d91a19a2",
   "metadata": {},
   "outputs": [],
   "source": [
    "qs_bell2 = tk_to_qiskit(bell)\n",
    "qs_bell2"
   ]
  },
  {
   "cell_type": "code",
   "execution_count": null,
   "id": "06031b7d",
   "metadata": {},
   "outputs": [],
   "source": [
    "qs_bell2.draw('mpl')"
   ]
  },
  {
   "cell_type": "markdown",
   "id": "6d6ecef2-311c-4ee5-82f5-89b47f11b231",
   "metadata": {},
   "source": [
    "### 2-3. `braket`の量子回路から`tket`の量子回路に変換"
   ]
  },
  {
   "cell_type": "code",
   "execution_count": null,
   "id": "84dc9b0c-04b8-4d42-8905-c39b62afe6d8",
   "metadata": {},
   "outputs": [],
   "source": [
    "from pytket.extensions.braket import tk_to_braket\n",
    "aws_bell2 = tk_to_braket(bell)[0]\n",
    "print(aws_bell2)"
   ]
  },
  {
   "cell_type": "markdown",
   "id": "378056b3-2f6f-4e05-aa15-d612d0ac4284",
   "metadata": {},
   "source": [
    "### 2-4. `tket`の量子回路から`braket`の量子回路に変換"
   ]
  },
  {
   "cell_type": "code",
   "execution_count": null,
   "id": "b040a8b1-b9fa-46e3-88e9-0769c7a0e8dc",
   "metadata": {},
   "outputs": [],
   "source": [
    "from pytket.extensions.braket import braket_to_tk\n",
    "bell3 = braket_to_tk(aws_bell2)\n",
    "render_circuit_jupyter(bell3)"
   ]
  },
  {
   "cell_type": "markdown",
   "id": "abe62932",
   "metadata": {
    "tags": []
   },
   "source": [
    "## 3. 量子回路の最適化 Part1\n",
    "例えば、Hゲートを同じビットに連続して作用させるとゲート操作をしていないのと恒等な量子状態が得られます。\n",
    "<img src=\"fig/circ.png\" width=\"500\">\n",
    "\n",
    "量子回路が深くなる（ゲート数が多くなる）ほど、誤差が大きくなるNISQ デバイスでは左辺のような状況は除去したい。\n",
    "\n",
    "その他にも下記のような恒等な関係があります。\n",
    "<img src=\"fig/relation.png\" width=\"700\">"
   ]
  },
  {
   "cell_type": "markdown",
   "id": "bae1e99c",
   "metadata": {},
   "source": [
    "### 3-1. `PauliSimp` 関数を利用した、量子回路の最適化\n",
    "tketには量子回路を最適化する様々な機能が用意されている。\n",
    "ここでは、`PauliSimp` 関数を利用した回路の最適化を行う。\n",
    "\n",
    "（`PauliSimp` 関数：Pauli ゲートとCliffordゲートで表現された量子回路を出力）\n",
    "\n",
    "ランダムな量子回路を作成し、回路の深さとCXの深さを数える。"
   ]
  },
  {
   "cell_type": "code",
   "execution_count": null,
   "id": "a96b3e7a",
   "metadata": {},
   "outputs": [],
   "source": [
    "from pytket.pauli import Pauli\n",
    "from pytket.circuit import PauliExpBox, fresh_symbol, OpType\n",
    "from pytket.passes import DecomposeBoxes\n",
    "box = PauliExpBox([Pauli.I, Pauli.Z, Pauli.X, Pauli.Y], fresh_symbol('tm'))\n",
    "from pytket.utils import Graph\n",
    "import numpy as np\n",
    "\n",
    "def get_random_pauli_gadgets(n_qubits, n_pauli_gadgets, max_entangle):\n",
    "    \"\"\" \"\"\"\n",
    "    paulis = [Pauli.I, Pauli.X, Pauli.Y, Pauli.Z]\n",
    "    circ = Circuit(n_qubits)\n",
    "    for i in range(n_pauli_gadgets):\n",
    "        ls_paulis = [np.random.choice(paulis) for k in range(max_entangle)]\n",
    "        if ls_paulis.count(Pauli.Y) % 2 == 0:\n",
    "            continue\n",
    "        if len(ls_paulis) - ls_paulis.count(Pauli.I) <= 1:\n",
    "            continue\n",
    "        qubits = np.random.choice(\n",
    "            [i for i in range(n_qubits)], size=max_entangle, replace=False\n",
    "        )\n",
    "        box = PauliExpBox(ls_paulis, fresh_symbol('a'))\n",
    "        circ.add_pauliexpbox(box, sorted(qubits))\n",
    "    DecomposeBoxes().apply(circ)\n",
    "    return circ\n",
    "\n",
    "circ = get_random_pauli_gadgets(\n",
    "    n_qubits=8, n_pauli_gadgets=300, max_entangle=5\n",
    ")\n",
    "print('Circuit depth: ', circ.depth())\n",
    "print('CX depth: ', circ.depth_by_type(OpType.CX))\n",
    "render_circuit_jupyter(circ)"
   ]
  },
  {
   "cell_type": "markdown",
   "id": "dfe39210",
   "metadata": {},
   "source": [
    "`PauliSimp` 関数を使って、量子回路の最適化"
   ]
  },
  {
   "cell_type": "code",
   "execution_count": null,
   "id": "d48f9aac",
   "metadata": {},
   "outputs": [],
   "source": [
    "# Circuit optimization by using compiler passes.\n",
    "from pytket.passes import PauliSimp\n",
    "circx = circ.copy()\n",
    "PauliSimp().apply(circx)\n",
    "#FullPeepholeOptimise().apply(circx)\n",
    "print('Circuit depth: ', circx.depth())\n",
    "print('CX depth: ', circx.depth_by_type(OpType.CX))\n",
    "#render_circuit_jupyter(circx)"
   ]
  },
  {
   "cell_type": "markdown",
   "id": "21d56463-c7fc-4668-857a-c2fe0f18b81b",
   "metadata": {},
   "source": [
    "`PauliSquash` 関数を使って、量子回路の最適化"
   ]
  },
  {
   "cell_type": "code",
   "execution_count": null,
   "id": "81d7ff01-7e86-441f-99cd-ad6c11f1a101",
   "metadata": {},
   "outputs": [],
   "source": [
    "# Circuit optimization by using compiler passes.\n",
    "from pytket.passes import PauliSquash\n",
    "circy = circx.copy()\n",
    "PauliSquash().apply(circy)\n",
    "print('Circuit depth: ', circy.depth())\n",
    "print('CX depth: ', circy.depth_by_type(OpType.CX))\n",
    "#render_circuit_jupyter(circy)"
   ]
  },
  {
   "cell_type": "markdown",
   "id": "14c10de5",
   "metadata": {
    "tags": []
   },
   "source": [
    "## 4. pytket-extensionで、量子回路を量子デバイス・シミュレータで実行\n"
   ]
  },
  {
   "cell_type": "markdown",
   "id": "a2fe901a",
   "metadata": {
    "tags": []
   },
   "source": [
    "### 4-1. pytket-qiskitを利用して、IBM Quantumのシミュレータや実機にアクセス"
   ]
  },
  {
   "cell_type": "markdown",
   "id": "4e192bc2-fd34-4e7d-af4c-5efd8ed880e3",
   "metadata": {},
   "source": [
    "#### a. IBM Quantum へのアクセス設定"
   ]
  },
  {
   "cell_type": "code",
   "execution_count": null,
   "id": "440004ec",
   "metadata": {},
   "outputs": [],
   "source": [
    "path = 'key/ibm-token'\n",
    "f = open(path)\n",
    "ibm_token = f.read()\n",
    "f.close()\n",
    "from pytket.extensions.qiskit.backends.config import set_ibmq_config\n",
    "set_ibmq_config(ibmq_api_token=ibm_token)"
   ]
  },
  {
   "cell_type": "code",
   "execution_count": null,
   "id": "006c29bc-efd9-418b-8b99-ae50602bc946",
   "metadata": {},
   "outputs": [],
   "source": [
    "from qiskit import IBMQ\n",
    "IBMQ.save_account(ibm_token, overwrite=True)\n",
    "from pytket.extensions.qiskit.backends.config import set_ibmq_config\n",
    "set_ibmq_config(ibmq_api_token=ibm_token,hub=\"ibm-q\",group=\"open\",project=\"main\")"
   ]
  },
  {
   "cell_type": "code",
   "execution_count": null,
   "id": "a003af36",
   "metadata": {},
   "outputs": [],
   "source": [
    "from pytket.extensions.qiskit import IBMQBackend, IBMQEmulatorBackend, AerBackend\n",
    "from pytket import Circuit\n",
    "from pytket.circuit.display import render_circuit_jupyter"
   ]
  },
  {
   "cell_type": "code",
   "execution_count": null,
   "id": "6cf17d33-24cc-42fe-a105-a6190554c60e",
   "metadata": {},
   "outputs": [],
   "source": [
    "list_backend=IBMQBackend.available_devices()\n",
    "for dev in list_backend:\n",
    "    print(dev.device_name)"
   ]
  },
  {
   "cell_type": "markdown",
   "id": "59c3c41d-693d-4735-a12a-f34f4d6e301a",
   "metadata": {},
   "source": [
    "#### b. backendの選択"
   ]
  },
  {
   "cell_type": "code",
   "execution_count": null,
   "id": "1469076b",
   "metadata": {},
   "outputs": [],
   "source": [
    "# ibm_backend = AerBackend()\n",
    "# ibm_backend = IBMQBackend(\"ibmq_quito\",token=ibm_token)\n",
    "# ibm_backend = IBMQBackend(\"ibmq_qasm_simulator\",token=ibm_token)\n",
    "# AerBackend to emulate the behaviour of IBMQBackend. Requires a valid IBMQ account.\n",
    "ibm_backend = IBMQEmulatorBackend(\"ibm_oslo\",token=ibm_token)"
   ]
  },
  {
   "cell_type": "code",
   "execution_count": null,
   "id": "1960b43f-31fd-456d-ac1d-0389c3fd7c14",
   "metadata": {},
   "outputs": [],
   "source": [
    "bell = Circuit(2)\n",
    "bell.H(0).CX(0,1)\n",
    "bell.measure_all()\n",
    "render_circuit_jupyter(bell)\n",
    "\n",
    "ibm_bell = ibm_backend.get_compiled_circuit(bell)\n",
    "render_circuit_jupyter(ibm_bell)"
   ]
  },
  {
   "cell_type": "markdown",
   "id": "5c970f0c-23de-4319-a2f4-53a31e716fc9",
   "metadata": {},
   "source": [
    "#### c. backendのゲートセットに書き換える\n",
    "`Backend.get_compiled_circuit(Circuit)`"
   ]
  },
  {
   "cell_type": "code",
   "execution_count": null,
   "id": "4d0fa46b-9f5e-4670-9c21-210b8f456056",
   "metadata": {},
   "outputs": [],
   "source": [
    "bell = Circuit(2)\n",
    "bell.H(0).CX(0,1)\n",
    "bell.measure_all()\n",
    "render_circuit_jupyter(bell)\n",
    "\n",
    "ibm_bell = ibm_backend.get_compiled_circuit(bell)\n",
    "render_circuit_jupyter(ibm_bell)"
   ]
  },
  {
   "cell_type": "markdown",
   "id": "98a125fe-7b0c-434b-a91c-d9ff8972a16d",
   "metadata": {
    "tags": []
   },
   "source": [
    "#### d. 選択したbackendに量子回路を送信して実行させる"
   ]
  },
  {
   "cell_type": "code",
   "execution_count": null,
   "id": "c51c02cb",
   "metadata": {},
   "outputs": [],
   "source": [
    "ibm_handle = ibm_backend.process_circuit(ibm_bell, n_shots =1000)"
   ]
  },
  {
   "cell_type": "code",
   "execution_count": null,
   "id": "0ff2d781",
   "metadata": {
    "tags": []
   },
   "outputs": [],
   "source": [
    "ibm_result = ibm_backend.get_result(ibm_handle)"
   ]
  },
  {
   "cell_type": "code",
   "execution_count": null,
   "id": "8596dc83",
   "metadata": {},
   "outputs": [],
   "source": [
    "#ibm_backend.cancel(ibm_handle)"
   ]
  },
  {
   "cell_type": "markdown",
   "id": "a1d7dbc3-19ab-4f0c-a355-4272f57bfc60",
   "metadata": {},
   "source": [
    "#### e. 結果の表示"
   ]
  },
  {
   "cell_type": "code",
   "execution_count": null,
   "id": "da392a0a",
   "metadata": {},
   "outputs": [],
   "source": [
    "counts = ibm_result.get_counts()\n",
    "print(counts)\n",
    "from qiskit.visualization import plot_histogram\n",
    "plot_histogram(counts)"
   ]
  },
  {
   "cell_type": "markdown",
   "id": "f81ad821-f3bd-488d-9bd0-8fa19fcf4580",
   "metadata": {},
   "source": [
    "IBM Quantumのシミュレータや実機で実行させた結果には、クラウド内でhandle_idが付与されている。"
   ]
  },
  {
   "cell_type": "code",
   "execution_count": null,
   "id": "7d097e48-3967-417a-ba06-fe9a163a0be1",
   "metadata": {},
   "outputs": [],
   "source": [
    "print(str(ibm_handle))\n",
    "handle_id = str(ibm_handle)"
   ]
  },
  {
   "cell_type": "markdown",
   "id": "b63db538-a001-4bdd-93c2-fa5bfdb2d2de",
   "metadata": {},
   "source": [
    "#### f. `ResultHandle`を使用して、handle_idの結果を呼び出す"
   ]
  },
  {
   "cell_type": "markdown",
   "id": "ea33c05d-ed6e-4327-9b01-07cf0ccdab59",
   "metadata": {},
   "source": [
    "#### handle_idで呼び出す結果で利用した量子デバイス・シミュレータをbackendとして選択"
   ]
  },
  {
   "cell_type": "code",
   "execution_count": null,
   "id": "c72f9afb",
   "metadata": {},
   "outputs": [],
   "source": [
    "from pytket.extensions.qiskit import IBMQBackend\n",
    "#ibm_backend = IBMQBackend(\"ibmq_quito\",token=ibm_token)\n",
    "ibm_backend = IBMQEmulatorBackend(\"ibm_oslo\",token=ibm_token)"
   ]
  },
  {
   "cell_type": "code",
   "execution_count": null,
   "id": "b3b5fcb2-99d0-4acb-a273-8dbd0f5b2dd8",
   "metadata": {},
   "outputs": [],
   "source": [
    "from pytket.backends import ResultHandle\n",
    "handle = ResultHandle.from_str(handle_id)"
   ]
  },
  {
   "cell_type": "markdown",
   "id": "3a5bf25b-6b20-4550-9da2-378315f7db89",
   "metadata": {},
   "source": [
    "#### 結果を表示"
   ]
  },
  {
   "cell_type": "code",
   "execution_count": null,
   "id": "bbdf457c-3067-47a2-af3a-300ec8299547",
   "metadata": {},
   "outputs": [],
   "source": [
    "result = ibm_backend.get_result(handle)\n",
    "counts = result.get_counts()\n",
    "print(counts)\n",
    "#from qiskit.visualization import plot_histogram\n",
    "#plot_histogram(counts)"
   ]
  },
  {
   "cell_type": "markdown",
   "id": "3ab57e02-eaed-4786-b26b-8d2e3ceb7255",
   "metadata": {},
   "source": [
    "### 4-3-A. 4-1, 4-2で実施したことは、その他の量子デバイス、クラウド量子コンピュータでも同様に可能 -Amazon Braket編"
   ]
  },
  {
   "cell_type": "markdown",
   "id": "98937651-cbbb-465a-a618-a0ca89662e87",
   "metadata": {
    "tags": []
   },
   "source": [
    "下記のスクリプトはAmazon Braketで<span style=\"color: red; \">有料</span>の操作を含んでおりますので、ご注意ください。"
   ]
  },
  {
   "cell_type": "markdown",
   "id": "248dae2e-ed7c-43c3-8ed3-bab14446802b",
   "metadata": {},
   "source": [
    "#### a. AWS へのアクセス設定"
   ]
  },
  {
   "cell_type": "code",
   "execution_count": null,
   "id": "42760aae-2de2-4798-884f-4d584ca376d1",
   "metadata": {},
   "outputs": [],
   "source": [
    "path = 'key/aws-key'\n",
    "f = open(path)\n",
    "aws_access_key_id, aws_secret_access_key, s3_name, bucket_key= [s.strip() for s in f.readlines()]\n",
    "f.close()"
   ]
  },
  {
   "cell_type": "code",
   "execution_count": null,
   "id": "f2f1b36a-968e-44ae-b95b-8c09e07ba4f5",
   "metadata": {},
   "outputs": [],
   "source": [
    "import boto3\n",
    "from braket.aws import AwsSession\n",
    "boto_session = boto3.Session(\n",
    "    aws_access_key_id= aws_access_key_id,\n",
    "    aws_secret_access_key= aws_secret_access_key,\n",
    "    region_name= 'us-east-1'\n",
    "##    region_name= 'us-west-1'\n",
    "##    region_name= 'eu-west-2'\n",
    ")\n",
    "## us-east-1: IonQ, Simulators (haven't support Xanadu yet)\n",
    "## us-west-1: Rigetti, Simulators\n",
    "## eu-west-2: Lucy, Simulators\n",
    "##\n",
    "aws_session = AwsSession(boto_session=boto_session)"
   ]
  },
  {
   "cell_type": "code",
   "execution_count": null,
   "id": "0e248193-f358-4a02-acbf-9967216e162f",
   "metadata": {},
   "outputs": [],
   "source": [
    "aws_session.search_devices()"
   ]
  },
  {
   "cell_type": "markdown",
   "id": "460aaa6c-588e-472b-a90b-cf51a620a3df",
   "metadata": {},
   "source": [
    "#### ※Sagemaker Studio(imageはpython3.8以上のものを選択)にpytketをpip installしていただければ、下記のスクリプトでBraketへアクセスが可能です。\n",
    "Sagemaker StudioからBraketにアクセス権限がない場合には、AWSシステム担当者にご連絡ください。"
   ]
  },
  {
   "cell_type": "code",
   "execution_count": null,
   "id": "b9fb2f9c-23ea-4199-9d9c-deb511182024",
   "metadata": {},
   "outputs": [],
   "source": [
    "#import boto3\n",
    "#from braket.aws import AwsSession\n",
    "#boto_session = boto3.Session(\n",
    "#    region_name= 'us-east-1' #regionは'us-east-1','us-west-1','eu-west-2'の中から適切なものを選択してください。\n",
    "#)\n",
    "#aws_session = AwsSession(boto_session=boto_session)\n",
    "#s3_name = aws_session.default_bucket()\n",
    "#bucket_key = 'pytket'"
   ]
  },
  {
   "cell_type": "markdown",
   "id": "7148873d-a26a-40d4-836f-6b4900c796b2",
   "metadata": {},
   "source": [
    "#### b. backendの選択"
   ]
  },
  {
   "cell_type": "code",
   "execution_count": null,
   "id": "96623ae1-76ea-4f58-bce1-c04983827a6e",
   "metadata": {},
   "outputs": [],
   "source": [
    "from pytket.extensions.braket import BraketBackend\n",
    "\n",
    "# ionQ   arn:aws:braket:::device/qpu/ionq/ionQdevice, region: us-east-1\n",
    "# aws_backend = BraketBackend(device='ionQdevice', s3_bucket=s3_name , s3_folder = bucket_key, device_type = 'qpu', provider = 'ionq', aws_session=aws_session)\n",
    "# Aspen-M-2   arn:aws:braket:us-west-1::device/qpu/rigetti/Aspen-M-2 #Aspen-M-2, region: us-west-1\n",
    "# aws_backend = BraketBackend(device='Aspen-M-2',region = 'us-west-1', s3_bucket=s3_name , s3_folder = bucket_key, device_type = 'qpu', provider = 'rigetti', aws_session=aws_session)\n",
    "# Aspen-M-3   arn:aws:braket:us-west-1::device/qpu/rigetti/Aspen-M-3 #Aspen-M-3, region: us-west-1\n",
    "# aws_backend = BraketBackend(device='Aspen-M-3',region = 'us-west-1', s3_bucket=s3_name , s3_folder = bucket_key, device_type = 'qpu', provider = 'rigetti', aws_session=aws_session)\n",
    "# Oxford Lucy   arn:aws:braket:eu-west-2::device/qpu/oqc/Lucy #Lucy, region: eu-west-2\n",
    "# aws_backend = BraketBackend(device='Lucy',region = 'eu-west-2', s3_bucket=s3_name , s3_folder = bucket_key, device_type = 'qpu', provider = 'oqc', aws_session=aws_session)\n",
    "# SV1    sim_arn = 'arn:aws:braket:::device/quantum-simulator/amazon/sv1'     #SV1, region:\n",
    "# aws_backend = BraketBackend(device='sv1', s3_bucket=s3_name , s3_folder = bucket_key, device_type = 'quantum-simulator', provider = 'amazon', aws_session=aws_session)\n",
    "# TN1   sim_arn = 'arn:aws:braket:::device/quantum-simulator/amazon/tn1'    #TN1, region: us-west-2, us-east-1\n",
    "# aws_backend = BraketBackend(device='tn1', s3_bucket=s3_name , s3_folder = bucket_key, device_type = 'quantum-simulator', provider = 'amazon', aws_session=aws_session)\n",
    "# DM1   sim_arn = 'arn:aws:braket:::device/quantum-simulator/amazon/dm1'    #DM1, region: \n",
    "# aws_backend = BraketBackend(device='dm1', s3_bucket=s3_name , s3_folder = bucket_key, device_type = 'quantum-simulator', provider = 'amazon', aws_session=aws_session)\n",
    "# Local SV1 simulator\n",
    "# aws_backend = BraketBackend(local = True, local_device='braket_sv')\n",
    "# Local DM1 simulator\n",
    "aws_backend = BraketBackend(local = True, local_device='braket_dm')\n"
   ]
  },
  {
   "cell_type": "markdown",
   "id": "f3aad768-d521-4584-a6b1-f365f2956280",
   "metadata": {},
   "source": [
    "#### c. backendのゲートセットに書き換える\n",
    "`Backend.get_compiled_circuit(Circuit)`"
   ]
  },
  {
   "cell_type": "code",
   "execution_count": null,
   "id": "3a9880f3-7ee3-4352-b76c-21c852c47422",
   "metadata": {},
   "outputs": [],
   "source": [
    "from pytket import Circuit\n",
    "from pytket.circuit.display import render_circuit_jupyter\n",
    "# bell状態の作成\n",
    "bell = Circuit(2)\n",
    "bell.H(0).CX(0,1)\n",
    "bell.measure_all()\n",
    "render_circuit_jupyter(bell)\n",
    "\n",
    "# backend に用意されているゲートで量子回路を表現\n",
    "aws_bell = aws_backend.get_compiled_circuit(bell)\n",
    "render_circuit_jupyter(aws_bell)"
   ]
  },
  {
   "cell_type": "markdown",
   "id": "278505fe-6134-4623-843f-4f25d3787236",
   "metadata": {},
   "source": [
    "#### d. 選択したbackendに量子回路を送信して実行させる"
   ]
  },
  {
   "cell_type": "code",
   "execution_count": null,
   "id": "e0959cb7-a1bf-4cde-8cb9-c72b6aef93aa",
   "metadata": {},
   "outputs": [],
   "source": [
    "aws_handle = aws_backend.process_circuit(aws_bell, n_shots =100)\n",
    "aws_result = aws_backend.get_result(aws_handle)"
   ]
  },
  {
   "cell_type": "markdown",
   "id": "b73be204-cb4f-4d83-b48c-966eabdeb05e",
   "metadata": {},
   "source": [
    "#### e. 結果の表示"
   ]
  },
  {
   "cell_type": "code",
   "execution_count": null,
   "id": "aaf645ca-58a6-4dea-8eb0-6e6fc168249f",
   "metadata": {},
   "outputs": [],
   "source": [
    "aws_counts = aws_result.get_counts()\n",
    "print(aws_counts)\n",
    "#from qiskit.visualization import plot_histogram\n",
    "#plot_histogram(aws_result.get_counts())"
   ]
  },
  {
   "cell_type": "code",
   "execution_count": null,
   "id": "61c4fc71-98fa-4754-94da-e43a5a77b907",
   "metadata": {},
   "outputs": [],
   "source": [
    "print(str(aws_handle))\n",
    "handle_id = str(aws_handle)"
   ]
  },
  {
   "cell_type": "markdown",
   "id": "2babe82c-c07d-4ae2-bc32-15c418728468",
   "metadata": {},
   "source": [
    "#### f. `ResultHandle`を使用して、handle_idの結果を呼び出す"
   ]
  },
  {
   "cell_type": "markdown",
   "id": "35e09cf5-0465-4e72-9cdd-66fbda4253fa",
   "metadata": {},
   "source": [
    "#### handle_idで呼び出す結果で利用した量子デバイス・シミュレータをbackendとして選択"
   ]
  },
  {
   "cell_type": "code",
   "execution_count": null,
   "id": "25ca047e-5709-4832-a6ae-bdad33580b60",
   "metadata": {},
   "outputs": [],
   "source": [
    "from pytket.backends import ResultHandle\n",
    "handle = ResultHandle.from_str(handle_id)"
   ]
  },
  {
   "cell_type": "code",
   "execution_count": null,
   "id": "8eef4154-8e8e-49d1-a5f5-691491e703df",
   "metadata": {},
   "outputs": [],
   "source": [
    "result = aws_backend.get_result(handle)\n",
    "print(result.get_counts())\n",
    "#from qiskit.visualization import plot_histogram\n",
    "#plot_histogram(aws_result.get_counts())"
   ]
  },
  {
   "cell_type": "code",
   "execution_count": null,
   "id": "b7a46bcc-bdf3-46fc-be63-d2e7e5f22e5a",
   "metadata": {},
   "outputs": [],
   "source": []
  },
  {
   "cell_type": "markdown",
   "id": "fac79001-3e4c-4b3f-9073-10c5956da900",
   "metadata": {},
   "source": [
    "### 4-3-B. 4-1, 4-2で実施したことは、その他の量子デバイス、クラウド量子コンピュータでも同様に可能 -Azure Quantum編"
   ]
  },
  {
   "cell_type": "markdown",
   "id": "a7d7f0de-ecf9-4437-800a-28e3ee073576",
   "metadata": {},
   "source": [
    "#### a. Azure へのアクセス設定はスキップ\n",
    "- pytket-qsharpをインストールする前に、dotnetのインストールをしていただく必要がある。  \n",
    "- Azure Quantum notebookからであれば、dotnetのインストールは事前にされているので, pip installでpytket, pytket-qsharpをインストールして頂ければ利用可能。"
   ]
  },
  {
   "cell_type": "markdown",
   "id": "7fef6c59-1ca1-4310-b8a0-e7a0b847f8f3",
   "metadata": {},
   "source": [
    "#### b. backendの選択"
   ]
  },
  {
   "cell_type": "code",
   "execution_count": null,
   "id": "cc6f9c11-ed03-4133-96bb-9d88ad306048",
   "metadata": {},
   "outputs": [],
   "source": [
    "from pytket.extensions.qsharp import AzureBackend, QsharpSimulatorBackend\n",
    "# QsharpiSmulator\n",
    "qsharp_backend = QsharpSimulatorBackend()\n",
    "# Quantinuum H1 device\n",
    "#azure_backend = AzureBackend(target_name='quantinuum.qpu.h1-1',resourceId='your_resource_id',location = \"your_location\")\n",
    "#azure_backend = AzureBackend(target_name='quantinuum.qpu.h1-2',resourceId='your_resource_id',location = \"your_location\")\n",
    "# Quantinuum H1 Syntax Checker\n",
    "#azure_backend = AzureBackend(target_name='quantinuum.sim.h1-1sc',resourceId='your_resource_id',location = \"your_location\")\n",
    "#azure_backend = AzureBackend(target_name='quantinuum.sim.h1-2sc',resourceId='your_resource_id',location = \"your_location\")\n",
    "# Quantinuum H1 emulator\n",
    "#azure_backend = AzureBackend(target_name='quantinuum.sim.h1-1e',resourceId='your_resource_id',location = \"your_location\")\n",
    "#azure_backend = AzureBackend(target_name='quantinuum.sim.h1-2e',resourceId='your_resource_id',location = \"your_location\")\n",
    "\n",
    "# IonQ device\n",
    "#azure_backend = AzureBackend(target_name='ionq.qpu',resourceId='your_resource_id',location = \"your_location\")\n",
    "#azure_backend = AzureBackend(target_name='ionq.qpu.aria-1',resourceId='your_resource_id',location = \"your_location\")\n",
    "# IonQ simulator\n",
    "# azure_backend = AzureBackend(target_name='ionq.simulator',resourceId='your_resource_id',location = \"your_location\")\n",
    "\n",
    "# Rigetti device\n",
    "#azure_backend = AzureBackend(target_name='rigetti.qpu.aspen-m-2',resourceId='your_resource_id',location = \"your_location\")\n",
    "#azure_backend = AzureBackend(target_name='rigetti.qpu.aspen-m-3',resourceId='your_resource_id',location = \"your_location\")\n",
    "# Rigetti simulator\n",
    "# azure_backend = AzureBackend(target_name='rigetti.sim.qvm',resourceId='your_resource_id',location = \"your_location\")"
   ]
  },
  {
   "cell_type": "markdown",
   "id": "598cbfd2-0127-42da-813f-e8099dfbdaf1",
   "metadata": {},
   "source": [
    "#### c. backendのゲートセットに書き換える\n",
    "`Backend.get_compiled_circuit(Circuit)`"
   ]
  },
  {
   "cell_type": "code",
   "execution_count": null,
   "id": "d0ae0c82-99ee-4d50-b33e-10b039cfebeb",
   "metadata": {},
   "outputs": [],
   "source": [
    "from pytket import Circuit\n",
    "from pytket.circuit.display import render_circuit_jupyter\n",
    "# bell状態の作成\n",
    "bell = Circuit(2)\n",
    "bell.H(0).CX(0,1)\n",
    "bell.measure_all()\n",
    "render_circuit_jupyter(bell)\n",
    "\n",
    "# backend に用意されているゲートで量子回路を表現\n",
    "qsharp_bell = qsharp_backend.get_compiled_circuit(bell)\n",
    "render_circuit_jupyter(qsharp_bell)"
   ]
  },
  {
   "cell_type": "markdown",
   "id": "e5d3ed98-9845-4185-b3c8-3ca5f3d6aff4",
   "metadata": {},
   "source": [
    "#### d. 選択したbackendに量子回路を送信して実行させる"
   ]
  },
  {
   "cell_type": "code",
   "execution_count": null,
   "id": "f23b2c87-cf74-47a3-afbc-8d5d5757106b",
   "metadata": {},
   "outputs": [],
   "source": [
    "qsharp_handle = qsharp_backend.process_circuit(qsharp_bell, n_shots =200)\n",
    "qsharp_result = qsharp_backend.get_result(qsharp_handle)"
   ]
  },
  {
   "cell_type": "markdown",
   "id": "a53e810e-fdf7-42cd-aaeb-a2a4e902a681",
   "metadata": {
    "tags": []
   },
   "source": [
    "#### e. 結果の表示"
   ]
  },
  {
   "cell_type": "code",
   "execution_count": null,
   "id": "4e4c3b81-fa7e-45fa-9a22-8c380836f78b",
   "metadata": {},
   "outputs": [],
   "source": [
    "qsharp_counts = qsharp_result.get_counts()\n",
    "print(qsharp_counts)\n",
    "#from qiskit.visualization import plot_histogram\n",
    "#plot_histogram(qsharp_result.get_counts())"
   ]
  },
  {
   "cell_type": "code",
   "execution_count": null,
   "id": "b9dad025-4940-4184-bb92-dc53c22d9dbb",
   "metadata": {},
   "outputs": [],
   "source": []
  }
 ],
 "metadata": {
  "kernelspec": {
   "display_name": "Python 3 (ipykernel)",
   "language": "python",
   "name": "python3"
  },
  "language_info": {
   "codemirror_mode": {
    "name": "ipython",
    "version": 3
   },
   "file_extension": ".py",
   "mimetype": "text/x-python",
   "name": "python",
   "nbconvert_exporter": "python",
   "pygments_lexer": "ipython3",
   "version": "3.9.7"
  }
 },
 "nbformat": 4,
 "nbformat_minor": 5
}
