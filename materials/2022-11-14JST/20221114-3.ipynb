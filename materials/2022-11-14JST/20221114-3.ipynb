{
 "cells": [
  {
   "cell_type": "markdown",
   "id": "8125bad0-950f-4ce8-8363-8a5a77cfea18",
   "metadata": {},
   "source": [
    "# 量子回路最適化\n",
    "## (Quantinuum / Cambridge Quantum Computing)"
   ]
  },
  {
   "cell_type": "markdown",
   "id": "9fec5956-6558-4186-a6f3-d35bffbb06ef",
   "metadata": {},
   "source": [
    "## 5. 量子回路の最適化 Part2\n",
    "\n",
    "これまで、`PauliSimp`,`PauliSquash`関数や`get_compiled_circuit`の紹介を行ったが、tketにはその他にも多くの量子回路を最適化するための機能が備わっている。\n",
    "\n",
    "ここでは\n",
    "### 5-1. 事前に定義されている量子回路の最適化\n",
    "a. 非量子デバイス依存の量子回路の最適化:\n",
    "    `FullPeepholeOptimise` \n",
    "   \n",
    "b. 量子デバイス依存の量子回路の最適化のオプション:\n",
    "    `get_compiled_circuit`\n",
    "\n",
    "\n",
    "#### 参照\n",
    "- [pytket ドキュメント](https://cqcl.github.io/tket/pytket/api/index.html)\n",
    "- [pytket ユーザーマニュアル](https://cqcl.github.io/pytket/manual/index.html)\n",
    "\n"
   ]
  },
  {
   "cell_type": "markdown",
   "id": "67a76d4c-227b-4c1d-9e64-8309a8141858",
   "metadata": {},
   "source": [
    "### 5-0. 量子回路の準備\n",
    "ランダムなゲートの選択によって量子回路を生成し、回路の深さとCXの深さを数える。"
   ]
  },
  {
   "cell_type": "code",
   "execution_count": null,
   "id": "50d57cfe-08eb-4c1c-ac8b-48462fc2d82d",
   "metadata": {},
   "outputs": [],
   "source": [
    "from pytket import Circuit\n",
    "from pytket.circuit.display import render_circuit_jupyter\n",
    "from pytket.circuit import OpType\n",
    "from pytket.pauli import Pauli\n",
    "from pytket.circuit import PauliExpBox, fresh_symbol, OpType\n",
    "from pytket.passes import DecomposeBoxes\n",
    "box = PauliExpBox([Pauli.I, Pauli.Z, Pauli.X, Pauli.Y], fresh_symbol('tm'))\n",
    "from pytket.utils import Graph\n",
    "import numpy as np"
   ]
  },
  {
   "cell_type": "code",
   "execution_count": null,
   "id": "a085a8d6-9567-4b69-b89d-545b2dbf61f0",
   "metadata": {},
   "outputs": [],
   "source": [
    "def random_circuit(\n",
    "    n_qubits, depth, max_ops=3, measure=False, seed=None\n",
    "):\n",
    "    if max_ops < 1 or max_ops > 3:\n",
    "        raise print(\"max_ops must be between 1 and 3\")\n",
    "    op1types = [OpType.X, OpType.Y, OpType.Z, OpType.H, OpType.S, OpType.Sdg, OpType.T, OpType.Tdg, OpType.V, OpType.Vdg]\n",
    "    op2types = [OpType.CX, OpType.CY, OpType.CZ, OpType.CV, OpType.CVdg, OpType.CH]\n",
    "    op3types = [OpType.CCX]\n",
    "    circ = Circuit(n_qubits)\n",
    "    if seed is None:\n",
    "        rng = np.random.default_rng()\n",
    "    else:\n",
    "        rng = np.random.default_rng(seed)\n",
    "    for _ in range(depth):\n",
    "        choose_qubits = list(range(n_qubits))\n",
    "        rng.shuffle(choose_qubits)\n",
    "        while choose_qubits:\n",
    "            max_possible = min(len(choose_qubits), max_ops)\n",
    "            n_ops = rng.choice(range(max_possible)) + 1\n",
    "            ops = [choose_qubits.pop() for _ in range(n_ops)]\n",
    "            if n_ops == 1:\n",
    "                ope = rng.choice(op1types)\n",
    "            elif n_ops == 2:\n",
    "                ope = rng.choice(op2types)\n",
    "            elif n_ops == 3:\n",
    "                ope = rng.choice(op3types)\n",
    "            circ.add_gate(ope, ops)\n",
    "    if measure:\n",
    "        circ.measure_all()\n",
    "    return circ"
   ]
  },
  {
   "cell_type": "markdown",
   "id": "fa514525-2182-4a7a-8279-fd4784244172",
   "metadata": {
    "tags": []
   },
   "source": [
    "### 深さ１００のランダムな量子回路を生成"
   ]
  },
  {
   "cell_type": "code",
   "execution_count": null,
   "id": "107fea66-1488-498a-8176-237be7aa637a",
   "metadata": {},
   "outputs": [],
   "source": [
    "circ1 = random_circuit(n_qubits=2, depth=100, max_ops=1)\n",
    "circ2 = random_circuit(n_qubits=4, depth=100, max_ops=2)\n",
    "circ3 = random_circuit(n_qubits=4, depth=100, max_ops=3)\n",
    "print('Circuit depth: ', circ1.depth())\n",
    "print('Control depth: ', circ1.depth_by_type({OpType.CX, OpType.CY, OpType.CZ, OpType.CV, OpType.CVdg, OpType.CH}))\n",
    "render_circuit_jupyter(circ1)\n",
    "print('Circuit depth: ', circ2.depth())\n",
    "print('Control depth: ', circ2.depth_by_type({OpType.CX, OpType.CY, OpType.CZ, OpType.CV, OpType.CVdg, OpType.CH}))\n",
    "render_circuit_jupyter(circ2)\n",
    "print('Circuit depth: ', circ3.depth())\n",
    "print('Control depth: ', circ3.depth_by_type({OpType.CX, OpType.CY, OpType.CZ, OpType.CV, OpType.CVdg, OpType.CH}))\n",
    "print('CCX depth: ', circ3.depth_by_type(OpType.CCX))\n",
    "render_circuit_jupyter(circ3)"
   ]
  },
  {
   "cell_type": "markdown",
   "id": "7fad8e3c-4efa-4d2c-be41-586e350323c9",
   "metadata": {},
   "source": [
    "### 5-1. 事前に定義されている量子回路の最適化"
   ]
  },
  {
   "cell_type": "markdown",
   "id": "c034aa40-a5c2-44d9-9168-d0e9a9c82d7e",
   "metadata": {},
   "source": [
    "### a. 事前に定義されている量子回路の最適化(非量子デバイス依存): `FullPeepholeOptimise`\n",
    "`FullPeepholeOptimise`は`CliffordSimp`, `RemoveRedundancies`, `CommuteThroughMultis`, `KAKDecomposition`, `EulerAngleReduction`から構成されている量子回路最適化です。\n",
    "こちらは、量子デバイスが用意しているゲートセットやアーキテクチャー等を考慮せずに最適化されます。  \n",
    "  \n",
    "`PauliSquash`関数は`PauliSquash`=`PauliSimp`+`FullPeepholeOptimise`"
   ]
  },
  {
   "cell_type": "markdown",
   "id": "52002d59-994c-4a90-9552-bc3ee415fd11",
   "metadata": {},
   "source": [
    "3.1で、`PauliSimp` 関数を利用した時と同様にして、`FullPeepholeOptimise`を利用することができます。"
   ]
  },
  {
   "cell_type": "code",
   "execution_count": null,
   "id": "fd0e53b9-2016-4daf-8d95-0d4f6cb7ede1",
   "metadata": {},
   "outputs": [],
   "source": [
    "from pytket.passes import FullPeepholeOptimise\n",
    "circ1x=circ1.copy()\n",
    "FullPeepholeOptimise().apply(circ1x)\n",
    "print('Circuit depth: ', circ1x.depth())\n",
    "print('CX depth: ', circ1x.depth_by_type(OpType.CX))\n",
    "render_circuit_jupyter(circ1x)\n",
    "circ2x=circ2.copy()\n",
    "FullPeepholeOptimise().apply(circ2x)\n",
    "print('Circuit depth: ', circ2x.depth())\n",
    "print('CX depth: ', circ2x.depth_by_type(OpType.CX))\n",
    "render_circuit_jupyter(circ2x)\n",
    "circ3x=circ3.copy()\n",
    "FullPeepholeOptimise().apply(circ3x)\n",
    "print('Circuit depth: ', circ3x.depth())\n",
    "print('CX depth: ', circ3x.depth_by_type(OpType.CX))\n",
    "print('CCX depth: ', circ3x.depth_by_type(OpType.CCX))\n",
    "render_circuit_jupyter(circ3x)"
   ]
  },
  {
   "cell_type": "markdown",
   "id": "a87dc5d0-64e7-43f8-b0ed-eba7f4519db3",
   "metadata": {},
   "source": [
    "ここで、$\\mathrm{TK1}(\\alpha,\\beta,\\gamma)$はオイラー角\n",
    "$$\n",
    "Rz(\\alpha)Rx(\\beta)Rz(\\gamma)\n",
    "$$\n",
    "を表す。  \n",
    "注意：上記の実数 $\\alpha$, $\\beta$, $\\gamma$ はradian表記ではなく、$\\pi$ を単位とした表現になっている。つまり、radian表記は $\\alpha\\times\\pi$, $\\beta\\times\\pi$, $\\gamma\\times\\pi$ "
   ]
  },
  {
   "cell_type": "markdown",
   "id": "bc8f9b89-bf0a-4954-8645-0f1f8d085cb0",
   "metadata": {
    "tags": []
   },
   "source": [
    "### b. 事前に定義されている量子回路の最適化(量子デバイス依存): `get_compiled_circuit`\n",
    "tketでは非量子デバイス依存の量子回路の最適化だけでなく、量子デバイス毎に用意されている量子回路の最適化が用意されてます。\n",
    "こちらは、量子デバイスが用意しているゲートセットやアーキテクチャー等を考慮した量子回路の最適化です。\n",
    "\n",
    "Optimisationのレベルを0,1,2から選択でき、それぞれ以下のようになっています。\n",
    "\n",
    "|  レベル |  概要  |\n",
    "| :---- | :---- |\n",
    "|  0  | Just solves the constraints as simply as possible. No optimisation. |\n",
    "|  1  | Adds basic optimisations (those covered by the SynthesiseX() passes) for efficient compilation. |\n",
    "|  2  | Extends to more intensive optimisations (those covered by the FullPeepholeOptimise() pass). |"
   ]
  },
  {
   "cell_type": "markdown",
   "id": "bb628c46-9a18-4e55-b152-9e2225614084",
   "metadata": {},
   "source": [
    "### IBMの量子デバイス エミュレータ（ibmq_lima）にジョブを実行\n",
    "<img src=\"./fig/lima.png\" width=\"250\">\n"
   ]
  },
  {
   "cell_type": "code",
   "execution_count": null,
   "id": "211d2504-41ed-4de2-899e-ec941ef0d66d",
   "metadata": {},
   "outputs": [],
   "source": [
    "path = 'key/ibm-token'\n",
    "f = open(path)\n",
    "ibm_token = f.read()\n",
    "f.close()\n",
    "from pytket.extensions.qiskit.backends.config import set_ibmq_config\n",
    "set_ibmq_config(ibmq_api_token=ibm_token)"
   ]
  },
  {
   "cell_type": "code",
   "execution_count": null,
   "id": "6bc82dc1-ec95-4fc6-b444-9e2b8aa59137",
   "metadata": {},
   "outputs": [],
   "source": [
    "backend = IBMQEmulatorBackend(\"ibmq_lima\")\n",
    "#circ2x0 = circ2x.copy()\n",
    "#circ2c0 = backend.get_compiled_circuit(circ2x0,optimisation_level=0)\n",
    "#print('Level 0')\n",
    "#print('Circuit depth: ', circ2x0.depth())\n",
    "#print('CX depth: ', circ2x0.depth_by_type(OpType.CX))\n",
    "#render_circuit_jupyter(circ2x0)\n",
    "circ2x1 = circ2x.copy()\n",
    "circ2x1 = backend.get_compiled_circuit(circ2x1,optimisation_level=1)\n",
    "print('Level 1')\n",
    "print('Circuit depth: ', circ2x1.depth())\n",
    "print('CX depth: ', circ2x1.depth_by_type(OpType.CX))\n",
    "render_circuit_jupyter(circ2x1)\n",
    "circ2x2 = circ2x.copy()\n",
    "circ2x2 = backend.get_compiled_circuit(circ2x2,optimisation_level=2)\n",
    "print('Level 2')\n",
    "print('Circuit depth: ', circ2x2.depth())\n",
    "print('CX depth: ', circ2x2.depth_by_type(OpType.CX))\n",
    "render_circuit_jupyter(circ2x2)"
   ]
  },
  {
   "cell_type": "code",
   "execution_count": null,
   "id": "83fb1fd0-a7b7-434a-80d6-bc82213fc361",
   "metadata": {
    "tags": []
   },
   "outputs": [],
   "source": [
    "circ2x2.measure_all()\n",
    "handle = backend.process_circuit(circ2x2, n_shots =100)\n",
    "result_counts = backend.get_result(handle).get_counts()\n",
    "plot_histogram(result_counts)"
   ]
  },
  {
   "cell_type": "markdown",
   "id": "94436da6-fa1c-40d1-842a-dbf3d3e1c21b",
   "metadata": {},
   "source": [
    "### Appendix A. いくつかの量子回路の最適化関数や変換\n",
    "a. `CliffordSimp`,\n",
    "\n",
    "b. `RemoveRedundancies`, \n",
    "\n",
    "c. `CommuteThroughMultis`, \n",
    "\n",
    "d. `EulerAngleReduction`,"
   ]
  },
  {
   "cell_type": "markdown",
   "id": "564ec54e-b08c-4851-9b6b-4835ef8c5141",
   "metadata": {},
   "source": [
    "### a. `CliffordSimp`\n",
    "2量子ビットゲートの数を減らすことができるクリフォードゲートの特定のシーケンスを探す。"
   ]
  },
  {
   "cell_type": "code",
   "execution_count": null,
   "id": "cb742543-ecac-4328-9a46-d2b32e6822ab",
   "metadata": {},
   "outputs": [],
   "source": [
    "# Circuit optimization by using compiler passes.\n",
    "from pytket.passes import CliffordSimp\n",
    "# A basic inefficient pattern can be reduced by 1 CX\n",
    "simple = Circuit(2)\n",
    "simple.CX(0, 1).S(1).CX(1, 0)\n",
    "render_circuit_jupyter(simple)\n",
    "\n",
    "CliffordSimp().apply(simple)\n",
    "render_circuit_jupyter(simple)"
   ]
  },
  {
   "cell_type": "code",
   "execution_count": null,
   "id": "4bac59d2-17fa-494e-a29a-e3662eec0847",
   "metadata": {},
   "outputs": [],
   "source": [
    "from pytket import Circuit, OpType\n",
    "from pytket.passes import CliffordSimp\n",
    "\n",
    "# The same pattern, up to commutation and local Clifford algebra\n",
    "circ = Circuit(3)\n",
    "circ.Rz(0.2, 0)\n",
    "circ.Rx(0.35, 1)\n",
    "circ.V(0).H(1).CX(0, 1).CX(1, 2).Rz(-0.6, 2).CX(1, 2).CX(0, 1).Vdg(0).H(1)\n",
    "circ.H(1).H(2).CX(0, 1).CX(1, 2).Rz(0.8, 2).CX(1, 2).CX(0, 1).H(1).H(2)\n",
    "circ.Rx(0.1, 1)\n",
    "print('Circuit depth: ', circ.depth())\n",
    "print('CX depth: ', circ.depth_by_type(OpType.CX))\n",
    "render_circuit_jupyter(circ)\n",
    "CliffordSimp().apply(circ)\n",
    "print('Circuit depth: ', circ.depth())\n",
    "print('CX depth: ', circ.depth_by_type(OpType.CX))\n",
    "render_circuit_jupyter(circ)"
   ]
  },
  {
   "cell_type": "markdown",
   "id": "75c32ba7",
   "metadata": {},
   "source": [
    "### b. `RemoveRedundancies`\n",
    "ゼロパラメータの回転ゲート、ゲートと逆のペア、同じ基底で隣接する回転ゲートなどを削減します。"
   ]
  },
  {
   "cell_type": "code",
   "execution_count": null,
   "id": "e54c041d-87d0-4486-960c-35829e295ba6",
   "metadata": {},
   "outputs": [],
   "source": [
    "from pytket.passes import RemoveRedundancies\n",
    "circ = Circuit(3, 3)\n",
    "circ.Rx(0.92, 0).CX(1, 2).Rx(-0.18, 0)  # Adjacent Rx gates can be merged\n",
    "circ.CZ(0, 1).Ry(0.11, 2).CZ(0, 1)      # CZ is self-inverse\n",
    "circ.add_gate(OpType.XXPhase, 0.6, [0, 1])\n",
    "circ.add_gate(OpType.YYPhase, 0, [0, 1])    # 0-angle rotation does nothing\n",
    "circ.add_gate(OpType.ZZPhase, -0.84, [0, 1])\n",
    "circ.Rx(0.03, 0).Rz(-0.9, 1).measure_all()  # Effect of Rz is eliminated by measurement\n",
    "print('Circuit depth: ', circ.depth())\n",
    "print('CX depth: ', circ.depth_by_type(OpType.CX))\n",
    "render_circuit_jupyter(circ)\n",
    "\n",
    "RemoveRedundancies().apply(circ)\n",
    "print('Circuit depth: ', circ.depth())\n",
    "print('CX depth: ', circ.depth_by_type(OpType.CX))\n",
    "render_circuit_jupyter(circ)\n"
   ]
  },
  {
   "cell_type": "code",
   "execution_count": null,
   "id": "3d3fc412-ad58-4382-939d-000ee347910a",
   "metadata": {},
   "outputs": [],
   "source": []
  },
  {
   "cell_type": "markdown",
   "id": "06f3c8f7-b9f2-4eb1-a590-aaaf56bb5237",
   "metadata": {},
   "source": [
    "### c. `CommuteThroughMultis`\n",
    "\"1量子ビットゲートと可換な\"2量子ビットゲートが先に作用している場合、これらを交換する。"
   ]
  },
  {
   "cell_type": "code",
   "execution_count": null,
   "id": "5811ee47-0ea2-4ece-a2ba-b6798e586693",
   "metadata": {},
   "outputs": [],
   "source": [
    "from pytket.passes import CommuteThroughMultis\n",
    "circD = Circuit(3)\n",
    "circD.CX(0,2).X(2)\n",
    "render_circuit_jupyter(circD)\n",
    "CommuteThroughMultis().apply(circD)\n",
    "render_circuit_jupyter(circD)"
   ]
  },
  {
   "cell_type": "markdown",
   "id": "4e5c66d2-3db9-498b-b998-8adadb5325ef",
   "metadata": {
    "tags": []
   },
   "source": [
    "### d. `EulerAngleReduction`\n",
    "`EulerAngleReduction`では、ユニタリ行列のオイラー角分解を与える。"
   ]
  },
  {
   "cell_type": "code",
   "execution_count": null,
   "id": "35aed10c-d156-4aef-9e75-24c83c58404b",
   "metadata": {
    "tags": []
   },
   "outputs": [],
   "source": [
    "from pytket.circuit import Circuit, OpType\n",
    "from pytket.circuit.display import render_circuit_jupyter\n",
    "from pytket.passes import EulerAngleReduction, auto_rebase_pass\n",
    "rebase = auto_rebase_pass({OpType.CZ, OpType.Rx, OpType.Rz})\n",
    "circE = Circuit(1)\n",
    "circE.H(0).T(0)\n",
    "render_circuit_jupyter(circE)\n",
    "rebase.apply(circE)\n",
    "render_circuit_jupyter(circE)\n",
    "EulerAngleReduction(OpType.Rx, OpType.Rz).apply(circE)\n",
    "render_circuit_jupyter(circE)\n",
    "EulerAngleReduction(OpType.Rz, OpType.Rx).apply(circE)\n",
    "render_circuit_jupyter(circE)"
   ]
  },
  {
   "cell_type": "code",
   "execution_count": null,
   "id": "7a966634-c198-4dfb-bcdd-9ba0735038df",
   "metadata": {},
   "outputs": [],
   "source": [
    "from pytket.circuit import Circuit, OpType\n",
    "from pytket.circuit.display import render_circuit_jupyter\n",
    "from pytket.passes import EulerAngleReduction, auto_rebase_pass\n",
    "rebase = auto_rebase_pass({OpType.CZ, OpType.Rx, OpType.Ry})\n",
    "circE = Circuit(1)\n",
    "circE.H(0).T(0)\n",
    "render_circuit_jupyter(circE)\n",
    "rebase.apply(circE)\n",
    "render_circuit_jupyter(circE)\n",
    "#EulerAngleReduction(OpType.Rx, OpType.Ry).apply(circE)\n",
    "#render_circuit_jupyter(circE)\n",
    "EulerAngleReduction(OpType.Ry, OpType.Rx).apply(circE)\n",
    "render_circuit_jupyter(circE)"
   ]
  },
  {
   "cell_type": "markdown",
   "id": "5d0c8ef0-de4e-4ba1-beb0-7617806e74a0",
   "metadata": {},
   "source": [
    "### Appendix B. 量子回路の最適化のカスタマイズ\n",
    "- `SequencePass`\n"
   ]
  },
  {
   "cell_type": "markdown",
   "id": "ea961e71-955e-415c-92f1-a712c4a63b96",
   "metadata": {},
   "source": [
    "tketにはそのほかにも多くの量子回路最適化を用意している。\n",
    "これらを最適化のパスに組み込みたい場合や自分で実装した最適化関数をパスに組み込みたい場合には`SequencePass`を利用すれば、カスタマイズが可能である。"
   ]
  },
  {
   "cell_type": "code",
   "execution_count": null,
   "id": "4369576d-d115-4276-93cb-38700981ee89",
   "metadata": {},
   "outputs": [],
   "source": [
    "from pytket import Circuit, OpType\n",
    "from pytket.passes import auto_rebase_pass, EulerAngleReduction, SequencePass\n",
    "rebase = auto_rebase_pass({OpType.CZ, OpType.Rz, OpType.Rx})\n",
    "circ = Circuit(3)\n",
    "circ.CX(0, 1).Rx(0.3, 1).CX(2, 1).Rz(0.8, 1)\n",
    "render_circuit_jupyter(circ)\n",
    "\n",
    "circ1 = circ.copy()\n",
    "rebase.apply(circ1)\n",
    "EulerAngleReduction(OpType.Rz, OpType.Rx).apply(circ1)\n",
    "render_circuit_jupyter(circ1)\n",
    "\n",
    "circ2 = circ.copy()\n",
    "comp = SequencePass([rebase, EulerAngleReduction(OpType.Rz, OpType.Rx)])\n",
    "comp.apply(circ2)\n",
    "render_circuit_jupyter(circ2)"
   ]
  },
  {
   "cell_type": "markdown",
   "id": "2894a80e-cd01-4408-a4f5-a6b9f8654c2d",
   "metadata": {},
   "source": [
    "https://cqcl.github.io/tket/pytket/api/passes.html"
   ]
  },
  {
   "cell_type": "code",
   "execution_count": null,
   "id": "5d7ace5d-feac-482e-ad32-09a85759b7b3",
   "metadata": {},
   "outputs": [],
   "source": []
  },
  {
   "cell_type": "code",
   "execution_count": null,
   "id": "9949c353-68ac-4557-a3f6-accdb7b3de48",
   "metadata": {},
   "outputs": [],
   "source": []
  }
 ],
 "metadata": {
  "kernelspec": {
   "display_name": "Python 3 (ipykernel)",
   "language": "python",
   "name": "python3"
  },
  "language_info": {
   "codemirror_mode": {
    "name": "ipython",
    "version": 3
   },
   "file_extension": ".py",
   "mimetype": "text/x-python",
   "name": "python",
   "nbconvert_exporter": "python",
   "pygments_lexer": "ipython3",
   "version": "3.9.7"
  }
 },
 "nbformat": 4,
 "nbformat_minor": 5
}
