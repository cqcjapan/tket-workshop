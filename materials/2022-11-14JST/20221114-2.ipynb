{
 "cells": [
  {
   "cell_type": "markdown",
   "id": "05b0e743",
   "metadata": {},
   "source": [
    "# A. tketを使った量子回路の作成　基礎編"
   ]
  },
  {
   "cell_type": "markdown",
   "id": "4d708832",
   "metadata": {},
   "source": [
    "## 1. 量子ビットの準備する"
   ]
  },
  {
   "cell_type": "markdown",
   "id": "f32a3818",
   "metadata": {},
   "source": [
    "### 1-1. Circuitで量子ビット数、ビット数を指定する。$|0\\rangle^{\\otimes n}$が初期値\n",
    "量子ビットを準備\n",
    "- `Circuit('number of qubits')` \n",
    "\n",
    "量子ビット、ビットを準備\n",
    "- `Circuit('number of qubits','number of bits')` \n",
    "\n",
    "量子回路を出力\n",
    "- `render_circuit_jupyter(Circuit)`"
   ]
  },
  {
   "cell_type": "code",
   "execution_count": null,
   "id": "3a9db10b",
   "metadata": {
    "tags": []
   },
   "outputs": [],
   "source": [
    "from pytket import Circuit\n",
    "from pytket.circuit.display import render_circuit_jupyter #量子回路モデルの表示\n",
    "trivial_circ = Circuit()        # no qubits or bits\n",
    "quantum_circ = Circuit(2)       # 4 qubits and no bits\n",
    "mixed_circ   = Circuit(2, 1)    # 4 qubits and 2 bits\n",
    "render_circuit_jupyter(trivial_circ)\n",
    "render_circuit_jupyter(quantum_circ)\n",
    "render_circuit_jupyter(mixed_circ)"
   ]
  },
  {
   "cell_type": "markdown",
   "id": "5fb42e7f",
   "metadata": {},
   "source": [
    "### 1-2. add_q_registerで量子ビット、add_c_registerでビットを挿入する\n",
    "量子ビットを加える\n",
    "- `Circuit.add_q_register('name','number of qubits')`\n",
    "\n",
    "ビットを加える\n",
    "- `Circuit.add_c_register('name','number of bits')`\n",
    "\n",
    "量子ビットのリストを出力\n",
    "- `Circuit.qubits`\n",
    "\n",
    "ビットのリストを出力\n",
    "- `Circuit.bits`"
   ]
  },
  {
   "cell_type": "code",
   "execution_count": null,
   "id": "8e3c17aa",
   "metadata": {},
   "outputs": [],
   "source": [
    "circ = Circuit()        # no qubits or bits\n",
    "circ.add_q_register('qb1',2)       # add 2 qubits\n",
    "circ.add_q_register('qb2',1)       # add 1 qubit\n",
    "circ.add_c_register('cb',2)        # add 2 bits\n",
    "print(circ.qubits)                 #qubit registerの確認\n",
    "print(circ.bits)                   #bit registerの確認\n",
    "render_circuit_jupyter(circ)"
   ]
  },
  {
   "cell_type": "markdown",
   "id": "bd84dd1e",
   "metadata": {},
   "source": [
    "## 2. 準備した量子ビットに量子ゲートを作用させる"
   ]
  },
  {
   "cell_type": "markdown",
   "id": "bf3bb015",
   "metadata": {},
   "source": [
    "### 2-1. 基本的な量子ゲートの作用\n",
    "準備した量子ビットに量子ゲートを作用させる\n",
    "\n",
    "(制御、回転角の指定)=(無,無) \n",
    "- `Circuit.'gate_name'('terget qubit(s)')`\n",
    "\n",
    "(制御、回転角の指定)=(有,無) \n",
    "- `Circuit.'gate_name'('control_qubit(s)','terget qubit(s)')`\n",
    "\n",
    "(制御、回転角の指定)=(無,有) \n",
    "- `Circuit.'gate_name'('angle','terget qubit(s)')`\n",
    "\n",
    "(制御、回転角の指定)=(有,有) \n",
    "- `Circuit.'gate_name'('angle','control_qubit(s)','terget qubit(s)')`\n",
    "\n",
    "注意：上記の実数'angle'はradian表記ではなく、πを単位とした表現になっている。つまり、radian表記は'angle'×π\n",
    "\n",
    "参照：https://cqcl.github.io/tket/pytket/api/circuit_class.html#pytket.circuit.Circuit"
   ]
  },
  {
   "cell_type": "code",
   "execution_count": null,
   "id": "6a374293",
   "metadata": {},
   "outputs": [],
   "source": [
    "from pytket import Circuit\n",
    "circ = Circuit(3)\n",
    "#Xゲートを[1]量子ビットに作用\n",
    "circ.X(1) \n",
    "#swapゲートを[1],[2]量子ビットに作用\n",
    "circ.SWAP(1,2) \n",
    "#アダマールゲートを[0]量子ビットでコントロールして、[2]量子ビットに作用\n",
    "circ.CH(0,2) \n",
    "#x軸 0.5×pi回転させるゲートを[1]量子ビットに作用\n",
    "circ.Rx(0.5,1) \n",
    "#Xゲートを[0],[2]量子ビットでコントロールして、[1]量子ビットに作用　\n",
    "circ.CCX(0,2,1) \n",
    "#y軸 0.25×pi回転させるゲートを[0]量子ビットでコントロールして、[2]量子ビットに作用\n",
    "circ.CRy(0.25,0,2) \n",
    "#量子回路の可視化\n",
    "render_circuit_jupyter(circ)"
   ]
  },
  {
   "cell_type": "markdown",
   "id": "face0101",
   "metadata": {},
   "source": [
    "### 2-2. その他の量子ゲート\n",
    "参照：https://cqcl.github.io/tket/pytket/api/optype.html\n",
    "\n",
    "|  量子ゲート |  階数  | 概要   |  量子ゲート |  階数  | 概要 |  量子ゲート |  階数  | 概要   |\n",
    "| :----: | :----: | :----: | :----: | :----: | :----: | :----: | :----: | :----: |\n",
    "|  **X(qubit)**  | 1 |  \\begin{pmatrix} 0 & 1 \\\\ 1 & 0 \\end{pmatrix}  |  **Y(qubit)** | 1 |  \\begin{pmatrix} 0 & -i\\\\ i & 0 \\end{pmatrix}  |  **Z(qubit)** | 1 |  \\begin{pmatrix} 1 & 0 \\\\ 0 & -1 \\end{pmatrix}  |\n",
    "|  **CX(c_qubit,t_qubit)**  | 2 |  Controlled X  |  **CY(c_qubit,t_qubit)**  | 2 |  Controlled Y  |  **CZ(c_qubit,t_qubit)**  | 2 |  Controlled Z  |\n",
    "|  **Rx(angle:,qubit)**  | 1 |  $e^{-\\frac{1}{2}i\\pi\\alpha X}=$$\\begin{pmatrix} \\cos \\frac{\\alpha\\pi}{2} & -i \\sin \\frac{\\alpha\\pi}{2} \\\\ -i \\sin \\frac{\\alpha\\pi}{2} & \\cos \\frac{\\alpha\\pi}{2} \\end{pmatrix}$  |  **Ry(angle,qubit)**  | 1 |  $e^{-\\frac{1}{2}i\\pi\\alpha Y}=$$\\begin{pmatrix} \\cos \\frac{\\alpha\\pi}{2} & -\\sin \\frac{\\alpha\\pi}{2} \\\\ \\sin \\frac{\\alpha\\pi}{2} & \\cos \\frac{\\alpha\\pi}{2} \\end{pmatrix}$  |  **Rz(angle,qubit)**  | 1 |  $e^{-\\frac{1}{2}i\\pi\\alpha Z}=$$\\begin{pmatrix} e^{-\\frac{i\\alpha\\pi}{2}} & 0 \\\\ 0 & e^{\\frac{i\\alpha\\pi}{2}} \\end{pmatrix}$  |\n",
    "|  **CRx(angle,c_qubit,t_qubit)**  | 2 |  Controlled Rx  |  **CRy(angle,c_qubit,t_qubit)**  | 2 |  Controlled Ry  |  **CRz(angle,c_qubit,t_qubit)**  | 2 |  Controlled Rz  |\n",
    "|  **XXPhase(angle,qubit0,qubit1)**  | 2 |  \\begin{pmatrix} \\cos \\frac{\\alpha\\pi}{2} &0&0& -i \\sin \\frac{\\alpha\\pi}{2} \\\\ 0 & \\cos \\frac{\\alpha\\pi}{2}&-i \\sin \\frac{\\alpha\\pi}{2}&0\\\\ 0 & -i \\sin \\frac{\\alpha\\pi}{2}&\\cos \\frac{\\alpha\\pi}{2}&0\\\\ -i \\sin \\frac{\\alpha\\pi}{2}&0&0&\\cos \\frac{\\alpha\\pi}{2}\\end{pmatrix}  |  **YYPhase(angle,qubit0,qubit1)**  | 2 |  \\begin{pmatrix} \\cos \\frac{\\alpha\\pi}{2} &0&0& i \\sin \\frac{\\alpha\\pi}{2} \\\\ 0 & \\cos \\frac{\\alpha\\pi}{2}&-i \\sin \\frac{\\alpha\\pi}{2}&0\\\\ 0 & -i \\sin \\frac{\\alpha\\pi}{2}&\\cos \\frac{\\alpha\\pi}{2}&0\\\\ i \\sin \\frac{\\alpha\\pi}{2}&0&0&\\cos \\frac{\\alpha\\pi}{2}\\end{pmatrix}   |  **ZZPhase(angle,qubit0,qubit1)**  | 2 |  \\begin{pmatrix} e^{-\\frac{i\\alpha\\pi}{2}} & 0 & 0 & 0 \\\\ 0 & e^{\\frac{i\\alpha\\pi}{2}} & 0 & 0 \\\\ 0 & 0 & e^{\\frac{i\\alpha\\pi}{2}} & 0 \\\\ 0 & 0 & 0 & e^{-\\frac{i\\alpha\\pi}{2}} \\end{pmatrix}   |"
   ]
  },
  {
   "cell_type": "markdown",
   "id": "ee1c6aaf",
   "metadata": {},
   "source": [
    "\n",
    "|  量子ゲート |  階数  | 概要 |  量子ゲート |  階数  | 概要 | \n",
    "| :----: | :----: | :----: | :----: | :----: | :----: | \n",
    "|  **H(qubit)**  | 1 | $\\frac{1}{\\sqrt{2}}\\begin{pmatrix} 1 & 1 \\\\ 1 & -1 \\end{pmatrix}$ | **SWAP(qubit0,qubit1)** | 2 |  SWAP ゲート  |\n",
    "|  **CH(c_qubit,t_qubit)**   | 2 |  Controlled H  | **CSWAP(c_qubit,t_qubit0,t_qubit1)**  | 3 |Controlled SWAP|\n",
    "| **CCX(c_qubit0,c_qubit1,t_qubit)**  | 3 |  トフォリ ゲート   | | | |"
   ]
  },
  {
   "cell_type": "markdown",
   "id": "5d5ca9a8",
   "metadata": {},
   "source": [
    "|  量子ゲート |  階数  | 概要 |  量子ゲート |  階数  | 概要 | \n",
    "| :----: | :----: | :----: | :----: | :----: | :----: |\n",
    "|  **S(qubit)**  | 1 |  \\begin{pmatrix} 1 & 0 \\\\ 0 & i \\end{pmatrix}  |  **T(qubit)**  | 1 |  \\begin{pmatrix} 1 & 0 \\\\ 0 & e^{\\frac{i\\pi}{4}} \\end{pmatrix}  |\n",
    "|  **Sdg(qubit)**  | 1 |  \\begin{pmatrix} 1 & 0 \\\\ 0 & -i \\end{pmatrix}  |  **Tdg(qubit)**  | 1 |  \\begin{pmatrix} 1 & 0 \\\\ 0 & e^{-\\frac{i\\pi}{4}} \\end{pmatrix}  |\n",
    "|  **SX(qubit)**  | 1 |  $\\frac{1}{2}\\begin{pmatrix} 1+i & 1-i \\\\ 1-i & 1+i \\end{pmatrix} $ |  **V(qubit)**  | 1 |   $\\frac{1}{\\sqrt{2}}\\begin{pmatrix} 1 & -i \\\\ -i & 1 \\end{pmatrix} $ |\n",
    "|  **SXdg(qubit)**  | 1 |   $\\frac{1}{2}\\begin{pmatrix} 1-i & 1+i \\\\ 1+i & 1-i \\end{pmatrix}$   |  **Vdg(qubit)**  | 1 |  $\\frac{1}{\\sqrt{2}}\\begin{pmatrix} 1 & i \\\\ i & 1 \\end{pmatrix} $ |\n",
    "|  **CSX(c_qubit,t_qubit)**  | 2 |  Controlled SX  |  **CV(c_qubit,t_qubit)**  | 2 |  Controlled V  |\n",
    "|  **CSXdg(c_qubit,t_qubit)**  | 2 |  Controlled SXdg  |  **CVdg(c_qubit,t_qubit)**  | 2 |  Controlled Vdg  |"
   ]
  },
  {
   "cell_type": "markdown",
   "id": "d3eafee1",
   "metadata": {
    "tags": []
   },
   "source": [
    "### 2-3. add_gateを使った量子ゲートの作用\n",
    "2-2.で挙げたゲート以外にも様々な量子ゲートが用意されている\n",
    "- `Circuit.add_gate(OpType.'gate_name',['angle(s)'],['qubit(s)'])` \n",
    "\n",
    "として利用\n",
    "\n",
    "|  量子ゲート |  階数  |  パラメータ  | 概要 |  量子ゲート |  階数  |  パラメータ  | 概要 | \n",
    "| :----: | :----: | :----: | :----: | :----: | :----: | :----: | :----: |\n",
    "|  **U1**  | 1 | $\\lambda$ | $e^{\\frac{i\\pi\\lambda}{2}}$$Rz(\\lambda)$ | **U2** | 1 | $(\\phi,\\lambda)$ | $e^{\\frac{i\\pi(\\lambda+\\phi)}{2}}$$Rz(\\phi)$$Ry(\\frac{1}{2})$$Rz(\\lambda)$  |\n",
    "|  **U3** | 1 | $(\\theta,\\phi,\\lambda)$ | $e^{\\frac{i\\pi(\\lambda+\\phi)}{2}}$$Rz(\\phi)$$Ry(\\theta)$$Rz(\\lambda)$ |  |  |  |  |\n",
    "|  **CU1**  | 2 | $\\lambda$ | controlled U1$(\\lambda)$ |  **CU3** | 2 | $(\\theta,\\phi,\\lambda)$ | controlled U3$(\\theta,\\phi,\\lambda)$ |\n",
    "|  **CnX**  | n+1 |  | n-controlled X | **CnRy** | n+1 | $\\alpha$ | n-controlled $Ry(\\alpha)$ |  |  |  |  |\n",
    "|  **TK1**  | 1 | $(\\alpha,\\beta,\\gamma)$ | $Rz(\\alpha)$$Rx(\\beta)$$Rz(\\gamma)$ | **TK2** | 2 | $(\\alpha,\\beta,\\gamma)$ | XXPhase($\\alpha$)YYPhase($\\beta$)ZZphase($\\gamma$) |\n",
    "\n",
    "\n",
    "参照：https://cqcl.github.io/tket/pytket/api/optype.html\n"
   ]
  },
  {
   "cell_type": "code",
   "execution_count": null,
   "id": "9ab9f3a1",
   "metadata": {},
   "outputs": [],
   "source": [
    "from pytket import Circuit, OpType\n",
    "# add_gate(OpType.'gate_name',['angle(s)'],['qubit(s)'])\n",
    "circ = Circuit(3)\n",
    "circ.add_gate(OpType.X,[0]) \n",
    "circ.add_gate(OpType.SWAP,[1,2])\n",
    "circ.add_gate(OpType.CH,[0,2])\n",
    "circ.add_gate(OpType.Rx,[0.5],[1])\n",
    "circ.add_gate(OpType.CCX,[0,2,1])\n",
    "circ.add_gate(OpType.CRy,[0.25],[0,2])\n",
    "render_circuit_jupyter(circ)"
   ]
  },
  {
   "cell_type": "code",
   "execution_count": null,
   "id": "5fe2341d",
   "metadata": {},
   "outputs": [],
   "source": [
    "from pytket import Circuit, OpType\n",
    "# add_gate(OpType.'gate_name',['angle(s)'],['qubit(s)'])\n",
    "circ = Circuit(4)\n",
    "circ.add_gate(OpType.U1,[0.75],[0]) \n",
    "circ.add_gate(OpType.U2,[0.75,0.25],[1])\n",
    "circ.add_gate(OpType.U3,[0.5,0.5,0.5],[2])\n",
    "circ.add_gate(OpType.CU1,[0.5],[0,2])\n",
    "circ.add_gate(OpType.CU3,[0.5,0.75,0.25],[1,2])\n",
    "circ.add_gate(OpType.CnRy,[0.5],[0])\n",
    "circ.add_gate(OpType.CnRy,[0.5],[1,0])\n",
    "circ.add_gate(OpType.CnRy,[0.5],[1,2,0])\n",
    "circ.add_gate(OpType.CnRy,[0.5],[1,2,3,0])\n",
    "circ.add_gate(OpType.CnX,[3])\n",
    "circ.add_gate(OpType.CnX,[2,3])\n",
    "circ.add_gate(OpType.CnX,[1,2,3])\n",
    "circ.add_gate(OpType.CnX,[0,1,2,3])\n",
    "render_circuit_jupyter(circ)"
   ]
  },
  {
   "cell_type": "markdown",
   "id": "eef70973-6aba-4b70-b01b-1611955fe2e9",
   "metadata": {},
   "source": [
    "### 2-3. Unitary1qBox, Unitary2qBox, Unitary3qBoxを使った量子ゲートの作用\n",
    "\n",
    "|  量子ゲート |  階数  |  パラメータ  | 概要 | \n",
    "| :----: | :----: | :----: | :----: |\n",
    "| **Unitary1qBox** | 1 | $2\\times 2$ | $2\\times 2$ユニタリー行列 |\n",
    "| **Unitary2qBox** | 2 | $4\\times 4$ | $4\\times 4$ユニタリー行列 |\n",
    "| **Unitary3qBox** | 3 | $8\\times 8$ | $8\\times 8$ユニタリー行列 |\n",
    "\n",
    "参照：https://cqcl.github.io/tket/pytket/api/optype.html"
   ]
  },
  {
   "cell_type": "code",
   "execution_count": null,
   "id": "79d5e587",
   "metadata": {},
   "outputs": [],
   "source": [
    "from pytket.circuit import Circuit, Unitary1qBox, Unitary2qBox\n",
    "import numpy as np\n",
    "u1 = np.asarray([[-0.7487011587786401+0.4453416229024393j, 0.4061474383265779+0.2759740424295397j],\n",
    "                 [-0.12329679104996497+0.4753054965713359j, -0.8565044726815658+0.15900526570629525j]])\n",
    "u1box = Unitary1qBox(u1)\n",
    "u2 = np.asarray([[0, 1, 0, 0],\n",
    "                 [0, 0, 0, -1],\n",
    "                 [1, 0, 0, 0],\n",
    "                 [0, 0, -1j, 0]])\n",
    "u2box = Unitary2qBox(u2)\n",
    "\n",
    "circ = Circuit(3)\n",
    "circ.add_unitary1qbox(u1box, 0)\n",
    "circ.add_unitary2qbox(u2box, 1, 2)\n",
    "circ.add_unitary1qbox(u1box, 2)\n",
    "circ.add_unitary2qbox(u2box, 1, 0)\n",
    "\n",
    "render_circuit_jupyter(circ)"
   ]
  },
  {
   "cell_type": "markdown",
   "id": "ec8892d5",
   "metadata": {},
   "source": [
    "## 3. 測定\n",
    "### tketでは、すべての測定はZ基底$\\{|0\\rangle,|1\\rangle\\}$で行われる。"
   ]
  },
  {
   "cell_type": "markdown",
   "id": "fa9ebd2f",
   "metadata": {
    "tags": []
   },
   "source": [
    "- `Circuit.Measure('qubit','bit')`\n",
    "\n",
    "として利用\n",
    "\n",
    "- Z基底以外での測定をしたい場合には、測定の直前でZ基底を基底変換する"
   ]
  },
  {
   "cell_type": "code",
   "execution_count": null,
   "id": "73caf949",
   "metadata": {},
   "outputs": [],
   "source": [
    "from pytket import Circuit\n",
    "from pytket.circuit.display import render_circuit_jupyter\n",
    "circ = Circuit(2, 2)\n",
    "circ.Measure(0, 0)  #  measurement on qubit 0, saving result in bit 0\n",
    "circ.add_barrier([0,1])\n",
    "circ.H(1) # change of basis\n",
    "circ.Measure(1, 1)  # X-basis measurement on qubit 1, saving result in bit 1\n",
    "render_circuit_jupyter(circ)"
   ]
  },
  {
   "cell_type": "markdown",
   "id": "1d09ae10",
   "metadata": {},
   "source": [
    "すべての量子ビットを測定する\n",
    "- `Circuit.measure_all()`\n",
    "\n",
    "量子ビット数に対してビット数が少ない場合にはビットを補完する"
   ]
  },
  {
   "cell_type": "code",
   "execution_count": null,
   "id": "ab7a6944",
   "metadata": {},
   "outputs": [],
   "source": [
    "from pytket import Circuit\n",
    "# measure qubit 0 in Z basis and 1 in X basis\n",
    "circ = Circuit(2, 2)\n",
    "circ.measure_all()\n",
    "render_circuit_jupyter(circ)\n",
    "\n",
    "circ = Circuit(2, 1)\n",
    "circ.measure_all()\n",
    "render_circuit_jupyter(circ)\n",
    "\n",
    "# measure_all() adds bits if they are not already defined, so equivalently\n",
    "circ = Circuit(2)\n",
    "circ.measure_all()\n",
    "render_circuit_jupyter(circ)"
   ]
  },
  {
   "cell_type": "markdown",
   "id": "59a8c04a",
   "metadata": {},
   "source": [
    "レジスターを指定して量子ビットを測定する\n",
    "- `Circuit.measure_register('QubitRegister','name of BitRegister to be created')`\n",
    "\n",
    "QubitRegisterのリストは以下で取得可能\n",
    "- `Circuit.q_registers`"
   ]
  },
  {
   "cell_type": "code",
   "execution_count": null,
   "id": "f907253b",
   "metadata": {},
   "outputs": [],
   "source": [
    "circ = Circuit()        # no qubits or bits\n",
    "circ.add_q_register('qb1',2)       # add 2 qubits\n",
    "circ.add_q_register('qb2',1)       # add 1 qubit\n",
    "render_circuit_jupyter(circ)"
   ]
  },
  {
   "cell_type": "code",
   "execution_count": null,
   "id": "6c2c22d5",
   "metadata": {},
   "outputs": [],
   "source": [
    "circ.q_registers"
   ]
  },
  {
   "cell_type": "markdown",
   "id": "4e0c1d11",
   "metadata": {},
   "source": [
    "QubitRegister(\"qb1\", 2)を測定する"
   ]
  },
  {
   "cell_type": "code",
   "execution_count": null,
   "id": "b6531b4b",
   "metadata": {},
   "outputs": [],
   "source": [
    "circ = Circuit()        # no qubits or bits\n",
    "circ.add_q_register('qb1',2)       # add 2 qubits\n",
    "circ.add_q_register('qb2',1)       # add 1 qubit\n",
    "circ.measure_register(circ.q_registers[0],'cb')\n",
    "render_circuit_jupyter(circ)"
   ]
  },
  {
   "cell_type": "code",
   "execution_count": null,
   "id": "74e36be7-213c-494e-ba2a-1b5331e9eb93",
   "metadata": {},
   "outputs": [],
   "source": []
  },
  {
   "cell_type": "markdown",
   "id": "349fde48",
   "metadata": {
    "tags": []
   },
   "source": [
    "## 5. バリア (オプション)\n",
    "バリアは命令として存在しますが、能動的な操作は行いません。その代わり、その機能は2つあります。\n",
    "- 実行時には、バリアより前の操作がバリアより後の操作の開始前に終了していることを保証する。\n",
    "- コンパイル時に、コンパイラがバリアの周囲で操作を並べ替えるのを防ぐ。"
   ]
  },
  {
   "cell_type": "markdown",
   "id": "df2dc331",
   "metadata": {},
   "source": [
    "バリアの挿入\n",
    "- `Circuit.add_barrier(['qubit(s)'],['bit(s)'])`\n",
    "\n",
    "※バリアの除去は`pytket.passes`に組み込まれている\n",
    "- `RemoveBarriers().apply(Circuit)`"
   ]
  },
  {
   "cell_type": "code",
   "execution_count": null,
   "id": "639f078c",
   "metadata": {},
   "outputs": [],
   "source": [
    "from pytket import Circuit\n",
    "circ = Circuit(3, 2)\n",
    "circ.CX(1, 2)\n",
    "circ.Measure(0, 0)\n",
    "circ.Measure(2, 1)\n",
    "render_circuit_jupyter(circ)"
   ]
  },
  {
   "cell_type": "code",
   "execution_count": null,
   "id": "4f324d03",
   "metadata": {},
   "outputs": [],
   "source": [
    "from pytket import Circuit\n",
    "circ = Circuit(3, 2)\n",
    "circ.CX(1, 2)\n",
    "circ.add_barrier([0, 1, 2], [0, 1]) # add a barrier on all qubits and bits\n",
    "circ.Measure(0, 0)\n",
    "circ.Measure(2, 1)\n",
    "render_circuit_jupyter(circ)"
   ]
  },
  {
   "cell_type": "code",
   "execution_count": null,
   "id": "9714916c",
   "metadata": {},
   "outputs": [],
   "source": [
    "from pytket.passes import RemoveBarriers\n",
    "RemoveBarriers().apply(circ)\n",
    "render_circuit_jupyter(circ)"
   ]
  },
  {
   "cell_type": "markdown",
   "id": "22b06abc",
   "metadata": {},
   "source": [
    "# B. tketを使った量子回路の作成　応用編"
   ]
  },
  {
   "cell_type": "markdown",
   "id": "015af107",
   "metadata": {},
   "source": [
    "## 5. 量子回路のボックス化\n",
    "任意の回路を実装するためには、個々の基本ゲートで作業すれば十分ですが、それが最も便利な方法であるとは限りません。\n",
    "一般に、より高度な構造を使って構築した方がはるかに簡単です。\n",
    "pytketでは、複雑な構造を抽象化するために、「ボックス」という概念を用いています。\n",
    "\n",
    "CircBoxでは、Circuitを1つのsubcircuitとして定義し、あたかも1つのゲートであるかのように見せることができます。\n",
    "\n",
    "- `CircBox(Circuit)`\n",
    "\n",
    "としてボックス化することが可能\n",
    "\n",
    "- `Circuit.add_circbox('box name',['qubit(s)'])`\n",
    "\n",
    "としてボックスを作用させる"
   ]
  },
  {
   "cell_type": "code",
   "execution_count": null,
   "id": "e61fade5",
   "metadata": {},
   "outputs": [],
   "source": [
    "from pytket.circuit import Circuit, CircBox\n",
    "sub = Circuit(2)\n",
    "sub.CX(0, 1).Rz(0.2, 1).CX(0, 1)\n",
    "render_circuit_jupyter(sub)\n",
    "sub_box = CircBox(sub)\n",
    "\n",
    "circ = Circuit(3)\n",
    "circ.add_circbox(sub_box, [0, 1])\n",
    "circ.X(1)\n",
    "circ.add_circbox(sub_box, [2, 1])\n",
    "circ.add_circbox(sub_box, [0, 2])\n",
    "render_circuit_jupyter(circ)"
   ]
  },
  {
   "cell_type": "code",
   "execution_count": null,
   "id": "82eb5777-c1bc-4570-851f-6890170fdbe0",
   "metadata": {},
   "outputs": [],
   "source": [
    "from pytket.passes import FullPeepholeOptimise, DecomposeBoxes\n",
    "DecomposeBoxes().apply(circ)\n",
    "FullPeepholeOptimise().apply(circ)\n",
    "render_circuit_jupyter(circ)"
   ]
  },
  {
   "cell_type": "markdown",
   "id": "8849854b",
   "metadata": {},
   "source": [
    "## 6. 制御量子ゲートのカスタマイズ\n",
    "制御量子ビットの状態によって、量子ゲートやサブサーキットをターゲットとなる量子ビットに適用する/しない機能をもった制御量子ゲートをカスタマイズすることができる。\n",
    "- `QControlBox('gate or CircBox','number of c_qubits')`\n",
    "\n",
    "量子ゲートは次の操作でカプセル化をする必要がある\n",
    "\n",
    "回転角の指定: 無 \n",
    "- Op.create(OpType.'gate_name')\n",
    "\n",
    "回転角の指定: 有\n",
    "- Op.create(OpType.'gate_name','angle')"
   ]
  },
  {
   "cell_type": "code",
   "execution_count": null,
   "id": "d3bcc792",
   "metadata": {},
   "outputs": [],
   "source": [
    "from pytket.circuit import Op, OpType, QControlBox\n",
    "ops = Op.create(OpType.S)\n",
    "opRx = Op.create(OpType.Rx,0.25)\n",
    "\n",
    "ccs = QControlBox(ops, 2)\n",
    "ccRx = QControlBox(opRx, 3)\n",
    "cbox = QControlBox(sub_box, 1)\n",
    "\n",
    "circ = Circuit(4)\n",
    "circ.add_qcontrolbox(ccs, [0,2,1])\n",
    "circ.add_qcontrolbox(ccRx, [0,2,3,1])\n",
    "circ.add_qcontrolbox(cbox, [0,2,3])\n",
    "render_circuit_jupyter(circ)"
   ]
  },
  {
   "cell_type": "markdown",
   "id": "4532be85",
   "metadata": {},
   "source": [
    "## 7. 状態の確認とユニタリー行列の確認\n",
    "作成した量子回路が与える量子状態を確認することができます。\n",
    "量子回路の構成が正しいかどうかをチェックするのに役立ちます。\n",
    "\n",
    "量子回路が適用された後のシステムの状態ベクトルを生成。すべての量子ビットが初期化された状態であると仮定しています。\n",
    "- `Circuit.get_statevector()`\n",
    "\n",
    "量子回路で適用されるユニタリー行列を数値的に計算\n",
    "- `Circuit.get_unitary()`"
   ]
  },
  {
   "cell_type": "code",
   "execution_count": null,
   "id": "fca46369",
   "metadata": {},
   "outputs": [],
   "source": [
    "from pytket import Circuit\n",
    "circ=Circuit(2)\n",
    "circ.H(0).CX(0,1)\n",
    "circ.get_statevector()"
   ]
  },
  {
   "cell_type": "code",
   "execution_count": null,
   "id": "90ffeb5a",
   "metadata": {},
   "outputs": [],
   "source": [
    "from pytket import Circuit\n",
    "circ=Circuit(2)\n",
    "circ.H(0).CZ(0,1).H(1)\n",
    "circ.get_unitary()"
   ]
  },
  {
   "cell_type": "markdown",
   "id": "df1f56b3",
   "metadata": {},
   "source": [
    "## 8. 量子回路の解析\n",
    "\n",
    "量子回路の複雑さを測る定量的なものとしてゲート数、深さがある。\n",
    "\n",
    "ゲート数：量子回路に含まれるゲート数\n",
    "\n",
    "深さ：並列に実行可能なゲートを1グループとしたときのグループ数\n",
    "\n",
    "量子回路のゲート数、深さは次で出力できる\n",
    "- `Circuit.n_gates`\n",
    "- `Circuit.depth()`\n",
    "\n",
    "特定の量子ゲート(複数可)に着目して、ゲート数、深さを算出することも可能\n",
    "- `Circuit.n_gates_of_type(OpType.'gate_name')`\n",
    "- `Circuit.depth_by_type(OpType.'gate_name')`\n"
   ]
  },
  {
   "cell_type": "code",
   "execution_count": null,
   "id": "86a871ac",
   "metadata": {},
   "outputs": [],
   "source": [
    "from pytket import Circuit\n",
    "circ = Circuit(3)\n",
    "circ.CX(0, 1).CZ(1, 2).X(1).Rx(0.3, 0)\n",
    "\n",
    "print('Gete number: ', circ.n_gates)\n",
    "print('Circuit depth: ', circ.depth())\n",
    "render_circuit_jupyter(circ)"
   ]
  },
  {
   "cell_type": "code",
   "execution_count": null,
   "id": "592cfe84",
   "metadata": {},
   "outputs": [],
   "source": [
    "from pytket import Circuit, OpType\n",
    "circ = Circuit(4)\n",
    "circ.T(0)\n",
    "circ.CX(0, 1)\n",
    "circ.CX(2, 3)\n",
    "circ.T(3)\n",
    "circ.CZ(0, 2)\n",
    "circ.CZ(1, 3)\n",
    "circ.T(1)\n",
    "\n",
    "print('T number: ', circ.n_gates_of_type(OpType.T))\n",
    "print('CX number: ', circ.n_gates_of_type(OpType.CX))\n",
    "print('CZ number: ', circ.n_gates_of_type(OpType.CZ))\n",
    "print('CX number + CZ number: ', circ.n_gates_of_type(OpType.CX) + circ.n_gates_of_type(OpType.CZ))\n",
    "print('T depth: ', circ.depth_by_type(OpType.T))\n",
    "print('CX & CZ depth: ', circ.depth_by_type({OpType.CX, OpType.CZ}))\n",
    "render_circuit_jupyter(circ)"
   ]
  },
  {
   "cell_type": "markdown",
   "id": "5eededa6",
   "metadata": {},
   "source": [
    "## 9. パラメータ付き量子ゲート\n",
    "似たような構造を持ちながらゲートパラメータを変化させた回路を多数使用する実験が非常に一般的である。\n",
    "VQEやQAOAのような変分アルゴリズムでは、回路パラメータを代数記号として扱い、エネルギーランドスケープを探索しています。\n",
    "\n",
    "- `sympy`の`Symbol`, `symbols`を利用して、量子ゲートのパラメータを代数記号として扱うことができます\n",
    "- `Circuit.symbol_substitution('set of parameter values')`として値の代入可能"
   ]
  },
  {
   "cell_type": "code",
   "execution_count": null,
   "id": "dcbd6b0f",
   "metadata": {},
   "outputs": [],
   "source": [
    "from pytket import Circuit, OpType\n",
    "from sympy import symbols, Symbol\n",
    "from pytket.circuit.display import render_circuit_jupyter\n",
    "a = Symbol(\"a\")\n",
    "b, c = symbols(\"b c\")\n",
    "circ = Circuit(2)\n",
    "circ.Rx(a, 0)\n",
    "circ.Rx(c, 1)\n",
    "circ.CX(0, 1)\n",
    "circ.add_gate(OpType.YYPhase, b, [0, 1])\n",
    "render_circuit_jupyter(circ)"
   ]
  },
  {
   "cell_type": "markdown",
   "id": "858c04a7",
   "metadata": {},
   "source": [
    "代入操作\n",
    "- `symbol_substitution`\n",
    "\n",
    "を利用"
   ]
  },
  {
   "cell_type": "code",
   "execution_count": null,
   "id": "6a79fbef",
   "metadata": {},
   "outputs": [],
   "source": [
    "s_map = {a: 0.3, b:1.25}\n",
    "circ.symbol_substitution(s_map)\n",
    "render_circuit_jupyter(circ)"
   ]
  },
  {
   "cell_type": "markdown",
   "id": "93eebbaa-c8e5-4389-9232-47558db7ab2b",
   "metadata": {},
   "source": [
    "##### tketにも、symbolを用意する関数がある"
   ]
  },
  {
   "cell_type": "code",
   "execution_count": null,
   "id": "534e9a72-4775-4505-9d50-338cae53dd40",
   "metadata": {},
   "outputs": [],
   "source": [
    "from pytket.circuit import fresh_symbol\n",
    "a = fresh_symbol(\"a\")\n",
    "a"
   ]
  },
  {
   "cell_type": "code",
   "execution_count": null,
   "id": "159194b8-376a-4db1-bd04-7fbf6cf7e094",
   "metadata": {},
   "outputs": [],
   "source": [
    "a = fresh_symbol(\"a\")\n",
    "a"
   ]
  },
  {
   "cell_type": "markdown",
   "id": "8f4c7fe9",
   "metadata": {},
   "source": [
    "変数に変数を代入することも可能"
   ]
  },
  {
   "cell_type": "code",
   "execution_count": null,
   "id": "c374cb5f",
   "metadata": {
    "tags": []
   },
   "outputs": [],
   "source": [
    "from pytket import Circuit\n",
    "from sympy import symbols\n",
    "a, b, c = symbols(\"a b c\")\n",
    "circ = Circuit(2)\n",
    "circ.Rx(a, 0).Rx(c, 1).CX(0, 1).add_gate(OpType.YYPhase, b, [0, 1])\n",
    "render_circuit_jupyter(circ)\n",
    "\n",
    "s_map = {a: 2*a, c: a}  # replacement happens simultaneously, and not recursively\n",
    "circ.symbol_substitution(s_map)\n",
    "print(circ.get_commands())\n",
    "render_circuit_jupyter(circ)"
   ]
  },
  {
   "cell_type": "markdown",
   "id": "968803a0",
   "metadata": {},
   "source": [
    "作成したパラメータ付き量子回路が与える量子状態やユニタリー行列を確認することができます。\n",
    "- `circuit_to_symbolic_unitary(Circuit)`\n",
    "- `circuit_apply_symbolic_statevector(Circuit)`\n"
   ]
  },
  {
   "cell_type": "code",
   "execution_count": null,
   "id": "7609ae40",
   "metadata": {},
   "outputs": [],
   "source": [
    "from pytket import Circuit\n",
    "from pytket.utils.symbolic import circuit_apply_symbolic_statevector, circuit_to_symbolic_unitary\n",
    "from sympy import Symbol\n",
    "a = Symbol(\"a\")\n",
    "circ = Circuit(2)\n",
    "circ.Rx(a, 0).CX(0, 1)\n",
    "render_circuit_jupyter(circ)\n",
    "display(circuit_apply_symbolic_statevector(circ))\n",
    "circuit_to_symbolic_unitary(circ)"
   ]
  },
  {
   "cell_type": "markdown",
   "id": "977f67c8",
   "metadata": {},
   "source": [
    "## 10. 量子回路レベルのオペレーション\n",
    "随伴の作用\n",
    "- `Circuit.dagger()`\n",
    "\n",
    "circuitのクラスターをcircuitに作用\n",
    "- `Circuit1.append(Circuit2)`\n"
   ]
  },
  {
   "cell_type": "code",
   "execution_count": null,
   "id": "fce9a2f6",
   "metadata": {},
   "outputs": [],
   "source": [
    "from pytket import Circuit\n",
    "# we want a circuit for E = exp(-i pi (0.3 XX + 0.1 YY))\n",
    "circ = Circuit(2)\n",
    "\n",
    "# find C such that C; Rx(a, 0); C^dagger performs exp(-i a pi XX/2)\n",
    "# and C; Rz(b, 1); C^dagger performs exp(-i b pi YY/2)\n",
    "conj = Circuit(2)\n",
    "conj.V(0).V(1).CV(0, 1)\n",
    "render_circuit_jupyter(conj)\n",
    "conj_dag = conj.dagger()\n",
    "render_circuit_jupyter(conj_dag)\n",
    "\n",
    "circ.append(conj)\n",
    "circ.Rx(0.6, 0).Rz(0.2, 1)\n",
    "circ.append(conj_dag)\n",
    "render_circuit_jupyter(circ)\n"
   ]
  },
  {
   "cell_type": "code",
   "execution_count": null,
   "id": "f070b0bd-673d-4edc-a425-8169c3581ad0",
   "metadata": {},
   "outputs": [],
   "source": []
  },
  {
   "cell_type": "code",
   "execution_count": null,
   "id": "0acd2e63-6b49-4bd2-be5d-71d6c26954be",
   "metadata": {},
   "outputs": [],
   "source": []
  }
 ],
 "metadata": {
  "instance_type": "ml.t3.medium",
  "kernelspec": {
   "display_name": "Python 3 (ipykernel)",
   "language": "python",
   "name": "python3"
  },
  "language_info": {
   "codemirror_mode": {
    "name": "ipython",
    "version": 3
   },
   "file_extension": ".py",
   "mimetype": "text/x-python",
   "name": "python",
   "nbconvert_exporter": "python",
   "pygments_lexer": "ipython3",
   "version": "3.9.7"
  }
 },
 "nbformat": 4,
 "nbformat_minor": 5
}
