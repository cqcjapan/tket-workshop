{
 "cells": [
  {
   "cell_type": "markdown",
   "id": "24dca3e1-5b10-4590-a439-cd445a7c7ffe",
   "metadata": {
    "tags": []
   },
   "source": [
    "## 0. 今日の量子コンピュータの問題\n",
    "\n",
    "- Noisy Intermediate-Scale Quantum (NISQ) デバイス\n",
    "    - 量子回路が深くなる（ゲート数が多くなる）ほど、誤差が大きくなる\n",
    "    - 十分な量子ビット数ではない\n",
    "- 量子デバイスは特別なゲート演算のみが用意されている\n",
    "- 特定のqubits間の量子ビット演算(multi qubit operation)しか用意されていない\n",
    "- それぞれの量子デバイスに対して、量子ソフトウェアツールキットが用意されてる\n"
   ]
  },
  {
   "cell_type": "markdown",
   "id": "0d1bf6c2-baa2-48b6-9ceb-a207b3432f13",
   "metadata": {
    "tags": []
   },
   "source": [
    "### 0-1. TKETとは\n",
    "- Quantum Software Development Kit\n",
    "- C++で実装\n",
    "- pythonモジュール　`pytket`で利用可能\n",
    "- 最適化コンパイラ：　ユーザーフレンドリーな回路→量子デバイスで実行可能な回路に変換可能\n",
    "    - Language-agnostic (多くの量子プログラミングフレームワーク(qiskit, Cirq, etc)をサポート)\n",
    "    - Retagetable (多くの量子デバイス(IBM, Quantinuum, etc)をサポート)\n",
    "    - Circuit Optimisation (量子計算時に生じるデバイスエラーの影響を最小化。デバイス依存＆デバイス非依存のものが実装)\n",
    "\n",
    "<img src=\"fig/tket1.png\" width=\"750\">\r\n"
   ]
  },
  {
   "cell_type": "markdown",
   "id": "e5f86d01-ddfa-4e4d-882b-5fd9a92af73b",
   "metadata": {},
   "source": [
    "#### 参照\n",
    "- [pytket ドキュメント](https://cqcl.github.io/tket/pytket/api/index.html)\n",
    "- [pytket ユーザーマニュアル](https://cqcl.github.io/pytket/manual/index.html)\n",
    "- [t|ket⟩ : A Retargetable Compiler for NISQ Devices](https://arxiv.org/abs/2003.10611)"
   ]
  },
  {
   "cell_type": "markdown",
   "id": "f2f12742-9d25-4085-adca-af05ee83eb6c",
   "metadata": {},
   "source": [
    "### 0-2. 今回必要となる python パッケージ\n",
    "Python 3.9.17で動作確認をしています。\n",
    "\n",
    "|  パッケージ （version） |  概要  |\n",
    "| :---- | :---- |\n",
    "|  pytket |  TKETを利用するためのpython モジュール  ( available for python3.7 or higher )|\n",
    "|  pytket-qiskit  |  qiskitを利用するためのpytket-extension  |\n",
    "\n",
    "<img src=\"fig/tket2.png\" width=\"750\">"
   ]
  },
  {
   "cell_type": "markdown",
   "id": "65d28c1b-cec9-475d-b9ab-9661f59fc002",
   "metadata": {},
   "source": [
    "環境にインストールされていない場合は、以下のセルの＃を取り除き、インストールしてください。"
   ]
  },
  {
   "cell_type": "code",
   "execution_count": null,
   "id": "d097c463-61f5-48c1-a88e-0254eda976cc",
   "metadata": {},
   "outputs": [],
   "source": [
    "#!pip install -U pytket\n",
    "#!pip install -U pytket-qiskit\n",
    "#!pip install -U pytket-qsharp"
   ]
  },
  {
   "cell_type": "code",
   "execution_count": null,
   "id": "ede9e204",
   "metadata": {},
   "outputs": [],
   "source": [
    "#pip freeze |grep pytket"
   ]
  },
  {
   "cell_type": "markdown",
   "id": "055374de-c8e1-4690-a39d-ec21dec38de8",
   "metadata": {
    "tags": []
   },
   "source": [
    "## 1. 量子回路の作成\n",
    "ここでは IBMの量子デバイスやシュミレーションを利用できる`qiskit`と`TKET`でベル状態を作成する。"
   ]
  },
  {
   "cell_type": "markdown",
   "id": "7c19bcd2-2123-4c55-8cf4-783eb44da88a",
   "metadata": {},
   "source": [
    "### 1-1. `qiskit`でベル状態を作成\n",
    "$$ |\\Psi\\rangle = \\frac{1}{\\sqrt{2}}(|00\\rangle+|11\\rangle)$$"
   ]
  },
  {
   "cell_type": "code",
   "execution_count": null,
   "id": "e09f8b90-3350-4fea-a0e4-a3503a81bff8",
   "metadata": {},
   "outputs": [],
   "source": [
    "from qiskit import QuantumCircuit\n",
    "\n",
    "qiskit_bell = QuantumCircuit(2)\n",
    "qiskit_bell.h(0)\n",
    "qiskit_bell.cx(0,1)\n",
    "qiskit_bell.measure_all()\n",
    "\n",
    "qiskit_bell.draw()"
   ]
  },
  {
   "cell_type": "markdown",
   "id": "58c454b7-c617-4326-9005-553e88531d29",
   "metadata": {},
   "source": [
    "### 1-2. `tket`でベル状態を作成"
   ]
  },
  {
   "cell_type": "code",
   "execution_count": null,
   "id": "2e492549-c306-471d-9c02-7a990a5f119c",
   "metadata": {},
   "outputs": [],
   "source": [
    "from pytket import Circuit\n",
    "from pytket.circuit.display import render_circuit_jupyter\n",
    "\n",
    "bell = Circuit(2)\n",
    "bell.H(0).CX(0,1)\n",
    "bell.measure_all()\n",
    "\n",
    "render_circuit_jupyter(bell)"
   ]
  },
  {
   "cell_type": "code",
   "execution_count": null,
   "id": "c2da736e-d4f9-4749-8e36-16651b89ff02",
   "metadata": {
    "collapsed": false,
    "jupyter": {
     "outputs_hidden": false,
     "source_hidden": false
    },
    "nteract": {
     "transient": {
      "deleting": false
     }
    }
   },
   "outputs": [],
   "source": [
    "#bell.to_latex_file(\"bell.tex\")"
   ]
  },
  {
   "cell_type": "markdown",
   "id": "a78326dd-594b-4393-9aeb-bc91922a98c6",
   "metadata": {
    "tags": []
   },
   "source": [
    "## 2. 量子回路の交換\n",
    "pytketでは\n",
    "- qiskitで記述した量子回路(`qiskit.QuantumCircuit`)からtketの量子回路のクラスに変換が可能\n",
    "- tketで記述した量子回路からqiskitの量子回路(`qiskit.QuantumCircuit`)のクラスに変換が可能\n",
    "- tketで記述した量子回路と他の量子プログラミング言語での量子回路の交換が可能\n",
    "\n",
    "参照：[pytket-extensions](https://cqcl.github.io/pytket-extensions/api/index.html) "
   ]
  },
  {
   "cell_type": "markdown",
   "id": "cfb669b0-5286-45ea-a1ea-da3300c03976",
   "metadata": {},
   "source": [
    "### 2-1. `qiskit`の量子回路から`tket`の量子回路に変換"
   ]
  },
  {
   "cell_type": "code",
   "execution_count": null,
   "id": "f962f651-962d-4336-8f30-7fa77a7ee22a",
   "metadata": {},
   "outputs": [],
   "source": [
    "from pytket.extensions.qiskit import qiskit_to_tk"
   ]
  },
  {
   "cell_type": "code",
   "execution_count": null,
   "id": "f8dc8d61-9a5e-415b-bc33-cfde67a7a101",
   "metadata": {},
   "outputs": [],
   "source": [
    "bell2 = qiskit_to_tk(qiskit_bell)\n",
    "render_circuit_jupyter(bell2)"
   ]
  },
  {
   "cell_type": "markdown",
   "id": "f408f8ad-855e-49a4-a5f5-873f7d4ac22a",
   "metadata": {},
   "source": [
    "### 2-2. `tket`の量子回路から`qiskit`の量子回路に変換"
   ]
  },
  {
   "cell_type": "code",
   "execution_count": null,
   "id": "e091311c-fa15-4749-bbaf-92ff1cf0e2b0",
   "metadata": {},
   "outputs": [],
   "source": [
    "from pytket.extensions.qiskit import tk_to_qiskit"
   ]
  },
  {
   "cell_type": "code",
   "execution_count": null,
   "id": "03cd2eb9-4a60-4d01-8f82-17351ce75bbb",
   "metadata": {},
   "outputs": [],
   "source": [
    "qiskit_bell1 = tk_to_qiskit(bell)\n",
    "qiskit_bell1.draw()"
   ]
  },
  {
   "cell_type": "markdown",
   "id": "7c778720-00d7-496e-8581-a9d1de274744",
   "metadata": {},
   "source": [
    "## 3. TKETで記述した量子回路をIBM Quantumのシュミレータで実行"
   ]
  },
  {
   "cell_type": "code",
   "execution_count": null,
   "id": "1800e3e8-1990-473f-9887-d55213cb42d5",
   "metadata": {},
   "outputs": [],
   "source": [
    "from pytket.extensions.qiskit import AerBackend\n",
    "from qiskit.visualization import plot_histogram\n",
    "backend = AerBackend()\n",
    "\n",
    "handle = backend.process_circuit(bell, n_shots =1000)\n",
    "result_counts = backend.get_result(handle).get_counts()\n",
    "plot_histogram(result_counts)"
   ]
  },
  {
   "cell_type": "markdown",
   "id": "477a4ed5-6df3-4474-870a-65a687f3fe1f",
   "metadata": {
    "tags": []
   },
   "source": [
    "## 4. 量子回路の最適化\n",
    "例えば、Hゲートを同じビットに連続して作用させるとゲート操作をしていないのと恒等な量子状態が得られます。\n",
    "\n",
    "量子回路が深くなる（ゲート数が多くなる）ほど、誤差が大きくなるNISQ デバイスでは左辺のような状況は除去したい。\n",
    "\n",
    "その他にも様々な恒等な関係があります。"
   ]
  },
  {
   "cell_type": "markdown",
   "id": "c9e3aa59-32ec-493f-9f11-ef24218d1815",
   "metadata": {},
   "source": [
    "### 4-1. PauliSimp 関数を利用した、量子回路の最適化\n",
    "TKETには量子回路を最適化する様々な機能が用意されている。\n",
    "ここでは、PauliSimp 関数を利用した回路の最適化を行う。\n",
    "\n",
    "（PauliSimp 関数：Pauli ゲートとCliffordゲートで表現された量子回路を出力）\n",
    "\n",
    "ランダムな量子回路を作成し、回路の深さとCXの深さを数える。"
   ]
  },
  {
   "cell_type": "code",
   "execution_count": null,
   "id": "402d5d42-e2b6-4519-b87b-737b1574035d",
   "metadata": {},
   "outputs": [],
   "source": [
    "from pytket.pauli import Pauli\n",
    "from pytket.circuit import PauliExpBox, fresh_symbol, OpType\n",
    "from pytket.passes import DecomposeBoxes\n",
    "box = PauliExpBox([Pauli.I, Pauli.Z, Pauli.X, Pauli.Y], fresh_symbol('tm'))\n",
    "from pytket.utils import Graph\n",
    "import numpy as np\n",
    "\n",
    "def get_random_pauli_gadgets(n_qubits, n_pauli_gadgets, max_entangle):\n",
    "    \"\"\" \"\"\"\n",
    "    paulis = [Pauli.I, Pauli.X, Pauli.Y, Pauli.Z]\n",
    "    circ = Circuit(n_qubits)\n",
    "    for i in range(n_pauli_gadgets):\n",
    "        ls_paulis = [np.random.choice(paulis) for k in range(max_entangle)]\n",
    "        if ls_paulis.count(Pauli.Y) % 2 == 0:\n",
    "            continue\n",
    "        if len(ls_paulis) - ls_paulis.count(Pauli.I) <= 1:\n",
    "            continue\n",
    "        qubits = np.random.choice(\n",
    "            [i for i in range(n_qubits)], size=max_entangle, replace=False\n",
    "        )\n",
    "        box = PauliExpBox(ls_paulis, fresh_symbol('a'))\n",
    "        circ.add_pauliexpbox(box, sorted(qubits))\n",
    "    DecomposeBoxes().apply(circ)\n",
    "    return circ\n",
    "\n",
    "circ = get_random_pauli_gadgets(\n",
    "    n_qubits=8, n_pauli_gadgets=300, max_entangle=5\n",
    ")\n",
    "print('Circuit depth: ', circ.depth())\n",
    "print('CX depth: ', circ.depth_by_type(OpType.CX))\n",
    "render_circuit_jupyter(circ)"
   ]
  },
  {
   "cell_type": "markdown",
   "id": "f072cb25-fdd3-46c1-86bc-6bdc2e34b9db",
   "metadata": {},
   "source": [
    "PauliSimp 関数を使って、量子回路の最適化"
   ]
  },
  {
   "cell_type": "code",
   "execution_count": null,
   "id": "bc23a5f4-22ad-432c-9a23-9b2c944cca45",
   "metadata": {},
   "outputs": [],
   "source": [
    "# Circuit optimization by using compiler passes.\n",
    "from pytket.passes import PauliSimp\n",
    "circx = circ.copy()\n",
    "PauliSimp().apply(circx)\n",
    "print('Circuit depth: ', circx.depth())\n",
    "print('CX depth: ', circx.depth_by_type(OpType.CX))\n",
    "#render_circuit_jupyter(circx)"
   ]
  },
  {
   "cell_type": "code",
   "execution_count": null,
   "id": "b4a590fe-a933-4213-95a3-07026075eb77",
   "metadata": {
    "collapsed": false,
    "jupyter": {
     "outputs_hidden": false,
     "source_hidden": false
    },
    "nteract": {
     "transient": {
      "deleting": false
     }
    }
   },
   "outputs": [],
   "source": []
  },
  {
   "cell_type": "code",
   "execution_count": null,
   "id": "31ffb19b-4cda-44cc-af01-327f8e8352f0",
   "metadata": {
    "collapsed": false,
    "jupyter": {
     "outputs_hidden": false,
     "source_hidden": false
    },
    "nteract": {
     "transient": {
      "deleting": false
     }
    }
   },
   "outputs": [],
   "source": []
  }
 ],
 "metadata": {
  "instance_type": "ml.t3.medium",
  "kernel_info": {
   "name": "python3"
  },
  "kernelspec": {
   "display_name": "Python 3 (ipykernel)",
   "language": "python",
   "name": "python3"
  },
  "language_info": {
   "codemirror_mode": {
    "name": "ipython",
    "version": 3
   },
   "file_extension": ".py",
   "mimetype": "text/x-python",
   "name": "python",
   "nbconvert_exporter": "python",
   "pygments_lexer": "ipython3",
   "version": "3.10.11"
  },
  "nteract": {
   "version": "nteract-front-end@1.0.0"
  }
 },
 "nbformat": 4,
 "nbformat_minor": 5
}
